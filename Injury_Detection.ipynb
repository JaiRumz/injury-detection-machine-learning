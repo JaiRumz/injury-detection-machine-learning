{
  "cells": [
    {
      "cell_type": "code",
      "execution_count": null,
      "metadata": {
        "id": "_pBLdF1nBlYQ"
      },
      "outputs": [],
      "source": [
        "import pandas as pd\n",
        "import numpy as np"
      ]
    },
    {
      "cell_type": "code",
      "execution_count": null,
      "metadata": {
        "id": "3G4mVo6Kz9mf"
      },
      "outputs": [],
      "source": [
        "import matplotlib.pyplot as plt\n",
        "import seaborn as sns\n",
        "from sklearn.tree import DecisionTreeClassifier\n",
        "from sklearn import preprocessing, tree\n",
        "from sklearn.model_selection import train_test_split, GridSearchCV\n",
        "from sklearn.metrics import classification_report, confusion_matrix, ConfusionMatrixDisplay\n",
        "from sklearn.metrics import accuracy_score"
      ]
    },
    {
      "cell_type": "code",
      "execution_count": null,
      "metadata": {
        "id": "mjj0jQ1zG3xz"
      },
      "outputs": [],
      "source": [
        "df = pd.read_csv('Traffic_Crashes_-_Crashes.csv')"
      ]
    },
    {
      "cell_type": "markdown",
      "metadata": {
        "id": "k7uYFsEgKhUO"
      },
      "source": [
        "# **EXPLORATORY DATA ANALYSIS AND DATA CLEANING**"
      ]
    },
    {
      "cell_type": "code",
      "execution_count": null,
      "metadata": {
        "colab": {
          "base_uri": "https://localhost:8080/"
        },
        "id": "jygv8l1VGSeK",
        "outputId": "9dec4c06-2c4c-479a-a736-a0e448a302b1"
      },
      "outputs": [
        {
          "data": {
            "text/plain": [
              "748725"
            ]
          },
          "execution_count": 5,
          "metadata": {},
          "output_type": "execute_result"
        }
      ],
      "source": [
        "len(df)"
      ]
    },
    {
      "cell_type": "code",
      "execution_count": null,
      "metadata": {
        "colab": {
          "base_uri": "https://localhost:8080/",
          "height": 429
        },
        "id": "vMkPPQRkG74A",
        "outputId": "4cc30c95-9537-4b35-f975-2a7a92428569"
      },
      "outputs": [
        {
          "data": {
            "text/html": [
              "\n",
              "  <div id=\"df-d70d3bc8-7525-43c8-8b75-7698a1b66a4a\" class=\"colab-df-container\">\n",
              "    <div>\n",
              "<style scoped>\n",
              "    .dataframe tbody tr th:only-of-type {\n",
              "        vertical-align: middle;\n",
              "    }\n",
              "\n",
              "    .dataframe tbody tr th {\n",
              "        vertical-align: top;\n",
              "    }\n",
              "\n",
              "    .dataframe thead th {\n",
              "        text-align: right;\n",
              "    }\n",
              "</style>\n",
              "<table border=\"1\" class=\"dataframe\">\n",
              "  <thead>\n",
              "    <tr style=\"text-align: right;\">\n",
              "      <th></th>\n",
              "      <th>CRASH_RECORD_ID</th>\n",
              "      <th>RD_NO</th>\n",
              "      <th>CRASH_DATE_EST_I</th>\n",
              "      <th>CRASH_DATE</th>\n",
              "      <th>POSTED_SPEED_LIMIT</th>\n",
              "      <th>TRAFFIC_CONTROL_DEVICE</th>\n",
              "      <th>DEVICE_CONDITION</th>\n",
              "      <th>WEATHER_CONDITION</th>\n",
              "      <th>LIGHTING_CONDITION</th>\n",
              "      <th>FIRST_CRASH_TYPE</th>\n",
              "      <th>...</th>\n",
              "      <th>INJURIES_NON_INCAPACITATING</th>\n",
              "      <th>INJURIES_REPORTED_NOT_EVIDENT</th>\n",
              "      <th>INJURIES_NO_INDICATION</th>\n",
              "      <th>INJURIES_UNKNOWN</th>\n",
              "      <th>CRASH_HOUR</th>\n",
              "      <th>CRASH_DAY_OF_WEEK</th>\n",
              "      <th>CRASH_MONTH</th>\n",
              "      <th>LATITUDE</th>\n",
              "      <th>LONGITUDE</th>\n",
              "      <th>LOCATION</th>\n",
              "    </tr>\n",
              "  </thead>\n",
              "  <tbody>\n",
              "    <tr>\n",
              "      <th>0</th>\n",
              "      <td>012c5bfce715efb2f2b387d6dd86f9c13e9dc1809fb52a...</td>\n",
              "      <td>JG341943</td>\n",
              "      <td>NaN</td>\n",
              "      <td>07-12-2023 15:05</td>\n",
              "      <td>30</td>\n",
              "      <td>NO CONTROLS</td>\n",
              "      <td>NO CONTROLS</td>\n",
              "      <td>CLEAR</td>\n",
              "      <td>DAYLIGHT</td>\n",
              "      <td>TURNING</td>\n",
              "      <td>...</td>\n",
              "      <td>0.0</td>\n",
              "      <td>0.0</td>\n",
              "      <td>2.0</td>\n",
              "      <td>0.0</td>\n",
              "      <td>15</td>\n",
              "      <td>4</td>\n",
              "      <td>7</td>\n",
              "      <td>41.778542</td>\n",
              "      <td>-87.742065</td>\n",
              "      <td>POINT (-87.742064741348 41.778541938106)</td>\n",
              "    </tr>\n",
              "    <tr>\n",
              "      <th>1</th>\n",
              "      <td>01d457f032e23d935a0b8f6b4c88221375180ffd4cd959...</td>\n",
              "      <td>JG338388</td>\n",
              "      <td>NaN</td>\n",
              "      <td>07-12-2023 17:50</td>\n",
              "      <td>30</td>\n",
              "      <td>NO CONTROLS</td>\n",
              "      <td>NO CONTROLS</td>\n",
              "      <td>CLEAR</td>\n",
              "      <td>DAYLIGHT</td>\n",
              "      <td>REAR END</td>\n",
              "      <td>...</td>\n",
              "      <td>0.0</td>\n",
              "      <td>0.0</td>\n",
              "      <td>2.0</td>\n",
              "      <td>0.0</td>\n",
              "      <td>17</td>\n",
              "      <td>4</td>\n",
              "      <td>7</td>\n",
              "      <td>41.742131</td>\n",
              "      <td>-87.721824</td>\n",
              "      <td>POINT (-87.72182410033 41.742130554062)</td>\n",
              "    </tr>\n",
              "    <tr>\n",
              "      <th>2</th>\n",
              "      <td>02249b4747a4bf40b88a8357304a98dfeaef9c38eebbf0...</td>\n",
              "      <td>JG350008</td>\n",
              "      <td>NaN</td>\n",
              "      <td>07-12-2023 14:00</td>\n",
              "      <td>30</td>\n",
              "      <td>NO CONTROLS</td>\n",
              "      <td>NO CONTROLS</td>\n",
              "      <td>CLEAR</td>\n",
              "      <td>DAYLIGHT</td>\n",
              "      <td>OTHER OBJECT</td>\n",
              "      <td>...</td>\n",
              "      <td>0.0</td>\n",
              "      <td>0.0</td>\n",
              "      <td>1.0</td>\n",
              "      <td>0.0</td>\n",
              "      <td>14</td>\n",
              "      <td>4</td>\n",
              "      <td>7</td>\n",
              "      <td>41.719844</td>\n",
              "      <td>-87.584790</td>\n",
              "      <td>POINT (-87.584789974824 41.719844228292)</td>\n",
              "    </tr>\n",
              "    <tr>\n",
              "      <th>3</th>\n",
              "      <td>03e3b6caad71b78ed9ae325648effa9512bfb2517aed30...</td>\n",
              "      <td>JG338049</td>\n",
              "      <td>NaN</td>\n",
              "      <td>07-12-2023 07:05</td>\n",
              "      <td>30</td>\n",
              "      <td>TRAFFIC SIGNAL</td>\n",
              "      <td>UNKNOWN</td>\n",
              "      <td>FREEZING RAIN/DRIZZLE</td>\n",
              "      <td>DAYLIGHT</td>\n",
              "      <td>REAR END</td>\n",
              "      <td>...</td>\n",
              "      <td>0.0</td>\n",
              "      <td>0.0</td>\n",
              "      <td>2.0</td>\n",
              "      <td>0.0</td>\n",
              "      <td>7</td>\n",
              "      <td>4</td>\n",
              "      <td>7</td>\n",
              "      <td>41.925105</td>\n",
              "      <td>-87.668291</td>\n",
              "      <td>POINT (-87.668291181568 41.925104953308)</td>\n",
              "    </tr>\n",
              "    <tr>\n",
              "      <th>4</th>\n",
              "      <td>0481fc919b38f1572d4ba04b069766102d904a662ff096...</td>\n",
              "      <td>JG338431</td>\n",
              "      <td>NaN</td>\n",
              "      <td>07-12-2023 18:30</td>\n",
              "      <td>30</td>\n",
              "      <td>NO CONTROLS</td>\n",
              "      <td>NO CONTROLS</td>\n",
              "      <td>CLEAR</td>\n",
              "      <td>DAYLIGHT</td>\n",
              "      <td>REAR END</td>\n",
              "      <td>...</td>\n",
              "      <td>0.0</td>\n",
              "      <td>0.0</td>\n",
              "      <td>2.0</td>\n",
              "      <td>0.0</td>\n",
              "      <td>18</td>\n",
              "      <td>4</td>\n",
              "      <td>7</td>\n",
              "      <td>41.975258</td>\n",
              "      <td>-87.751991</td>\n",
              "      <td>POINT (-87.751990557158 41.97525809527)</td>\n",
              "    </tr>\n",
              "  </tbody>\n",
              "</table>\n",
              "<p>5 rows × 49 columns</p>\n",
              "</div>\n",
              "    <div class=\"colab-df-buttons\">\n",
              "\n",
              "  <div class=\"colab-df-container\">\n",
              "    <button class=\"colab-df-convert\" onclick=\"convertToInteractive('df-d70d3bc8-7525-43c8-8b75-7698a1b66a4a')\"\n",
              "            title=\"Convert this dataframe to an interactive table.\"\n",
              "            style=\"display:none;\">\n",
              "\n",
              "  <svg xmlns=\"http://www.w3.org/2000/svg\" height=\"24px\" viewBox=\"0 -960 960 960\">\n",
              "    <path d=\"M120-120v-720h720v720H120Zm60-500h600v-160H180v160Zm220 220h160v-160H400v160Zm0 220h160v-160H400v160ZM180-400h160v-160H180v160Zm440 0h160v-160H620v160ZM180-180h160v-160H180v160Zm440 0h160v-160H620v160Z\"/>\n",
              "  </svg>\n",
              "    </button>\n",
              "\n",
              "  <style>\n",
              "    .colab-df-container {\n",
              "      display:flex;\n",
              "      gap: 12px;\n",
              "    }\n",
              "\n",
              "    .colab-df-convert {\n",
              "      background-color: #E8F0FE;\n",
              "      border: none;\n",
              "      border-radius: 50%;\n",
              "      cursor: pointer;\n",
              "      display: none;\n",
              "      fill: #1967D2;\n",
              "      height: 32px;\n",
              "      padding: 0 0 0 0;\n",
              "      width: 32px;\n",
              "    }\n",
              "\n",
              "    .colab-df-convert:hover {\n",
              "      background-color: #E2EBFA;\n",
              "      box-shadow: 0px 1px 2px rgba(60, 64, 67, 0.3), 0px 1px 3px 1px rgba(60, 64, 67, 0.15);\n",
              "      fill: #174EA6;\n",
              "    }\n",
              "\n",
              "    .colab-df-buttons div {\n",
              "      margin-bottom: 4px;\n",
              "    }\n",
              "\n",
              "    [theme=dark] .colab-df-convert {\n",
              "      background-color: #3B4455;\n",
              "      fill: #D2E3FC;\n",
              "    }\n",
              "\n",
              "    [theme=dark] .colab-df-convert:hover {\n",
              "      background-color: #434B5C;\n",
              "      box-shadow: 0px 1px 3px 1px rgba(0, 0, 0, 0.15);\n",
              "      filter: drop-shadow(0px 1px 2px rgba(0, 0, 0, 0.3));\n",
              "      fill: #FFFFFF;\n",
              "    }\n",
              "  </style>\n",
              "\n",
              "    <script>\n",
              "      const buttonEl =\n",
              "        document.querySelector('#df-d70d3bc8-7525-43c8-8b75-7698a1b66a4a button.colab-df-convert');\n",
              "      buttonEl.style.display =\n",
              "        google.colab.kernel.accessAllowed ? 'block' : 'none';\n",
              "\n",
              "      async function convertToInteractive(key) {\n",
              "        const element = document.querySelector('#df-d70d3bc8-7525-43c8-8b75-7698a1b66a4a');\n",
              "        const dataTable =\n",
              "          await google.colab.kernel.invokeFunction('convertToInteractive',\n",
              "                                                    [key], {});\n",
              "        if (!dataTable) return;\n",
              "\n",
              "        const docLinkHtml = 'Like what you see? Visit the ' +\n",
              "          '<a target=\"_blank\" href=https://colab.research.google.com/notebooks/data_table.ipynb>data table notebook</a>'\n",
              "          + ' to learn more about interactive tables.';\n",
              "        element.innerHTML = '';\n",
              "        dataTable['output_type'] = 'display_data';\n",
              "        await google.colab.output.renderOutput(dataTable, element);\n",
              "        const docLink = document.createElement('div');\n",
              "        docLink.innerHTML = docLinkHtml;\n",
              "        element.appendChild(docLink);\n",
              "      }\n",
              "    </script>\n",
              "  </div>\n",
              "\n",
              "\n",
              "<div id=\"df-0a659d20-1e7f-4dd2-bf9b-0b572e667e82\">\n",
              "  <button class=\"colab-df-quickchart\" onclick=\"quickchart('df-0a659d20-1e7f-4dd2-bf9b-0b572e667e82')\"\n",
              "            title=\"Suggest charts.\"\n",
              "            style=\"display:none;\">\n",
              "\n",
              "<svg xmlns=\"http://www.w3.org/2000/svg\" height=\"24px\"viewBox=\"0 0 24 24\"\n",
              "     width=\"24px\">\n",
              "    <g>\n",
              "        <path d=\"M19 3H5c-1.1 0-2 .9-2 2v14c0 1.1.9 2 2 2h14c1.1 0 2-.9 2-2V5c0-1.1-.9-2-2-2zM9 17H7v-7h2v7zm4 0h-2V7h2v10zm4 0h-2v-4h2v4z\"/>\n",
              "    </g>\n",
              "</svg>\n",
              "  </button>\n",
              "\n",
              "<style>\n",
              "  .colab-df-quickchart {\n",
              "      --bg-color: #E8F0FE;\n",
              "      --fill-color: #1967D2;\n",
              "      --hover-bg-color: #E2EBFA;\n",
              "      --hover-fill-color: #174EA6;\n",
              "      --disabled-fill-color: #AAA;\n",
              "      --disabled-bg-color: #DDD;\n",
              "  }\n",
              "\n",
              "  [theme=dark] .colab-df-quickchart {\n",
              "      --bg-color: #3B4455;\n",
              "      --fill-color: #D2E3FC;\n",
              "      --hover-bg-color: #434B5C;\n",
              "      --hover-fill-color: #FFFFFF;\n",
              "      --disabled-bg-color: #3B4455;\n",
              "      --disabled-fill-color: #666;\n",
              "  }\n",
              "\n",
              "  .colab-df-quickchart {\n",
              "    background-color: var(--bg-color);\n",
              "    border: none;\n",
              "    border-radius: 50%;\n",
              "    cursor: pointer;\n",
              "    display: none;\n",
              "    fill: var(--fill-color);\n",
              "    height: 32px;\n",
              "    padding: 0;\n",
              "    width: 32px;\n",
              "  }\n",
              "\n",
              "  .colab-df-quickchart:hover {\n",
              "    background-color: var(--hover-bg-color);\n",
              "    box-shadow: 0 1px 2px rgba(60, 64, 67, 0.3), 0 1px 3px 1px rgba(60, 64, 67, 0.15);\n",
              "    fill: var(--button-hover-fill-color);\n",
              "  }\n",
              "\n",
              "  .colab-df-quickchart-complete:disabled,\n",
              "  .colab-df-quickchart-complete:disabled:hover {\n",
              "    background-color: var(--disabled-bg-color);\n",
              "    fill: var(--disabled-fill-color);\n",
              "    box-shadow: none;\n",
              "  }\n",
              "\n",
              "  .colab-df-spinner {\n",
              "    border: 2px solid var(--fill-color);\n",
              "    border-color: transparent;\n",
              "    border-bottom-color: var(--fill-color);\n",
              "    animation:\n",
              "      spin 1s steps(1) infinite;\n",
              "  }\n",
              "\n",
              "  @keyframes spin {\n",
              "    0% {\n",
              "      border-color: transparent;\n",
              "      border-bottom-color: var(--fill-color);\n",
              "      border-left-color: var(--fill-color);\n",
              "    }\n",
              "    20% {\n",
              "      border-color: transparent;\n",
              "      border-left-color: var(--fill-color);\n",
              "      border-top-color: var(--fill-color);\n",
              "    }\n",
              "    30% {\n",
              "      border-color: transparent;\n",
              "      border-left-color: var(--fill-color);\n",
              "      border-top-color: var(--fill-color);\n",
              "      border-right-color: var(--fill-color);\n",
              "    }\n",
              "    40% {\n",
              "      border-color: transparent;\n",
              "      border-right-color: var(--fill-color);\n",
              "      border-top-color: var(--fill-color);\n",
              "    }\n",
              "    60% {\n",
              "      border-color: transparent;\n",
              "      border-right-color: var(--fill-color);\n",
              "    }\n",
              "    80% {\n",
              "      border-color: transparent;\n",
              "      border-right-color: var(--fill-color);\n",
              "      border-bottom-color: var(--fill-color);\n",
              "    }\n",
              "    90% {\n",
              "      border-color: transparent;\n",
              "      border-bottom-color: var(--fill-color);\n",
              "    }\n",
              "  }\n",
              "</style>\n",
              "\n",
              "  <script>\n",
              "    async function quickchart(key) {\n",
              "      const quickchartButtonEl =\n",
              "        document.querySelector('#' + key + ' button');\n",
              "      quickchartButtonEl.disabled = true;  // To prevent multiple clicks.\n",
              "      quickchartButtonEl.classList.add('colab-df-spinner');\n",
              "      try {\n",
              "        const charts = await google.colab.kernel.invokeFunction(\n",
              "            'suggestCharts', [key], {});\n",
              "      } catch (error) {\n",
              "        console.error('Error during call to suggestCharts:', error);\n",
              "      }\n",
              "      quickchartButtonEl.classList.remove('colab-df-spinner');\n",
              "      quickchartButtonEl.classList.add('colab-df-quickchart-complete');\n",
              "    }\n",
              "    (() => {\n",
              "      let quickchartButtonEl =\n",
              "        document.querySelector('#df-0a659d20-1e7f-4dd2-bf9b-0b572e667e82 button');\n",
              "      quickchartButtonEl.style.display =\n",
              "        google.colab.kernel.accessAllowed ? 'block' : 'none';\n",
              "    })();\n",
              "  </script>\n",
              "</div>\n",
              "    </div>\n",
              "  </div>\n"
            ],
            "text/plain": [
              "                                     CRASH_RECORD_ID     RD_NO  \\\n",
              "0  012c5bfce715efb2f2b387d6dd86f9c13e9dc1809fb52a...  JG341943   \n",
              "1  01d457f032e23d935a0b8f6b4c88221375180ffd4cd959...  JG338388   \n",
              "2  02249b4747a4bf40b88a8357304a98dfeaef9c38eebbf0...  JG350008   \n",
              "3  03e3b6caad71b78ed9ae325648effa9512bfb2517aed30...  JG338049   \n",
              "4  0481fc919b38f1572d4ba04b069766102d904a662ff096...  JG338431   \n",
              "\n",
              "  CRASH_DATE_EST_I        CRASH_DATE  POSTED_SPEED_LIMIT  \\\n",
              "0              NaN  07-12-2023 15:05                  30   \n",
              "1              NaN  07-12-2023 17:50                  30   \n",
              "2              NaN  07-12-2023 14:00                  30   \n",
              "3              NaN  07-12-2023 07:05                  30   \n",
              "4              NaN  07-12-2023 18:30                  30   \n",
              "\n",
              "  TRAFFIC_CONTROL_DEVICE DEVICE_CONDITION      WEATHER_CONDITION  \\\n",
              "0            NO CONTROLS      NO CONTROLS                  CLEAR   \n",
              "1            NO CONTROLS      NO CONTROLS                  CLEAR   \n",
              "2            NO CONTROLS      NO CONTROLS                  CLEAR   \n",
              "3         TRAFFIC SIGNAL          UNKNOWN  FREEZING RAIN/DRIZZLE   \n",
              "4            NO CONTROLS      NO CONTROLS                  CLEAR   \n",
              "\n",
              "  LIGHTING_CONDITION FIRST_CRASH_TYPE  ... INJURIES_NON_INCAPACITATING  \\\n",
              "0           DAYLIGHT          TURNING  ...                         0.0   \n",
              "1           DAYLIGHT         REAR END  ...                         0.0   \n",
              "2           DAYLIGHT     OTHER OBJECT  ...                         0.0   \n",
              "3           DAYLIGHT         REAR END  ...                         0.0   \n",
              "4           DAYLIGHT         REAR END  ...                         0.0   \n",
              "\n",
              "   INJURIES_REPORTED_NOT_EVIDENT INJURIES_NO_INDICATION INJURIES_UNKNOWN  \\\n",
              "0                            0.0                    2.0              0.0   \n",
              "1                            0.0                    2.0              0.0   \n",
              "2                            0.0                    1.0              0.0   \n",
              "3                            0.0                    2.0              0.0   \n",
              "4                            0.0                    2.0              0.0   \n",
              "\n",
              "  CRASH_HOUR CRASH_DAY_OF_WEEK CRASH_MONTH   LATITUDE  LONGITUDE  \\\n",
              "0         15                 4           7  41.778542 -87.742065   \n",
              "1         17                 4           7  41.742131 -87.721824   \n",
              "2         14                 4           7  41.719844 -87.584790   \n",
              "3          7                 4           7  41.925105 -87.668291   \n",
              "4         18                 4           7  41.975258 -87.751991   \n",
              "\n",
              "                                   LOCATION  \n",
              "0  POINT (-87.742064741348 41.778541938106)  \n",
              "1   POINT (-87.72182410033 41.742130554062)  \n",
              "2  POINT (-87.584789974824 41.719844228292)  \n",
              "3  POINT (-87.668291181568 41.925104953308)  \n",
              "4   POINT (-87.751990557158 41.97525809527)  \n",
              "\n",
              "[5 rows x 49 columns]"
            ]
          },
          "execution_count": 6,
          "metadata": {},
          "output_type": "execute_result"
        }
      ],
      "source": [
        "df.head()"
      ]
    },
    {
      "cell_type": "code",
      "execution_count": null,
      "metadata": {
        "id": "5nLsA5kVtHYs"
      },
      "outputs": [],
      "source": [
        "pd.set_option('display.max_columns', None)"
      ]
    },
    {
      "cell_type": "code",
      "execution_count": null,
      "metadata": {
        "colab": {
          "base_uri": "https://localhost:8080/"
        },
        "id": "1gM2l3OcG9nr",
        "outputId": "4eadb07c-978a-474e-92ff-d940cc1fddd7"
      },
      "outputs": [
        {
          "data": {
            "text/plain": [
              "CRASH_RECORD_ID                       0\n",
              "RD_NO                              4329\n",
              "CRASH_DATE_EST_I                 692200\n",
              "CRASH_DATE                            0\n",
              "POSTED_SPEED_LIMIT                    0\n",
              "TRAFFIC_CONTROL_DEVICE                0\n",
              "DEVICE_CONDITION                      0\n",
              "WEATHER_CONDITION                     0\n",
              "LIGHTING_CONDITION                    0\n",
              "FIRST_CRASH_TYPE                      0\n",
              "TRAFFICWAY_TYPE                       0\n",
              "LANE_CNT                         549721\n",
              "ALIGNMENT                             0\n",
              "ROADWAY_SURFACE_COND                  0\n",
              "ROAD_DEFECT                           0\n",
              "REPORT_TYPE                       21327\n",
              "CRASH_TYPE                            0\n",
              "INTERSECTION_RELATED_I           577119\n",
              "NOT_RIGHT_OF_WAY_I               713860\n",
              "HIT_AND_RUN_I                    515174\n",
              "DAMAGE                                0\n",
              "DATE_POLICE_NOTIFIED                  0\n",
              "PRIM_CONTRIBUTORY_CAUSE               0\n",
              "SEC_CONTRIBUTORY_CAUSE                0\n",
              "STREET_NO                             0\n",
              "STREET_DIRECTION                      4\n",
              "STREET_NAME                           1\n",
              "BEAT_OF_OCCURRENCE                    5\n",
              "PHOTOS_TAKEN_I                   739201\n",
              "STATEMENTS_TAKEN_I               732562\n",
              "DOORING_I                        746432\n",
              "WORK_ZONE_I                      744388\n",
              "WORK_ZONE_TYPE                   745342\n",
              "WORKERS_PRESENT_I                747605\n",
              "NUM_UNITS                             0\n",
              "MOST_SEVERE_INJURY                 1632\n",
              "INJURIES_TOTAL                     1621\n",
              "INJURIES_FATAL                     1621\n",
              "INJURIES_INCAPACITATING            1621\n",
              "INJURIES_NON_INCAPACITATING        1621\n",
              "INJURIES_REPORTED_NOT_EVIDENT      1621\n",
              "INJURIES_NO_INDICATION             1621\n",
              "INJURIES_UNKNOWN                   1621\n",
              "CRASH_HOUR                            0\n",
              "CRASH_DAY_OF_WEEK                     0\n",
              "CRASH_MONTH                           0\n",
              "LATITUDE                           4926\n",
              "LONGITUDE                          4926\n",
              "LOCATION                           4926\n",
              "dtype: int64"
            ]
          },
          "execution_count": 8,
          "metadata": {},
          "output_type": "execute_result"
        }
      ],
      "source": [
        "df.isna().sum()"
      ]
    },
    {
      "cell_type": "code",
      "execution_count": null,
      "metadata": {
        "colab": {
          "base_uri": "https://localhost:8080/"
        },
        "id": "OXyLT0UFTFK5",
        "outputId": "6ab4db0f-3529-424b-8b09-e4c049aef9ce"
      },
      "outputs": [
        {
          "name": "stdout",
          "output_type": "stream",
          "text": [
            "<class 'pandas.core.frame.DataFrame'>\n",
            "RangeIndex: 748725 entries, 0 to 748724\n",
            "Data columns (total 49 columns):\n",
            " #   Column                         Non-Null Count   Dtype  \n",
            "---  ------                         --------------   -----  \n",
            " 0   CRASH_RECORD_ID                748725 non-null  object \n",
            " 1   RD_NO                          744396 non-null  object \n",
            " 2   CRASH_DATE_EST_I               56525 non-null   object \n",
            " 3   CRASH_DATE                     748725 non-null  object \n",
            " 4   POSTED_SPEED_LIMIT             748725 non-null  int64  \n",
            " 5   TRAFFIC_CONTROL_DEVICE         748725 non-null  object \n",
            " 6   DEVICE_CONDITION               748725 non-null  object \n",
            " 7   WEATHER_CONDITION              748725 non-null  object \n",
            " 8   LIGHTING_CONDITION             748725 non-null  object \n",
            " 9   FIRST_CRASH_TYPE               748725 non-null  object \n",
            " 10  TRAFFICWAY_TYPE                748725 non-null  object \n",
            " 11  LANE_CNT                       199004 non-null  float64\n",
            " 12  ALIGNMENT                      748725 non-null  object \n",
            " 13  ROADWAY_SURFACE_COND           748725 non-null  object \n",
            " 14  ROAD_DEFECT                    748725 non-null  object \n",
            " 15  REPORT_TYPE                    727398 non-null  object \n",
            " 16  CRASH_TYPE                     748725 non-null  object \n",
            " 17  INTERSECTION_RELATED_I         171606 non-null  object \n",
            " 18  NOT_RIGHT_OF_WAY_I             34865 non-null   object \n",
            " 19  HIT_AND_RUN_I                  233551 non-null  object \n",
            " 20  DAMAGE                         748725 non-null  object \n",
            " 21  DATE_POLICE_NOTIFIED           748725 non-null  object \n",
            " 22  PRIM_CONTRIBUTORY_CAUSE        748725 non-null  object \n",
            " 23  SEC_CONTRIBUTORY_CAUSE         748725 non-null  object \n",
            " 24  STREET_NO                      748725 non-null  int64  \n",
            " 25  STREET_DIRECTION               748721 non-null  object \n",
            " 26  STREET_NAME                    748724 non-null  object \n",
            " 27  BEAT_OF_OCCURRENCE             748720 non-null  float64\n",
            " 28  PHOTOS_TAKEN_I                 9524 non-null    object \n",
            " 29  STATEMENTS_TAKEN_I             16163 non-null   object \n",
            " 30  DOORING_I                      2293 non-null    object \n",
            " 31  WORK_ZONE_I                    4337 non-null    object \n",
            " 32  WORK_ZONE_TYPE                 3383 non-null    object \n",
            " 33  WORKERS_PRESENT_I              1120 non-null    object \n",
            " 34  NUM_UNITS                      748725 non-null  int64  \n",
            " 35  MOST_SEVERE_INJURY             747093 non-null  object \n",
            " 36  INJURIES_TOTAL                 747104 non-null  float64\n",
            " 37  INJURIES_FATAL                 747104 non-null  float64\n",
            " 38  INJURIES_INCAPACITATING        747104 non-null  float64\n",
            " 39  INJURIES_NON_INCAPACITATING    747104 non-null  float64\n",
            " 40  INJURIES_REPORTED_NOT_EVIDENT  747104 non-null  float64\n",
            " 41  INJURIES_NO_INDICATION         747104 non-null  float64\n",
            " 42  INJURIES_UNKNOWN               747104 non-null  float64\n",
            " 43  CRASH_HOUR                     748725 non-null  int64  \n",
            " 44  CRASH_DAY_OF_WEEK              748725 non-null  int64  \n",
            " 45  CRASH_MONTH                    748725 non-null  int64  \n",
            " 46  LATITUDE                       743799 non-null  float64\n",
            " 47  LONGITUDE                      743799 non-null  float64\n",
            " 48  LOCATION                       743799 non-null  object \n",
            "dtypes: float64(11), int64(6), object(32)\n",
            "memory usage: 279.9+ MB\n"
          ]
        }
      ],
      "source": [
        "df.info()"
      ]
    },
    {
      "cell_type": "code",
      "execution_count": null,
      "metadata": {
        "colab": {
          "base_uri": "https://localhost:8080/",
          "height": 320
        },
        "id": "fSTqhOPaTK8g",
        "outputId": "f8aca682-6006-48c7-9d4e-1978a93e3d09"
      },
      "outputs": [
        {
          "data": {
            "text/html": [
              "\n",
              "  <div id=\"df-cc9e078f-393d-4159-8e42-4e2757f61b1c\" class=\"colab-df-container\">\n",
              "    <div>\n",
              "<style scoped>\n",
              "    .dataframe tbody tr th:only-of-type {\n",
              "        vertical-align: middle;\n",
              "    }\n",
              "\n",
              "    .dataframe tbody tr th {\n",
              "        vertical-align: top;\n",
              "    }\n",
              "\n",
              "    .dataframe thead th {\n",
              "        text-align: right;\n",
              "    }\n",
              "</style>\n",
              "<table border=\"1\" class=\"dataframe\">\n",
              "  <thead>\n",
              "    <tr style=\"text-align: right;\">\n",
              "      <th></th>\n",
              "      <th>POSTED_SPEED_LIMIT</th>\n",
              "      <th>LANE_CNT</th>\n",
              "      <th>STREET_NO</th>\n",
              "      <th>BEAT_OF_OCCURRENCE</th>\n",
              "      <th>NUM_UNITS</th>\n",
              "      <th>INJURIES_TOTAL</th>\n",
              "      <th>INJURIES_FATAL</th>\n",
              "      <th>INJURIES_INCAPACITATING</th>\n",
              "      <th>INJURIES_NON_INCAPACITATING</th>\n",
              "      <th>INJURIES_REPORTED_NOT_EVIDENT</th>\n",
              "      <th>INJURIES_NO_INDICATION</th>\n",
              "      <th>INJURIES_UNKNOWN</th>\n",
              "      <th>CRASH_HOUR</th>\n",
              "      <th>CRASH_DAY_OF_WEEK</th>\n",
              "      <th>CRASH_MONTH</th>\n",
              "      <th>LATITUDE</th>\n",
              "      <th>LONGITUDE</th>\n",
              "    </tr>\n",
              "  </thead>\n",
              "  <tbody>\n",
              "    <tr>\n",
              "      <th>count</th>\n",
              "      <td>748725.000000</td>\n",
              "      <td>1.990040e+05</td>\n",
              "      <td>748725.000000</td>\n",
              "      <td>748720.000000</td>\n",
              "      <td>748725.000000</td>\n",
              "      <td>747104.000000</td>\n",
              "      <td>747104.000000</td>\n",
              "      <td>747104.000000</td>\n",
              "      <td>747104.000000</td>\n",
              "      <td>747104.000000</td>\n",
              "      <td>747104.000000</td>\n",
              "      <td>747104.0</td>\n",
              "      <td>748725.000000</td>\n",
              "      <td>748725.000000</td>\n",
              "      <td>748725.000000</td>\n",
              "      <td>743799.000000</td>\n",
              "      <td>743799.000000</td>\n",
              "    </tr>\n",
              "    <tr>\n",
              "      <th>mean</th>\n",
              "      <td>28.384790</td>\n",
              "      <td>1.333043e+01</td>\n",
              "      <td>3685.002248</td>\n",
              "      <td>1241.560834</td>\n",
              "      <td>2.034571</td>\n",
              "      <td>0.187319</td>\n",
              "      <td>0.001181</td>\n",
              "      <td>0.020127</td>\n",
              "      <td>0.105897</td>\n",
              "      <td>0.060115</td>\n",
              "      <td>2.005674</td>\n",
              "      <td>0.0</td>\n",
              "      <td>13.211405</td>\n",
              "      <td>4.124542</td>\n",
              "      <td>6.595381</td>\n",
              "      <td>41.854724</td>\n",
              "      <td>-87.673476</td>\n",
              "    </tr>\n",
              "    <tr>\n",
              "      <th>std</th>\n",
              "      <td>6.217742</td>\n",
              "      <td>2.961638e+03</td>\n",
              "      <td>2891.602969</td>\n",
              "      <td>705.429930</td>\n",
              "      <td>0.452767</td>\n",
              "      <td>0.561834</td>\n",
              "      <td>0.037363</td>\n",
              "      <td>0.166311</td>\n",
              "      <td>0.419431</td>\n",
              "      <td>0.314874</td>\n",
              "      <td>1.159454</td>\n",
              "      <td>0.0</td>\n",
              "      <td>5.562809</td>\n",
              "      <td>1.980474</td>\n",
              "      <td>3.391375</td>\n",
              "      <td>0.333237</td>\n",
              "      <td>0.676920</td>\n",
              "    </tr>\n",
              "    <tr>\n",
              "      <th>min</th>\n",
              "      <td>0.000000</td>\n",
              "      <td>0.000000e+00</td>\n",
              "      <td>0.000000</td>\n",
              "      <td>111.000000</td>\n",
              "      <td>1.000000</td>\n",
              "      <td>0.000000</td>\n",
              "      <td>0.000000</td>\n",
              "      <td>0.000000</td>\n",
              "      <td>0.000000</td>\n",
              "      <td>0.000000</td>\n",
              "      <td>0.000000</td>\n",
              "      <td>0.0</td>\n",
              "      <td>0.000000</td>\n",
              "      <td>1.000000</td>\n",
              "      <td>1.000000</td>\n",
              "      <td>0.000000</td>\n",
              "      <td>-87.936193</td>\n",
              "    </tr>\n",
              "    <tr>\n",
              "      <th>25%</th>\n",
              "      <td>30.000000</td>\n",
              "      <td>2.000000e+00</td>\n",
              "      <td>1241.000000</td>\n",
              "      <td>713.000000</td>\n",
              "      <td>2.000000</td>\n",
              "      <td>0.000000</td>\n",
              "      <td>0.000000</td>\n",
              "      <td>0.000000</td>\n",
              "      <td>0.000000</td>\n",
              "      <td>0.000000</td>\n",
              "      <td>1.000000</td>\n",
              "      <td>0.0</td>\n",
              "      <td>9.000000</td>\n",
              "      <td>2.000000</td>\n",
              "      <td>4.000000</td>\n",
              "      <td>41.782093</td>\n",
              "      <td>-87.721618</td>\n",
              "    </tr>\n",
              "    <tr>\n",
              "      <th>50%</th>\n",
              "      <td>30.000000</td>\n",
              "      <td>2.000000e+00</td>\n",
              "      <td>3200.000000</td>\n",
              "      <td>1211.000000</td>\n",
              "      <td>2.000000</td>\n",
              "      <td>0.000000</td>\n",
              "      <td>0.000000</td>\n",
              "      <td>0.000000</td>\n",
              "      <td>0.000000</td>\n",
              "      <td>0.000000</td>\n",
              "      <td>2.000000</td>\n",
              "      <td>0.0</td>\n",
              "      <td>14.000000</td>\n",
              "      <td>4.000000</td>\n",
              "      <td>7.000000</td>\n",
              "      <td>41.874609</td>\n",
              "      <td>-87.673904</td>\n",
              "    </tr>\n",
              "    <tr>\n",
              "      <th>75%</th>\n",
              "      <td>30.000000</td>\n",
              "      <td>4.000000e+00</td>\n",
              "      <td>5600.000000</td>\n",
              "      <td>1822.000000</td>\n",
              "      <td>2.000000</td>\n",
              "      <td>0.000000</td>\n",
              "      <td>0.000000</td>\n",
              "      <td>0.000000</td>\n",
              "      <td>0.000000</td>\n",
              "      <td>0.000000</td>\n",
              "      <td>2.000000</td>\n",
              "      <td>0.0</td>\n",
              "      <td>17.000000</td>\n",
              "      <td>6.000000</td>\n",
              "      <td>10.000000</td>\n",
              "      <td>41.924213</td>\n",
              "      <td>-87.633135</td>\n",
              "    </tr>\n",
              "    <tr>\n",
              "      <th>max</th>\n",
              "      <td>99.000000</td>\n",
              "      <td>1.191625e+06</td>\n",
              "      <td>451100.000000</td>\n",
              "      <td>6100.000000</td>\n",
              "      <td>18.000000</td>\n",
              "      <td>21.000000</td>\n",
              "      <td>4.000000</td>\n",
              "      <td>10.000000</td>\n",
              "      <td>21.000000</td>\n",
              "      <td>15.000000</td>\n",
              "      <td>61.000000</td>\n",
              "      <td>0.0</td>\n",
              "      <td>23.000000</td>\n",
              "      <td>7.000000</td>\n",
              "      <td>12.000000</td>\n",
              "      <td>42.022780</td>\n",
              "      <td>0.000000</td>\n",
              "    </tr>\n",
              "  </tbody>\n",
              "</table>\n",
              "</div>\n",
              "    <div class=\"colab-df-buttons\">\n",
              "\n",
              "  <div class=\"colab-df-container\">\n",
              "    <button class=\"colab-df-convert\" onclick=\"convertToInteractive('df-cc9e078f-393d-4159-8e42-4e2757f61b1c')\"\n",
              "            title=\"Convert this dataframe to an interactive table.\"\n",
              "            style=\"display:none;\">\n",
              "\n",
              "  <svg xmlns=\"http://www.w3.org/2000/svg\" height=\"24px\" viewBox=\"0 -960 960 960\">\n",
              "    <path d=\"M120-120v-720h720v720H120Zm60-500h600v-160H180v160Zm220 220h160v-160H400v160Zm0 220h160v-160H400v160ZM180-400h160v-160H180v160Zm440 0h160v-160H620v160ZM180-180h160v-160H180v160Zm440 0h160v-160H620v160Z\"/>\n",
              "  </svg>\n",
              "    </button>\n",
              "\n",
              "  <style>\n",
              "    .colab-df-container {\n",
              "      display:flex;\n",
              "      gap: 12px;\n",
              "    }\n",
              "\n",
              "    .colab-df-convert {\n",
              "      background-color: #E8F0FE;\n",
              "      border: none;\n",
              "      border-radius: 50%;\n",
              "      cursor: pointer;\n",
              "      display: none;\n",
              "      fill: #1967D2;\n",
              "      height: 32px;\n",
              "      padding: 0 0 0 0;\n",
              "      width: 32px;\n",
              "    }\n",
              "\n",
              "    .colab-df-convert:hover {\n",
              "      background-color: #E2EBFA;\n",
              "      box-shadow: 0px 1px 2px rgba(60, 64, 67, 0.3), 0px 1px 3px 1px rgba(60, 64, 67, 0.15);\n",
              "      fill: #174EA6;\n",
              "    }\n",
              "\n",
              "    .colab-df-buttons div {\n",
              "      margin-bottom: 4px;\n",
              "    }\n",
              "\n",
              "    [theme=dark] .colab-df-convert {\n",
              "      background-color: #3B4455;\n",
              "      fill: #D2E3FC;\n",
              "    }\n",
              "\n",
              "    [theme=dark] .colab-df-convert:hover {\n",
              "      background-color: #434B5C;\n",
              "      box-shadow: 0px 1px 3px 1px rgba(0, 0, 0, 0.15);\n",
              "      filter: drop-shadow(0px 1px 2px rgba(0, 0, 0, 0.3));\n",
              "      fill: #FFFFFF;\n",
              "    }\n",
              "  </style>\n",
              "\n",
              "    <script>\n",
              "      const buttonEl =\n",
              "        document.querySelector('#df-cc9e078f-393d-4159-8e42-4e2757f61b1c button.colab-df-convert');\n",
              "      buttonEl.style.display =\n",
              "        google.colab.kernel.accessAllowed ? 'block' : 'none';\n",
              "\n",
              "      async function convertToInteractive(key) {\n",
              "        const element = document.querySelector('#df-cc9e078f-393d-4159-8e42-4e2757f61b1c');\n",
              "        const dataTable =\n",
              "          await google.colab.kernel.invokeFunction('convertToInteractive',\n",
              "                                                    [key], {});\n",
              "        if (!dataTable) return;\n",
              "\n",
              "        const docLinkHtml = 'Like what you see? Visit the ' +\n",
              "          '<a target=\"_blank\" href=https://colab.research.google.com/notebooks/data_table.ipynb>data table notebook</a>'\n",
              "          + ' to learn more about interactive tables.';\n",
              "        element.innerHTML = '';\n",
              "        dataTable['output_type'] = 'display_data';\n",
              "        await google.colab.output.renderOutput(dataTable, element);\n",
              "        const docLink = document.createElement('div');\n",
              "        docLink.innerHTML = docLinkHtml;\n",
              "        element.appendChild(docLink);\n",
              "      }\n",
              "    </script>\n",
              "  </div>\n",
              "\n",
              "\n",
              "<div id=\"df-3840b55b-86a3-4a17-8555-17960fe3927b\">\n",
              "  <button class=\"colab-df-quickchart\" onclick=\"quickchart('df-3840b55b-86a3-4a17-8555-17960fe3927b')\"\n",
              "            title=\"Suggest charts.\"\n",
              "            style=\"display:none;\">\n",
              "\n",
              "<svg xmlns=\"http://www.w3.org/2000/svg\" height=\"24px\"viewBox=\"0 0 24 24\"\n",
              "     width=\"24px\">\n",
              "    <g>\n",
              "        <path d=\"M19 3H5c-1.1 0-2 .9-2 2v14c0 1.1.9 2 2 2h14c1.1 0 2-.9 2-2V5c0-1.1-.9-2-2-2zM9 17H7v-7h2v7zm4 0h-2V7h2v10zm4 0h-2v-4h2v4z\"/>\n",
              "    </g>\n",
              "</svg>\n",
              "  </button>\n",
              "\n",
              "<style>\n",
              "  .colab-df-quickchart {\n",
              "      --bg-color: #E8F0FE;\n",
              "      --fill-color: #1967D2;\n",
              "      --hover-bg-color: #E2EBFA;\n",
              "      --hover-fill-color: #174EA6;\n",
              "      --disabled-fill-color: #AAA;\n",
              "      --disabled-bg-color: #DDD;\n",
              "  }\n",
              "\n",
              "  [theme=dark] .colab-df-quickchart {\n",
              "      --bg-color: #3B4455;\n",
              "      --fill-color: #D2E3FC;\n",
              "      --hover-bg-color: #434B5C;\n",
              "      --hover-fill-color: #FFFFFF;\n",
              "      --disabled-bg-color: #3B4455;\n",
              "      --disabled-fill-color: #666;\n",
              "  }\n",
              "\n",
              "  .colab-df-quickchart {\n",
              "    background-color: var(--bg-color);\n",
              "    border: none;\n",
              "    border-radius: 50%;\n",
              "    cursor: pointer;\n",
              "    display: none;\n",
              "    fill: var(--fill-color);\n",
              "    height: 32px;\n",
              "    padding: 0;\n",
              "    width: 32px;\n",
              "  }\n",
              "\n",
              "  .colab-df-quickchart:hover {\n",
              "    background-color: var(--hover-bg-color);\n",
              "    box-shadow: 0 1px 2px rgba(60, 64, 67, 0.3), 0 1px 3px 1px rgba(60, 64, 67, 0.15);\n",
              "    fill: var(--button-hover-fill-color);\n",
              "  }\n",
              "\n",
              "  .colab-df-quickchart-complete:disabled,\n",
              "  .colab-df-quickchart-complete:disabled:hover {\n",
              "    background-color: var(--disabled-bg-color);\n",
              "    fill: var(--disabled-fill-color);\n",
              "    box-shadow: none;\n",
              "  }\n",
              "\n",
              "  .colab-df-spinner {\n",
              "    border: 2px solid var(--fill-color);\n",
              "    border-color: transparent;\n",
              "    border-bottom-color: var(--fill-color);\n",
              "    animation:\n",
              "      spin 1s steps(1) infinite;\n",
              "  }\n",
              "\n",
              "  @keyframes spin {\n",
              "    0% {\n",
              "      border-color: transparent;\n",
              "      border-bottom-color: var(--fill-color);\n",
              "      border-left-color: var(--fill-color);\n",
              "    }\n",
              "    20% {\n",
              "      border-color: transparent;\n",
              "      border-left-color: var(--fill-color);\n",
              "      border-top-color: var(--fill-color);\n",
              "    }\n",
              "    30% {\n",
              "      border-color: transparent;\n",
              "      border-left-color: var(--fill-color);\n",
              "      border-top-color: var(--fill-color);\n",
              "      border-right-color: var(--fill-color);\n",
              "    }\n",
              "    40% {\n",
              "      border-color: transparent;\n",
              "      border-right-color: var(--fill-color);\n",
              "      border-top-color: var(--fill-color);\n",
              "    }\n",
              "    60% {\n",
              "      border-color: transparent;\n",
              "      border-right-color: var(--fill-color);\n",
              "    }\n",
              "    80% {\n",
              "      border-color: transparent;\n",
              "      border-right-color: var(--fill-color);\n",
              "      border-bottom-color: var(--fill-color);\n",
              "    }\n",
              "    90% {\n",
              "      border-color: transparent;\n",
              "      border-bottom-color: var(--fill-color);\n",
              "    }\n",
              "  }\n",
              "</style>\n",
              "\n",
              "  <script>\n",
              "    async function quickchart(key) {\n",
              "      const quickchartButtonEl =\n",
              "        document.querySelector('#' + key + ' button');\n",
              "      quickchartButtonEl.disabled = true;  // To prevent multiple clicks.\n",
              "      quickchartButtonEl.classList.add('colab-df-spinner');\n",
              "      try {\n",
              "        const charts = await google.colab.kernel.invokeFunction(\n",
              "            'suggestCharts', [key], {});\n",
              "      } catch (error) {\n",
              "        console.error('Error during call to suggestCharts:', error);\n",
              "      }\n",
              "      quickchartButtonEl.classList.remove('colab-df-spinner');\n",
              "      quickchartButtonEl.classList.add('colab-df-quickchart-complete');\n",
              "    }\n",
              "    (() => {\n",
              "      let quickchartButtonEl =\n",
              "        document.querySelector('#df-3840b55b-86a3-4a17-8555-17960fe3927b button');\n",
              "      quickchartButtonEl.style.display =\n",
              "        google.colab.kernel.accessAllowed ? 'block' : 'none';\n",
              "    })();\n",
              "  </script>\n",
              "</div>\n",
              "    </div>\n",
              "  </div>\n"
            ],
            "text/plain": [
              "       POSTED_SPEED_LIMIT      LANE_CNT      STREET_NO  BEAT_OF_OCCURRENCE  \\\n",
              "count       748725.000000  1.990040e+05  748725.000000       748720.000000   \n",
              "mean            28.384790  1.333043e+01    3685.002248         1241.560834   \n",
              "std              6.217742  2.961638e+03    2891.602969          705.429930   \n",
              "min              0.000000  0.000000e+00       0.000000          111.000000   \n",
              "25%             30.000000  2.000000e+00    1241.000000          713.000000   \n",
              "50%             30.000000  2.000000e+00    3200.000000         1211.000000   \n",
              "75%             30.000000  4.000000e+00    5600.000000         1822.000000   \n",
              "max             99.000000  1.191625e+06  451100.000000         6100.000000   \n",
              "\n",
              "           NUM_UNITS  INJURIES_TOTAL  INJURIES_FATAL  INJURIES_INCAPACITATING  \\\n",
              "count  748725.000000   747104.000000   747104.000000            747104.000000   \n",
              "mean        2.034571        0.187319        0.001181                 0.020127   \n",
              "std         0.452767        0.561834        0.037363                 0.166311   \n",
              "min         1.000000        0.000000        0.000000                 0.000000   \n",
              "25%         2.000000        0.000000        0.000000                 0.000000   \n",
              "50%         2.000000        0.000000        0.000000                 0.000000   \n",
              "75%         2.000000        0.000000        0.000000                 0.000000   \n",
              "max        18.000000       21.000000        4.000000                10.000000   \n",
              "\n",
              "       INJURIES_NON_INCAPACITATING  INJURIES_REPORTED_NOT_EVIDENT  \\\n",
              "count                747104.000000                  747104.000000   \n",
              "mean                      0.105897                       0.060115   \n",
              "std                       0.419431                       0.314874   \n",
              "min                       0.000000                       0.000000   \n",
              "25%                       0.000000                       0.000000   \n",
              "50%                       0.000000                       0.000000   \n",
              "75%                       0.000000                       0.000000   \n",
              "max                      21.000000                      15.000000   \n",
              "\n",
              "       INJURIES_NO_INDICATION  INJURIES_UNKNOWN     CRASH_HOUR  \\\n",
              "count           747104.000000          747104.0  748725.000000   \n",
              "mean                 2.005674               0.0      13.211405   \n",
              "std                  1.159454               0.0       5.562809   \n",
              "min                  0.000000               0.0       0.000000   \n",
              "25%                  1.000000               0.0       9.000000   \n",
              "50%                  2.000000               0.0      14.000000   \n",
              "75%                  2.000000               0.0      17.000000   \n",
              "max                 61.000000               0.0      23.000000   \n",
              "\n",
              "       CRASH_DAY_OF_WEEK    CRASH_MONTH       LATITUDE      LONGITUDE  \n",
              "count      748725.000000  748725.000000  743799.000000  743799.000000  \n",
              "mean            4.124542       6.595381      41.854724     -87.673476  \n",
              "std             1.980474       3.391375       0.333237       0.676920  \n",
              "min             1.000000       1.000000       0.000000     -87.936193  \n",
              "25%             2.000000       4.000000      41.782093     -87.721618  \n",
              "50%             4.000000       7.000000      41.874609     -87.673904  \n",
              "75%             6.000000      10.000000      41.924213     -87.633135  \n",
              "max             7.000000      12.000000      42.022780       0.000000  "
            ]
          },
          "execution_count": 10,
          "metadata": {},
          "output_type": "execute_result"
        }
      ],
      "source": [
        "df.describe()"
      ]
    },
    {
      "cell_type": "code",
      "execution_count": null,
      "metadata": {
        "colab": {
          "base_uri": "https://localhost:8080/",
          "height": 660
        },
        "id": "EuJ1o5cHqxUl",
        "outputId": "42a8092e-b5e5-4463-b379-3e0e77958e5a"
      },
      "outputs": [
        {
          "name": "stderr",
          "output_type": "stream",
          "text": [
            "<ipython-input-11-50417abee9b8>:3: FutureWarning: The default value of numeric_only in DataFrame.corr is deprecated. In a future version, it will default to False. Select only valid columns or specify the value of numeric_only to silence this warning.\n",
            "  dataplot = sns.heatmap(df.corr(), cmap=\"YlGnBu\")\n"
          ]
        },
        {
          "data": {
            "image/png": "[encoded data removed]",
            "text/plain": [
              "<Figure size 500x400 with 2 Axes>"
            ]
          },
          "metadata": {},
          "output_type": "display_data"
        }
      ],
      "source": [
        "# plotting correlation heatmap\n",
        "plt.figure(figsize=(5, 4))\n",
        "dataplot = sns.heatmap(df.corr(), cmap=\"YlGnBu\")\n",
        "\n",
        "# displaying heatmap\n",
        "plt.show()"
      ]
    },
    {
      "cell_type": "code",
      "execution_count": null,
      "metadata": {
        "colab": {
          "base_uri": "https://localhost:8080/"
        },
        "id": "kj15NslMsHiT",
        "outputId": "9ac45e06-df6a-41ea-bc5a-cd78ccdcdd8c"
      },
      "outputs": [
        {
          "data": {
            "text/plain": [
              "0.0    747104\n",
              "Name: INJURIES_UNKNOWN, dtype: int64"
            ]
          },
          "execution_count": 12,
          "metadata": {},
          "output_type": "execute_result"
        }
      ],
      "source": [
        "df['INJURIES_UNKNOWN'].value_counts()"
      ]
    },
    {
      "cell_type": "code",
      "execution_count": null,
      "metadata": {
        "id": "BzfwII6PkeRi"
      },
      "outputs": [],
      "source": [
        "# Dropping the columns with huge number of missing values (5,00,000+)\n",
        "new_df = df.drop(['CRASH_DATE_EST_I', 'LANE_CNT', 'INTERSECTION_RELATED_I', 'NOT_RIGHT_OF_WAY_I', 'HIT_AND_RUN_I', 'PHOTOS_TAKEN_I', 'STATEMENTS_TAKEN_I', 'DOORING_I', 'WORK_ZONE_I', 'WORK_ZONE_TYPE', 'WORKERS_PRESENT_I', 'REPORT_TYPE'], axis=1)"
      ]
    },
    {
      "cell_type": "code",
      "execution_count": null,
      "metadata": {
        "colab": {
          "base_uri": "https://localhost:8080/"
        },
        "id": "NTl0IWnOlzTs",
        "outputId": "a4deb417-d139-43d7-a97e-fec6d8643459"
      },
      "outputs": [
        {
          "data": {
            "text/plain": [
              "CRASH_RECORD_ID                     0\n",
              "RD_NO                            4329\n",
              "CRASH_DATE                          0\n",
              "POSTED_SPEED_LIMIT                  0\n",
              "TRAFFIC_CONTROL_DEVICE              0\n",
              "DEVICE_CONDITION                    0\n",
              "WEATHER_CONDITION                   0\n",
              "LIGHTING_CONDITION                  0\n",
              "FIRST_CRASH_TYPE                    0\n",
              "TRAFFICWAY_TYPE                     0\n",
              "ALIGNMENT                           0\n",
              "ROADWAY_SURFACE_COND                0\n",
              "ROAD_DEFECT                         0\n",
              "CRASH_TYPE                          0\n",
              "DAMAGE                              0\n",
              "DATE_POLICE_NOTIFIED                0\n",
              "PRIM_CONTRIBUTORY_CAUSE             0\n",
              "SEC_CONTRIBUTORY_CAUSE              0\n",
              "STREET_NO                           0\n",
              "STREET_DIRECTION                    4\n",
              "STREET_NAME                         1\n",
              "BEAT_OF_OCCURRENCE                  5\n",
              "NUM_UNITS                           0\n",
              "MOST_SEVERE_INJURY               1632\n",
              "INJURIES_TOTAL                   1621\n",
              "INJURIES_FATAL                   1621\n",
              "INJURIES_INCAPACITATING          1621\n",
              "INJURIES_NON_INCAPACITATING      1621\n",
              "INJURIES_REPORTED_NOT_EVIDENT    1621\n",
              "INJURIES_NO_INDICATION           1621\n",
              "INJURIES_UNKNOWN                 1621\n",
              "CRASH_HOUR                          0\n",
              "CRASH_DAY_OF_WEEK                   0\n",
              "CRASH_MONTH                         0\n",
              "LATITUDE                         4926\n",
              "LONGITUDE                        4926\n",
              "LOCATION                         4926\n",
              "dtype: int64"
            ]
          },
          "execution_count": 14,
          "metadata": {},
          "output_type": "execute_result"
        }
      ],
      "source": [
        "new_df.isna().sum()"
      ]
    },
    {
      "cell_type": "code",
      "execution_count": null,
      "metadata": {
        "id": "7CyWRlP0nl3i"
      },
      "outputs": [],
      "source": [
        "# Dropping injury related columns, as they just contain the number of injuries of each type in MOST_SEVERE_INJURY column\n",
        "new_df = new_df.drop(['INJURIES_TOTAL', 'INJURIES_FATAL', 'INJURIES_INCAPACITATING', 'INJURIES_NON_INCAPACITATING', 'INJURIES_REPORTED_NOT_EVIDENT', 'INJURIES_NO_INDICATION', 'INJURIES_UNKNOWN'], axis = 1)"
      ]
    },
    {
      "cell_type": "code",
      "execution_count": null,
      "metadata": {
        "colab": {
          "base_uri": "https://localhost:8080/"
        },
        "id": "7bOk0vtyxLwb",
        "outputId": "665b814e-1bda-4767-8b7d-8815b7ac8969"
      },
      "outputs": [
        {
          "name": "stdout",
          "output_type": "stream",
          "text": [
            "012c5bfce715efb2f2b387d6dd86f9c13e9dc1809fb52ac71501da6110fbd95848a4f380e1b553f8dc03c70f782e85adb155ab97cbeabef83ba76d390c21f535    1\n",
            "a90eb0b1d5f3ec080e1ae3f280d09561a00057667e0c3a83cce3e76e0ba10d0e39bf92d0a91bfa41c1426c67777a1ddfe72c09a63a527a19411423764d130e18    1\n",
            "ab687659a9dbe9b3ec7c7e2c69403de395200c5c5fdfdeff7c16efb5ea36a4d6ff8ca574beb116cb0959bf8d8c6d2b47404ff59bc3225d62a8bb0e423e6697ff    1\n",
            "aafebb7f04e03324ef6f50f54db33e27dcf8f4e97163f46d3f9e69586153b830b28df69e9a858c0093c0243fbb6e39cf3e544ad31a00529be08944700d1f3d2d    1\n",
            "a67f3225d78b7d0c66cf99e392d966311a8ecdbc3da932ce6488e4451b1e871cba0c15b6c745b2fa1b4f1791d501226ca7e8cb203fc436821618ad8c8ff6b7e2    1\n",
            "                                                                                                                                   ..\n",
            "56fd9d81d66ecd6c87b2968d2f056ddebe18cf3ff7f1f1b4c3ad1acdb616fe4b05d92e3dca5fec9b6b7496342c0bc95acc202aad7393e042307406bbe6542487    1\n",
            "52a5fddf62e7b506115df75bd12e71448e8f537f9648537b89a84c6b8a385ded3752022f22d70079fe6906612c9b12f0c7da635f4e4c3d790bf32266b752258f    1\n",
            "510fbe6c5646a6a0012511e4d239b411e6cb2ac5e193c3534aa62b812c68f63ea33305de0be6dc119e34eff21206f3c8153528471aa2bb5cacc3e035cbf365bc    1\n",
            "563f4cd02cfe27f806ccb11e6d3b458b30c683d2e401a70b69fa9c4e133d559c73b3b715258bd97baf4b41041be0652999eeca36fa4ab2593b7527905c30f2c7    1\n",
            "ffdc5ef193d5e2f7ec3b009aca8ec717c78a361eed19b5a1002ef7c29743262f3c7e5be2d1eeed39034ec1ef742948ee75c285a8a6c832f23726905a438ac020    1\n",
            "Name: CRASH_RECORD_ID, Length: 748725, dtype: int64\n",
            "------------\n",
            "JG341943    1\n",
            "JC137926    1\n",
            "JD278696    1\n",
            "JG276235    1\n",
            "JA230576    1\n",
            "           ..\n",
            "JG306505    1\n",
            "JF337712    1\n",
            "JC391944    1\n",
            "JF339153    1\n",
            "JB228237    1\n",
            "Name: RD_NO, Length: 744396, dtype: int64\n",
            "------------\n",
            "12/29/2020 05:00:00 PM    30\n",
            "11-10-2017 10:30          27\n",
            "02/17/2022 03:30:00 PM    21\n",
            "01-12-2019 14:30          20\n",
            "11-10-2017 10:00          20\n",
            "                          ..\n",
            "07/23/2023 07:25:00 PM     1\n",
            "11-08-2018 01:20           1\n",
            "11-07-2018 10:03           1\n",
            "12/29/2022 02:34:00 PM     1\n",
            "05/24/2018 07:13:00 AM     1\n",
            "Name: CRASH_DATE, Length: 490315, dtype: int64\n",
            "------------\n",
            "30    550606\n",
            "35     50206\n",
            "25     47129\n",
            "20     31260\n",
            "15     26557\n",
            "10     17389\n",
            "0       7331\n",
            "40      7204\n",
            "45      4919\n",
            "5       4491\n",
            "55       741\n",
            "50       196\n",
            "3        177\n",
            "9         95\n",
            "39        76\n",
            "99        66\n",
            "60        45\n",
            "1         41\n",
            "24        37\n",
            "2         26\n",
            "32        18\n",
            "65        18\n",
            "34        14\n",
            "33        13\n",
            "11        11\n",
            "26         9\n",
            "6          7\n",
            "36         5\n",
            "7          5\n",
            "70         4\n",
            "12         3\n",
            "14         3\n",
            "22         3\n",
            "29         3\n",
            "8          2\n",
            "23         2\n",
            "38         2\n",
            "4          2\n",
            "18         2\n",
            "31         2\n",
            "49         1\n",
            "63         1\n",
            "16         1\n",
            "62         1\n",
            "44         1\n",
            "Name: POSTED_SPEED_LIMIT, dtype: int64\n",
            "------------\n",
            "NO CONTROLS                 427588\n",
            "TRAFFIC SIGNAL              207323\n",
            "STOP SIGN/FLASHER            74079\n",
            "UNKNOWN                      28513\n",
            "OTHER                         5083\n",
            "LANE USE MARKING              1226\n",
            "YIELD                         1090\n",
            "OTHER REG. SIGN                800\n",
            "OTHER WARNING SIGN             625\n",
            "RAILROAD CROSSING GATE         490\n",
            "PEDESTRIAN CROSSING SIGN       442\n",
            "DELINEATORS                    296\n",
            "FLASHING CONTROL SIGNAL        286\n",
            "SCHOOL ZONE                    280\n",
            "POLICE/FLAGMAN                 253\n",
            "OTHER RAILROAD CROSSING        165\n",
            "RR CROSSING SIGN               123\n",
            "NO PASSING                      41\n",
            "BICYCLE CROSSING SIGN           22\n",
            "Name: TRAFFIC_CONTROL_DEVICE, dtype: int64\n",
            "------------\n",
            "NO CONTROLS                 432622\n",
            "FUNCTIONING PROPERLY        257013\n",
            "UNKNOWN                      47149\n",
            "OTHER                         5757\n",
            "FUNCTIONING IMPROPERLY        3568\n",
            "NOT FUNCTIONING               2258\n",
            "WORN REFLECTIVE MATERIAL       270\n",
            "MISSING                         88\n",
            "Name: DEVICE_CONDITION, dtype: int64\n",
            "------------\n",
            "CLEAR                       590329\n",
            "RAIN                         64304\n",
            "UNKNOWN                      39335\n",
            "SNOW                         26438\n",
            "CLOUDY/OVERCAST              22028\n",
            "OTHER                         2341\n",
            "FREEZING RAIN/DRIZZLE         1370\n",
            "FOG/SMOKE/HAZE                1100\n",
            "SLEET/HAIL                     934\n",
            "BLOWING SNOW                   392\n",
            "SEVERE CROSS WIND GATE         147\n",
            "BLOWING SAND, SOIL, DIRT         7\n",
            "Name: WEATHER_CONDITION, dtype: int64\n",
            "------------\n",
            "DAYLIGHT                  482625\n",
            "DARKNESS, LIGHTED ROAD    163972\n",
            "DARKNESS                   35341\n",
            "UNKNOWN                    32762\n",
            "DUSK                       21570\n",
            "DAWN                       12455\n",
            "Name: LIGHTING_CONDITION, dtype: int64\n",
            "------------\n",
            "PARKED MOTOR VEHICLE            174555\n",
            "REAR END                        169252\n",
            "SIDESWIPE SAME DIRECTION        113856\n",
            "TURNING                         106294\n",
            "ANGLE                            80979\n",
            "FIXED OBJECT                     35368\n",
            "PEDESTRIAN                       17174\n",
            "PEDALCYCLIST                     11111\n",
            "SIDESWIPE OPPOSITE DIRECTION     10624\n",
            "OTHER OBJECT                      7443\n",
            "REAR TO FRONT                     6795\n",
            "HEAD ON                           6396\n",
            "REAR TO SIDE                      4003\n",
            "OTHER NONCOLLISION                2417\n",
            "REAR TO REAR                      1427\n",
            "ANIMAL                             528\n",
            "OVERTURNED                         462\n",
            "TRAIN                               41\n",
            "Name: FIRST_CRASH_TYPE, dtype: int64\n",
            "------------\n",
            "NOT DIVIDED                        327457\n",
            "DIVIDED - W/MEDIAN (NOT RAISED)    121536\n",
            "ONE-WAY                             96367\n",
            "PARKING LOT                         51326\n",
            "DIVIDED - W/MEDIAN BARRIER          43192\n",
            "FOUR WAY                            42636\n",
            "OTHER                               20657\n",
            "ALLEY                               12391\n",
            "T-INTERSECTION                       8707\n",
            "UNKNOWN                              8545\n",
            "CENTER TURN LANE                     5508\n",
            "DRIVEWAY                             2455\n",
            "RAMP                                 2345\n",
            "UNKNOWN INTERSECTION TYPE            2090\n",
            "FIVE POINT, OR MORE                   967\n",
            "Y-INTERSECTION                        946\n",
            "TRAFFIC ROUTE                         777\n",
            "NOT REPORTED                          465\n",
            "ROUNDABOUT                            216\n",
            "L-INTERSECTION                        142\n",
            "Name: TRAFFICWAY_TYPE, dtype: int64\n",
            "------------\n",
            "STRAIGHT AND LEVEL       730191\n",
            "STRAIGHT ON GRADE          9559\n",
            "CURVE, LEVEL               5477\n",
            "STRAIGHT ON HILLCREST      2034\n",
            "CURVE ON GRADE             1120\n",
            "CURVE ON HILLCREST          344\n",
            "Name: ALIGNMENT, dtype: int64\n",
            "------------\n",
            "DRY                556162\n",
            "WET                 98616\n",
            "UNKNOWN             60110\n",
            "SNOW OR SLUSH       26458\n",
            "ICE                  5214\n",
            "OTHER                1879\n",
            "SAND, MUD, DIRT       286\n",
            "Name: ROADWAY_SURFACE_COND, dtype: int64\n",
            "------------\n",
            "NO DEFECTS           607463\n",
            "UNKNOWN              126213\n",
            "RUT, HOLES             5848\n",
            "OTHER                  4142\n",
            "WORN SURFACE           3072\n",
            "SHOULDER DEFECT        1404\n",
            "DEBRIS ON ROADWAY       583\n",
            "Name: ROAD_DEFECT, dtype: int64\n",
            "------------\n",
            "NO INJURY / DRIVE AWAY              550479\n",
            "INJURY AND / OR TOW DUE TO CRASH    198246\n",
            "Name: CRASH_TYPE, dtype: int64\n",
            "------------\n",
            "OVER $1,500      458970\n",
            "$501 - $1,500    202878\n",
            "$500 OR LESS      86877\n",
            "Name: DAMAGE, dtype: int64\n",
            "------------\n",
            "02/26/2020 08:30:00 AM    12\n",
            "10-12-2020 16:00          12\n",
            "10/25/2021 09:00:00 AM    11\n",
            "01/26/2023 08:30:00 AM    11\n",
            "02/14/2020 05:00:00 PM    11\n",
            "                          ..\n",
            "02-10-2018 21:10           1\n",
            "07-02-2020 14:43           1\n",
            "01-02-2023 11:30           1\n",
            "12/27/2022 10:47:00 PM     1\n",
            "04/18/2018 01:15:00 PM     1\n",
            "Name: DATE_POLICE_NOTIFIED, Length: 568427, dtype: int64\n",
            "------------\n",
            "UNABLE TO DETERMINE                                                                 289384\n",
            "FAILING TO YIELD RIGHT-OF-WAY                                                        81931\n",
            "FOLLOWING TOO CLOSELY                                                                73892\n",
            "NOT APPLICABLE                                                                       39528\n",
            "IMPROPER OVERTAKING/PASSING                                                          36657\n",
            "FAILING TO REDUCE SPEED TO AVOID CRASH                                               31696\n",
            "IMPROPER BACKING                                                                     30062\n",
            "IMPROPER LANE USAGE                                                                  27224\n",
            "IMPROPER TURNING/NO SIGNAL                                                           24797\n",
            "DRIVING SKILLS/KNOWLEDGE/EXPERIENCE                                                  24727\n",
            "DISREGARDING TRAFFIC SIGNALS                                                         14537\n",
            "WEATHER                                                                              11543\n",
            "OPERATING VEHICLE IN ERRATIC, RECKLESS, CARELESS, NEGLIGENT OR AGGRESSIVE MANNER      9549\n",
            "DISREGARDING STOP SIGN                                                                8187\n",
            "DISTRACTION - FROM INSIDE VEHICLE                                                     5183\n",
            "EQUIPMENT - VEHICLE CONDITION                                                         4714\n",
            "PHYSICAL CONDITION OF DRIVER                                                          4532\n",
            "VISION OBSCURED (SIGNS, TREE LIMBS, BUILDINGS, ETC.)                                  4268\n",
            "DRIVING ON WRONG SIDE/WRONG WAY                                                       3933\n",
            "UNDER THE INFLUENCE OF ALCOHOL/DRUGS (USE WHEN ARREST IS EFFECTED)                    3605\n",
            "DISTRACTION - FROM OUTSIDE VEHICLE                                                    3136\n",
            "EXCEEDING AUTHORIZED SPEED LIMIT                                                      1982\n",
            "ROAD ENGINEERING/SURFACE/MARKING DEFECTS                                              1911\n",
            "EXCEEDING SAFE SPEED FOR CONDITIONS                                                   1684\n",
            "ROAD CONSTRUCTION/MAINTENANCE                                                         1647\n",
            "DISREGARDING OTHER TRAFFIC SIGNS                                                      1610\n",
            "EVASIVE ACTION DUE TO ANIMAL, OBJECT, NONMOTORIST                                     1403\n",
            "CELL PHONE USE OTHER THAN TEXTING                                                     1007\n",
            "DISREGARDING ROAD MARKINGS                                                             935\n",
            "HAD BEEN DRINKING (USE WHEN ARREST IS NOT MADE)                                        786\n",
            "ANIMAL                                                                                 627\n",
            "TURNING RIGHT ON RED                                                                   542\n",
            "DISTRACTION - OTHER ELECTRONIC DEVICE (NAVIGATION DEVICE, DVD PLAYER, ETC.)            354\n",
            "RELATED TO BUS STOP                                                                    331\n",
            "TEXTING                                                                                300\n",
            "DISREGARDING YIELD SIGN                                                                261\n",
            "PASSING STOPPED SCHOOL BUS                                                              90\n",
            "BICYCLE ADVANCING LEGALLY ON RED LIGHT                                                  78\n",
            "OBSTRUCTED CROSSWALKS                                                                   71\n",
            "MOTORCYCLE ADVANCING LEGALLY ON RED LIGHT                                               21\n",
            "Name: PRIM_CONTRIBUTORY_CAUSE, dtype: int64\n",
            "------------\n",
            "NOT APPLICABLE                                                                      305924\n",
            "UNABLE TO DETERMINE                                                                 271628\n",
            "FAILING TO REDUCE SPEED TO AVOID CRASH                                               28470\n",
            "FAILING TO YIELD RIGHT-OF-WAY                                                        23092\n",
            "DRIVING SKILLS/KNOWLEDGE/EXPERIENCE                                                  22949\n",
            "FOLLOWING TOO CLOSELY                                                                19828\n",
            "IMPROPER OVERTAKING/PASSING                                                          11365\n",
            "IMPROPER LANE USAGE                                                                  10599\n",
            "WEATHER                                                                               8713\n",
            "IMPROPER TURNING/NO SIGNAL                                                            7557\n",
            "IMPROPER BACKING                                                                      6079\n",
            "OPERATING VEHICLE IN ERRATIC, RECKLESS, CARELESS, NEGLIGENT OR AGGRESSIVE MANNER      4777\n",
            "DISREGARDING TRAFFIC SIGNALS                                                          2998\n",
            "VISION OBSCURED (SIGNS, TREE LIMBS, BUILDINGS, ETC.)                                  2411\n",
            "PHYSICAL CONDITION OF DRIVER                                                          2325\n",
            "DISTRACTION - FROM INSIDE VEHICLE                                                     2285\n",
            "DISREGARDING STOP SIGN                                                                2195\n",
            "EQUIPMENT - VEHICLE CONDITION                                                         1524\n",
            "DRIVING ON WRONG SIDE/WRONG WAY                                                       1508\n",
            "EXCEEDING AUTHORIZED SPEED LIMIT                                                      1473\n",
            "EXCEEDING SAFE SPEED FOR CONDITIONS                                                   1438\n",
            "DISTRACTION - FROM OUTSIDE VEHICLE                                                    1261\n",
            "UNDER THE INFLUENCE OF ALCOHOL/DRUGS (USE WHEN ARREST IS EFFECTED)                    1242\n",
            "HAD BEEN DRINKING (USE WHEN ARREST IS NOT MADE)                                        940\n",
            "ROAD CONSTRUCTION/MAINTENANCE                                                          890\n",
            "DISREGARDING OTHER TRAFFIC SIGNS                                                       774\n",
            "DISREGARDING ROAD MARKINGS                                                             769\n",
            "ROAD ENGINEERING/SURFACE/MARKING DEFECTS                                               755\n",
            "CELL PHONE USE OTHER THAN TEXTING                                                      563\n",
            "EVASIVE ACTION DUE TO ANIMAL, OBJECT, NONMOTORIST                                      407\n",
            "ANIMAL                                                                                 357\n",
            "RELATED TO BUS STOP                                                                    342\n",
            "TURNING RIGHT ON RED                                                                   286\n",
            "BICYCLE ADVANCING LEGALLY ON RED LIGHT                                                 225\n",
            "DISTRACTION - OTHER ELECTRONIC DEVICE (NAVIGATION DEVICE, DVD PLAYER, ETC.)            223\n",
            "DISREGARDING YIELD SIGN                                                                194\n",
            "TEXTING                                                                                140\n",
            "PASSING STOPPED SCHOOL BUS                                                              88\n",
            "OBSTRUCTED CROSSWALKS                                                                   76\n",
            "MOTORCYCLE ADVANCING LEGALLY ON RED LIGHT                                               55\n",
            "Name: SEC_CONTRIBUTORY_CAUSE, dtype: int64\n",
            "------------\n",
            "1600     4850\n",
            "100      4554\n",
            "800      4394\n",
            "200      4212\n",
            "300      3832\n",
            "         ... \n",
            "7696        1\n",
            "8394        1\n",
            "12822       1\n",
            "12813       1\n",
            "11181       1\n",
            "Name: STREET_NO, Length: 11626, dtype: int64\n",
            "------------\n",
            "W    267262\n",
            "S    251312\n",
            "N    178714\n",
            "E     51433\n",
            "Name: STREET_DIRECTION, dtype: int64\n",
            "------------\n",
            "WESTERN AVE        20450\n",
            "PULASKI RD         17859\n",
            "CICERO AVE         16781\n",
            "ASHLAND AVE        16275\n",
            "HALSTED ST         14561\n",
            "                   ...  \n",
            "DICKINSON AVE          1\n",
            "KINZIE                 1\n",
            "INDEPENDENCE SQ        1\n",
            "NORWOOD AVE            1\n",
            "CRESTLINE ST           1\n",
            "Name: STREET_NAME, Length: 1627, dtype: int64\n",
            "------------\n",
            "1834.0    9205\n",
            "114.0     7695\n",
            "813.0     7442\n",
            "1831.0    7049\n",
            "815.0     7048\n",
            "          ... \n",
            "1653.0     376\n",
            "1655.0     206\n",
            "1652.0     175\n",
            "1650.0      18\n",
            "6100.0       3\n",
            "Name: BEAT_OF_OCCURRENCE, Length: 276, dtype: int64\n",
            "------------\n",
            "2     654871\n",
            "1      41611\n",
            "3      41383\n",
            "4       8027\n",
            "5       1931\n",
            "6        564\n",
            "7        187\n",
            "8         82\n",
            "9         33\n",
            "10        16\n",
            "11         7\n",
            "12         5\n",
            "18         3\n",
            "14         2\n",
            "13         1\n",
            "15         1\n",
            "16         1\n",
            "Name: NUM_UNITS, dtype: int64\n",
            "------------\n",
            "NO INDICATION OF INJURY     645324\n",
            "NONINCAPACITATING INJURY     57526\n",
            "REPORTED, NOT EVIDENT        30659\n",
            "INCAPACITATING INJURY        12772\n",
            "FATAL                          812\n",
            "Name: MOST_SEVERE_INJURY, dtype: int64\n",
            "------------\n",
            "15    57581\n",
            "16    57250\n",
            "17    55788\n",
            "14    50358\n",
            "18    46110\n",
            "13    45758\n",
            "12    44122\n",
            "8     39222\n",
            "11    38132\n",
            "9     34359\n",
            "10    34092\n",
            "19    33924\n",
            "7     31305\n",
            "20    27335\n",
            "21    24549\n",
            "22    22543\n",
            "23    19518\n",
            "6     16247\n",
            "0     16198\n",
            "1     13822\n",
            "2     11904\n",
            "5     10261\n",
            "3      9676\n",
            "4      8671\n",
            "Name: CRASH_HOUR, dtype: int64\n",
            "------------\n",
            "6    121818\n",
            "7    111010\n",
            "5    107661\n",
            "3    106508\n",
            "4    105883\n",
            "2    102964\n",
            "1     92881\n",
            "Name: CRASH_DAY_OF_WEEK, dtype: int64\n",
            "------------\n",
            "7     68843\n",
            "6     67533\n",
            "10    66703\n",
            "5     66515\n",
            "9     62801\n",
            "8     62779\n",
            "12    61713\n",
            "11    60487\n",
            "3     58885\n",
            "1     57832\n",
            "2     57477\n",
            "4     57157\n",
            "Name: CRASH_MONTH, dtype: int64\n",
            "------------\n",
            "41.976201    1192\n",
            "41.900959     686\n",
            "41.791420     539\n",
            "41.751461     521\n",
            "41.722257     412\n",
            "             ... \n",
            "41.822890       1\n",
            "41.902992       1\n",
            "41.948054       1\n",
            "41.935635       1\n",
            "41.880306       1\n",
            "Name: LATITUDE, Length: 282453, dtype: int64\n",
            "------------\n",
            "-87.905309    1192\n",
            "-87.619928     685\n",
            "-87.580148     539\n",
            "-87.585972     521\n",
            "-87.585276     412\n",
            "              ... \n",
            "-87.690498       1\n",
            "-87.755839       1\n",
            "-87.764343       1\n",
            "-87.716033       1\n",
            "-87.667235       1\n",
            "Name: LONGITUDE, Length: 281946, dtype: int64\n",
            "------------\n",
            "POINT (-87.905309125103 41.976201139024)    1192\n",
            "POINT (-87.619928173678 41.900958919109)     685\n",
            "POINT (-87.580147768689 41.791420282098)     539\n",
            "POINT (-87.585971992965 41.751460603167)     521\n",
            "POINT (-87.585275565077 41.722257273006)     412\n",
            "                                            ... \n",
            "POINT (-87.598691215223 41.692606864216)       1\n",
            "POINT (-87.651192888164 41.751530265462)       1\n",
            "POINT (-87.713741895345 41.782550391944)       1\n",
            "POINT (-87.697940661089 41.814667203476)       1\n",
            "POINT (-87.66723480733 41.880306065513)        1\n",
            "Name: LOCATION, Length: 283890, dtype: int64\n",
            "------------\n"
          ]
        }
      ],
      "source": [
        "# Unique value counts of each column\n",
        "for i in new_df.columns:\n",
        "  # if new_df[i].dtypes == 'object':\n",
        "  print(new_df[i].value_counts())\n",
        "  print('------------')"
      ]
    },
    {
      "cell_type": "code",
      "execution_count": null,
      "metadata": {
        "id": "iOPY2Dwjz8Eo"
      },
      "outputs": [],
      "source": [
        "# Dropping CRASH_RECORD_ID and RD_NO (Report number) as they are unique for each record and don't help with the model.\n",
        "# Also dropping CRASH_DATE and DATE_POLICE_NOTIFIED as they are mostly unique. Crash timing can be better estimated from the CRASH_HOUR AND CRASH_DAY_OF_WEEK columns\n",
        "new_df = new_df.drop(['CRASH_RECORD_ID', 'RD_NO', 'CRASH_DATE', 'DATE_POLICE_NOTIFIED'], axis = 1)"
      ]
    },
    {
      "cell_type": "code",
      "execution_count": null,
      "metadata": {
        "colab": {
          "base_uri": "https://localhost:8080/"
        },
        "id": "jDCf6UxN5Fpk",
        "outputId": "29a06f4d-bb06-4563-d122-b23df69f31f0"
      },
      "outputs": [
        {
          "data": {
            "text/plain": [
              "POSTED_SPEED_LIMIT            0\n",
              "TRAFFIC_CONTROL_DEVICE        0\n",
              "DEVICE_CONDITION              0\n",
              "WEATHER_CONDITION             0\n",
              "LIGHTING_CONDITION            0\n",
              "FIRST_CRASH_TYPE              0\n",
              "TRAFFICWAY_TYPE               0\n",
              "ALIGNMENT                     0\n",
              "ROADWAY_SURFACE_COND          0\n",
              "ROAD_DEFECT                   0\n",
              "CRASH_TYPE                    0\n",
              "DAMAGE                        0\n",
              "PRIM_CONTRIBUTORY_CAUSE       0\n",
              "SEC_CONTRIBUTORY_CAUSE        0\n",
              "STREET_NO                     0\n",
              "STREET_DIRECTION              4\n",
              "STREET_NAME                   1\n",
              "BEAT_OF_OCCURRENCE            5\n",
              "NUM_UNITS                     0\n",
              "MOST_SEVERE_INJURY         1632\n",
              "CRASH_HOUR                    0\n",
              "CRASH_DAY_OF_WEEK             0\n",
              "CRASH_MONTH                   0\n",
              "LATITUDE                   4926\n",
              "LONGITUDE                  4926\n",
              "LOCATION                   4926\n",
              "dtype: int64"
            ]
          },
          "execution_count": 18,
          "metadata": {},
          "output_type": "execute_result"
        }
      ],
      "source": [
        "new_df.isna().sum()"
      ]
    },
    {
      "cell_type": "code",
      "execution_count": null,
      "metadata": {
        "id": "I9Hk0VBASOO0"
      },
      "outputs": [],
      "source": [
        "# Dropping Latitude, Longitude and Location as street name is a better way to estimate the location\n",
        "new_df = new_df.drop(['LATITUDE', 'LONGITUDE', 'LOCATION'], axis = 1)"
      ]
    },
    {
      "cell_type": "code",
      "execution_count": null,
      "metadata": {
        "id": "8Cglykz1IaMN"
      },
      "outputs": [],
      "source": [
        "# Dropping a few more columns (street direction, no. and beat of occurrence arw different versions of street name, secondary contributing cause has many \"unknown\" values)\n",
        "# Crash day and week are more precise categories than crash month which is broader\n",
        "new_df = new_df.drop(['STREET_DIRECTION', 'STREET_NO', 'BEAT_OF_OCCURRENCE', 'SEC_CONTRIBUTORY_CAUSE', 'CRASH_MONTH'], axis = 1)"
      ]
    },
    {
      "cell_type": "code",
      "execution_count": null,
      "metadata": {
        "colab": {
          "base_uri": "https://localhost:8080/"
        },
        "id": "tTnxssQcJtZg",
        "outputId": "e6283d82-9e7c-4684-94cb-57a87a9ce713"
      },
      "outputs": [
        {
          "data": {
            "text/plain": [
              "POSTED_SPEED_LIMIT            0\n",
              "TRAFFIC_CONTROL_DEVICE        0\n",
              "DEVICE_CONDITION              0\n",
              "WEATHER_CONDITION             0\n",
              "LIGHTING_CONDITION            0\n",
              "FIRST_CRASH_TYPE              0\n",
              "TRAFFICWAY_TYPE               0\n",
              "ALIGNMENT                     0\n",
              "ROADWAY_SURFACE_COND          0\n",
              "ROAD_DEFECT                   0\n",
              "CRASH_TYPE                    0\n",
              "DAMAGE                        0\n",
              "PRIM_CONTRIBUTORY_CAUSE       0\n",
              "STREET_NAME                   1\n",
              "NUM_UNITS                     0\n",
              "MOST_SEVERE_INJURY         1632\n",
              "CRASH_HOUR                    0\n",
              "CRASH_DAY_OF_WEEK             0\n",
              "dtype: int64"
            ]
          },
          "execution_count": 21,
          "metadata": {},
          "output_type": "execute_result"
        }
      ],
      "source": [
        "new_df.isna().sum()"
      ]
    },
    {
      "cell_type": "code",
      "execution_count": null,
      "metadata": {
        "id": "8TyKqwOvJyTq"
      },
      "outputs": [],
      "source": [
        "# Dropping the remaining na values as the dataset is large enough to not be affected by dropping these values\n",
        "new_df = new_df.dropna()"
      ]
    },
    {
      "cell_type": "code",
      "execution_count": null,
      "metadata": {
        "colab": {
          "base_uri": "https://localhost:8080/"
        },
        "id": "XipBkXXzJ3i3",
        "outputId": "b48b7401-11ae-4551-eb96-7554265a969d"
      },
      "outputs": [
        {
          "data": {
            "text/plain": [
              "POSTED_SPEED_LIMIT         0\n",
              "TRAFFIC_CONTROL_DEVICE     0\n",
              "DEVICE_CONDITION           0\n",
              "WEATHER_CONDITION          0\n",
              "LIGHTING_CONDITION         0\n",
              "FIRST_CRASH_TYPE           0\n",
              "TRAFFICWAY_TYPE            0\n",
              "ALIGNMENT                  0\n",
              "ROADWAY_SURFACE_COND       0\n",
              "ROAD_DEFECT                0\n",
              "CRASH_TYPE                 0\n",
              "DAMAGE                     0\n",
              "PRIM_CONTRIBUTORY_CAUSE    0\n",
              "STREET_NAME                0\n",
              "NUM_UNITS                  0\n",
              "MOST_SEVERE_INJURY         0\n",
              "CRASH_HOUR                 0\n",
              "CRASH_DAY_OF_WEEK          0\n",
              "dtype: int64"
            ]
          },
          "execution_count": 23,
          "metadata": {},
          "output_type": "execute_result"
        }
      ],
      "source": [
        "new_df.isna().sum()"
      ]
    },
    {
      "cell_type": "code",
      "execution_count": null,
      "metadata": {
        "colab": {
          "base_uri": "https://localhost:8080/"
        },
        "id": "VlMxmcktJ6PJ",
        "outputId": "9e299119-3f0a-4ad4-a3fc-c51492558411"
      },
      "outputs": [
        {
          "name": "stdout",
          "output_type": "stream",
          "text": [
            "<class 'pandas.core.frame.DataFrame'>\n",
            "Int64Index: 747092 entries, 0 to 748724\n",
            "Data columns (total 18 columns):\n",
            " #   Column                   Non-Null Count   Dtype \n",
            "---  ------                   --------------   ----- \n",
            " 0   POSTED_SPEED_LIMIT       747092 non-null  int64 \n",
            " 1   TRAFFIC_CONTROL_DEVICE   747092 non-null  object\n",
            " 2   DEVICE_CONDITION         747092 non-null  object\n",
            " 3   WEATHER_CONDITION        747092 non-null  object\n",
            " 4   LIGHTING_CONDITION       747092 non-null  object\n",
            " 5   FIRST_CRASH_TYPE         747092 non-null  object\n",
            " 6   TRAFFICWAY_TYPE          747092 non-null  object\n",
            " 7   ALIGNMENT                747092 non-null  object\n",
            " 8   ROADWAY_SURFACE_COND     747092 non-null  object\n",
            " 9   ROAD_DEFECT              747092 non-null  object\n",
            " 10  CRASH_TYPE               747092 non-null  object\n",
            " 11  DAMAGE                   747092 non-null  object\n",
            " 12  PRIM_CONTRIBUTORY_CAUSE  747092 non-null  object\n",
            " 13  STREET_NAME              747092 non-null  object\n",
            " 14  NUM_UNITS                747092 non-null  int64 \n",
            " 15  MOST_SEVERE_INJURY       747092 non-null  object\n",
            " 16  CRASH_HOUR               747092 non-null  int64 \n",
            " 17  CRASH_DAY_OF_WEEK        747092 non-null  int64 \n",
            "dtypes: int64(4), object(14)\n",
            "memory usage: 108.3+ MB\n"
          ]
        }
      ],
      "source": [
        "new_df.info()"
      ]
    },
    {
      "cell_type": "code",
      "execution_count": null,
      "metadata": {
        "colab": {
          "base_uri": "https://localhost:8080/"
        },
        "id": "iojM8uQPPc5E",
        "outputId": "561faafe-a2e0-4809-ca2d-9dd89e865b9a"
      },
      "outputs": [
        {
          "data": {
            "text/plain": [
              "NO INDICATION OF INJURY     645323\n",
              "NONINCAPACITATING INJURY     57526\n",
              "REPORTED, NOT EVIDENT        30659\n",
              "INCAPACITATING INJURY        12772\n",
              "FATAL                          812\n",
              "Name: MOST_SEVERE_INJURY, dtype: int64"
            ]
          },
          "execution_count": 25,
          "metadata": {},
          "output_type": "execute_result"
        }
      ],
      "source": [
        "new_df['MOST_SEVERE_INJURY'].value_counts()"
      ]
    },
    {
      "cell_type": "code",
      "execution_count": null,
      "metadata": {
        "id": "4WS5tDEvObOJ"
      },
      "outputs": [],
      "source": [
        "# Changing the problem from multiclass to binary classification\n",
        "new_df['INJURED'] = np.where(new_df['MOST_SEVERE_INJURY'] == 'NO INDICATION OF INJURY', 0, 1)"
      ]
    },
    {
      "cell_type": "code",
      "execution_count": null,
      "metadata": {
        "colab": {
          "base_uri": "https://localhost:8080/"
        },
        "id": "JTbWJs78PoPZ",
        "outputId": "62c55088-053c-46e6-e285-ee6e789f9ee5"
      },
      "outputs": [
        {
          "data": {
            "text/plain": [
              "0    645323\n",
              "1    101769\n",
              "Name: INJURED, dtype: int64"
            ]
          },
          "execution_count": 27,
          "metadata": {},
          "output_type": "execute_result"
        }
      ],
      "source": [
        "new_df['INJURED'].value_counts()"
      ]
    },
    {
      "cell_type": "code",
      "execution_count": null,
      "metadata": {
        "colab": {
          "base_uri": "https://localhost:8080/"
        },
        "id": "mH_9Y9WIB8b4",
        "outputId": "8dbfb401-7769-4ef6-c650-67f32e24b24b"
      },
      "outputs": [
        {
          "data": {
            "text/plain": [
              "30    549651\n",
              "35     50128\n",
              "25     46966\n",
              "20     31148\n",
              "15     26417\n",
              "10     17287\n",
              "0       7302\n",
              "40      7193\n",
              "45      4911\n",
              "5       4463\n",
              "55       737\n",
              "50       196\n",
              "3        177\n",
              "9         95\n",
              "39        75\n",
              "99        66\n",
              "60        45\n",
              "1         40\n",
              "24        37\n",
              "2         26\n",
              "32        18\n",
              "65        18\n",
              "34        14\n",
              "33        13\n",
              "11        11\n",
              "26         9\n",
              "6          7\n",
              "36         5\n",
              "7          5\n",
              "70         4\n",
              "14         3\n",
              "29         3\n",
              "22         3\n",
              "12         3\n",
              "8          2\n",
              "23         2\n",
              "38         2\n",
              "4          2\n",
              "18         2\n",
              "31         2\n",
              "49         1\n",
              "63         1\n",
              "62         1\n",
              "44         1\n",
              "Name: POSTED_SPEED_LIMIT, dtype: int64"
            ]
          },
          "execution_count": 28,
          "metadata": {},
          "output_type": "execute_result"
        }
      ],
      "source": [
        "new_df['POSTED_SPEED_LIMIT'].value_counts()"
      ]
    },
    {
      "cell_type": "code",
      "execution_count": null,
      "metadata": {
        "id": "_R4nljmkASfA"
      },
      "outputs": [],
      "source": [
        "# Combining the multiple different speed limits into bins\n",
        "new_df['SPEED_LIMIT'] = pd.cut(new_df['POSTED_SPEED_LIMIT'], bins=[0,10,20,30,40,50,60,70,80,90,100], labels=['0-10','10-20','20-30','30-40','40-50','50-60','60-70','70-80','80-90','90-100'])"
      ]
    },
    {
      "cell_type": "code",
      "execution_count": null,
      "metadata": {
        "colab": {
          "base_uri": "https://localhost:8080/"
        },
        "id": "5RW20Wp1Bk91",
        "outputId": "86f10114-6130-4af3-a018-00639d5ab960"
      },
      "outputs": [
        {
          "data": {
            "text/plain": [
              "20-30     596671\n",
              "10-20      57584\n",
              "30-40      57450\n",
              "0-10       22104\n",
              "40-50       5109\n",
              "50-60        782\n",
              "90-100        66\n",
              "60-70         24\n",
              "70-80          0\n",
              "80-90          0\n",
              "Name: SPEED_LIMIT, dtype: int64"
            ]
          },
          "execution_count": 30,
          "metadata": {},
          "output_type": "execute_result"
        }
      ],
      "source": [
        "new_df['SPEED_LIMIT'].value_counts()"
      ]
    },
    {
      "cell_type": "code",
      "execution_count": null,
      "metadata": {
        "id": "PyDtF4etQQND"
      },
      "outputs": [],
      "source": [
        "# Separate copy of dataset for label encoding\n",
        "fin_df = new_df.copy()"
      ]
    },
    {
      "cell_type": "code",
      "execution_count": null,
      "metadata": {
        "colab": {
          "base_uri": "https://localhost:8080/",
          "height": 399
        },
        "id": "uSlPhulIQagZ",
        "outputId": "98622088-95d2-4e3d-9fb8-ad60ab7a285b"
      },
      "outputs": [
        {
          "data": {
            "text/html": [
              "\n",
              "  <div id=\"df-f6318817-2341-41b2-920f-dcc83552f64d\" class=\"colab-df-container\">\n",
              "    <div>\n",
              "<style scoped>\n",
              "    .dataframe tbody tr th:only-of-type {\n",
              "        vertical-align: middle;\n",
              "    }\n",
              "\n",
              "    .dataframe tbody tr th {\n",
              "        vertical-align: top;\n",
              "    }\n",
              "\n",
              "    .dataframe thead th {\n",
              "        text-align: right;\n",
              "    }\n",
              "</style>\n",
              "<table border=\"1\" class=\"dataframe\">\n",
              "  <thead>\n",
              "    <tr style=\"text-align: right;\">\n",
              "      <th></th>\n",
              "      <th>POSTED_SPEED_LIMIT</th>\n",
              "      <th>TRAFFIC_CONTROL_DEVICE</th>\n",
              "      <th>DEVICE_CONDITION</th>\n",
              "      <th>WEATHER_CONDITION</th>\n",
              "      <th>LIGHTING_CONDITION</th>\n",
              "      <th>FIRST_CRASH_TYPE</th>\n",
              "      <th>TRAFFICWAY_TYPE</th>\n",
              "      <th>ALIGNMENT</th>\n",
              "      <th>ROADWAY_SURFACE_COND</th>\n",
              "      <th>ROAD_DEFECT</th>\n",
              "      <th>CRASH_TYPE</th>\n",
              "      <th>DAMAGE</th>\n",
              "      <th>PRIM_CONTRIBUTORY_CAUSE</th>\n",
              "      <th>STREET_NAME</th>\n",
              "      <th>NUM_UNITS</th>\n",
              "      <th>MOST_SEVERE_INJURY</th>\n",
              "      <th>CRASH_HOUR</th>\n",
              "      <th>CRASH_DAY_OF_WEEK</th>\n",
              "      <th>INJURED</th>\n",
              "      <th>SPEED_LIMIT</th>\n",
              "    </tr>\n",
              "  </thead>\n",
              "  <tbody>\n",
              "    <tr>\n",
              "      <th>0</th>\n",
              "      <td>30</td>\n",
              "      <td>NO CONTROLS</td>\n",
              "      <td>NO CONTROLS</td>\n",
              "      <td>CLEAR</td>\n",
              "      <td>DAYLIGHT</td>\n",
              "      <td>TURNING</td>\n",
              "      <td>NOT DIVIDED</td>\n",
              "      <td>STRAIGHT AND LEVEL</td>\n",
              "      <td>UNKNOWN</td>\n",
              "      <td>NO DEFECTS</td>\n",
              "      <td>NO INJURY / DRIVE AWAY</td>\n",
              "      <td>OVER $1,500</td>\n",
              "      <td>IMPROPER TURNING/NO SIGNAL</td>\n",
              "      <td>63RD ST</td>\n",
              "      <td>2</td>\n",
              "      <td>NO INDICATION OF INJURY</td>\n",
              "      <td>15</td>\n",
              "      <td>4</td>\n",
              "      <td>0</td>\n",
              "      <td>20-30</td>\n",
              "    </tr>\n",
              "    <tr>\n",
              "      <th>1</th>\n",
              "      <td>30</td>\n",
              "      <td>NO CONTROLS</td>\n",
              "      <td>NO CONTROLS</td>\n",
              "      <td>CLEAR</td>\n",
              "      <td>DAYLIGHT</td>\n",
              "      <td>REAR END</td>\n",
              "      <td>NOT DIVIDED</td>\n",
              "      <td>STRAIGHT AND LEVEL</td>\n",
              "      <td>DRY</td>\n",
              "      <td>NO DEFECTS</td>\n",
              "      <td>NO INJURY / DRIVE AWAY</td>\n",
              "      <td>$501 - $1,500</td>\n",
              "      <td>FOLLOWING TOO CLOSELY</td>\n",
              "      <td>PULASKI RD</td>\n",
              "      <td>2</td>\n",
              "      <td>NO INDICATION OF INJURY</td>\n",
              "      <td>17</td>\n",
              "      <td>4</td>\n",
              "      <td>0</td>\n",
              "      <td>20-30</td>\n",
              "    </tr>\n",
              "    <tr>\n",
              "      <th>2</th>\n",
              "      <td>30</td>\n",
              "      <td>NO CONTROLS</td>\n",
              "      <td>NO CONTROLS</td>\n",
              "      <td>CLEAR</td>\n",
              "      <td>DAYLIGHT</td>\n",
              "      <td>OTHER OBJECT</td>\n",
              "      <td>NOT DIVIDED</td>\n",
              "      <td>STRAIGHT AND LEVEL</td>\n",
              "      <td>DRY</td>\n",
              "      <td>RUT, HOLES</td>\n",
              "      <td>NO INJURY / DRIVE AWAY</td>\n",
              "      <td>$501 - $1,500</td>\n",
              "      <td>NOT APPLICABLE</td>\n",
              "      <td>STONY ISLAND AVE</td>\n",
              "      <td>1</td>\n",
              "      <td>NO INDICATION OF INJURY</td>\n",
              "      <td>14</td>\n",
              "      <td>4</td>\n",
              "      <td>0</td>\n",
              "      <td>20-30</td>\n",
              "    </tr>\n",
              "    <tr>\n",
              "      <th>3</th>\n",
              "      <td>30</td>\n",
              "      <td>TRAFFIC SIGNAL</td>\n",
              "      <td>UNKNOWN</td>\n",
              "      <td>FREEZING RAIN/DRIZZLE</td>\n",
              "      <td>DAYLIGHT</td>\n",
              "      <td>REAR END</td>\n",
              "      <td>NOT DIVIDED</td>\n",
              "      <td>STRAIGHT AND LEVEL</td>\n",
              "      <td>UNKNOWN</td>\n",
              "      <td>UNKNOWN</td>\n",
              "      <td>NO INJURY / DRIVE AWAY</td>\n",
              "      <td>$501 - $1,500</td>\n",
              "      <td>FOLLOWING TOO CLOSELY</td>\n",
              "      <td>ASHLAND AVE</td>\n",
              "      <td>2</td>\n",
              "      <td>NO INDICATION OF INJURY</td>\n",
              "      <td>7</td>\n",
              "      <td>4</td>\n",
              "      <td>0</td>\n",
              "      <td>20-30</td>\n",
              "    </tr>\n",
              "    <tr>\n",
              "      <th>4</th>\n",
              "      <td>30</td>\n",
              "      <td>NO CONTROLS</td>\n",
              "      <td>NO CONTROLS</td>\n",
              "      <td>CLEAR</td>\n",
              "      <td>DAYLIGHT</td>\n",
              "      <td>REAR END</td>\n",
              "      <td>NOT DIVIDED</td>\n",
              "      <td>STRAIGHT AND LEVEL</td>\n",
              "      <td>WET</td>\n",
              "      <td>NO DEFECTS</td>\n",
              "      <td>NO INJURY / DRIVE AWAY</td>\n",
              "      <td>OVER $1,500</td>\n",
              "      <td>FOLLOWING TOO CLOSELY</td>\n",
              "      <td>ELSTON AVE</td>\n",
              "      <td>2</td>\n",
              "      <td>NO INDICATION OF INJURY</td>\n",
              "      <td>18</td>\n",
              "      <td>4</td>\n",
              "      <td>0</td>\n",
              "      <td>20-30</td>\n",
              "    </tr>\n",
              "  </tbody>\n",
              "</table>\n",
              "</div>\n",
              "    <div class=\"colab-df-buttons\">\n",
              "\n",
              "  <div class=\"colab-df-container\">\n",
              "    <button class=\"colab-df-convert\" onclick=\"convertToInteractive('df-f6318817-2341-41b2-920f-dcc83552f64d')\"\n",
              "            title=\"Convert this dataframe to an interactive table.\"\n",
              "            style=\"display:none;\">\n",
              "\n",
              "  <svg xmlns=\"http://www.w3.org/2000/svg\" height=\"24px\" viewBox=\"0 -960 960 960\">\n",
              "    <path d=\"M120-120v-720h720v720H120Zm60-500h600v-160H180v160Zm220 220h160v-160H400v160Zm0 220h160v-160H400v160ZM180-400h160v-160H180v160Zm440 0h160v-160H620v160ZM180-180h160v-160H180v160Zm440 0h160v-160H620v160Z\"/>\n",
              "  </svg>\n",
              "    </button>\n",
              "\n",
              "  <style>\n",
              "    .colab-df-container {\n",
              "      display:flex;\n",
              "      gap: 12px;\n",
              "    }\n",
              "\n",
              "    .colab-df-convert {\n",
              "      background-color: #E8F0FE;\n",
              "      border: none;\n",
              "      border-radius: 50%;\n",
              "      cursor: pointer;\n",
              "      display: none;\n",
              "      fill: #1967D2;\n",
              "      height: 32px;\n",
              "      padding: 0 0 0 0;\n",
              "      width: 32px;\n",
              "    }\n",
              "\n",
              "    .colab-df-convert:hover {\n",
              "      background-color: #E2EBFA;\n",
              "      box-shadow: 0px 1px 2px rgba(60, 64, 67, 0.3), 0px 1px 3px 1px rgba(60, 64, 67, 0.15);\n",
              "      fill: #174EA6;\n",
              "    }\n",
              "\n",
              "    .colab-df-buttons div {\n",
              "      margin-bottom: 4px;\n",
              "    }\n",
              "\n",
              "    [theme=dark] .colab-df-convert {\n",
              "      background-color: #3B4455;\n",
              "      fill: #D2E3FC;\n",
              "    }\n",
              "\n",
              "    [theme=dark] .colab-df-convert:hover {\n",
              "      background-color: #434B5C;\n",
              "      box-shadow: 0px 1px 3px 1px rgba(0, 0, 0, 0.15);\n",
              "      filter: drop-shadow(0px 1px 2px rgba(0, 0, 0, 0.3));\n",
              "      fill: #FFFFFF;\n",
              "    }\n",
              "  </style>\n",
              "\n",
              "    <script>\n",
              "      const buttonEl =\n",
              "        document.querySelector('#df-f6318817-2341-41b2-920f-dcc83552f64d button.colab-df-convert');\n",
              "      buttonEl.style.display =\n",
              "        google.colab.kernel.accessAllowed ? 'block' : 'none';\n",
              "\n",
              "      async function convertToInteractive(key) {\n",
              "        const element = document.querySelector('#df-f6318817-2341-41b2-920f-dcc83552f64d');\n",
              "        const dataTable =\n",
              "          await google.colab.kernel.invokeFunction('convertToInteractive',\n",
              "                                                    [key], {});\n",
              "        if (!dataTable) return;\n",
              "\n",
              "        const docLinkHtml = 'Like what you see? Visit the ' +\n",
              "          '<a target=\"_blank\" href=https://colab.research.google.com/notebooks/data_table.ipynb>data table notebook</a>'\n",
              "          + ' to learn more about interactive tables.';\n",
              "        element.innerHTML = '';\n",
              "        dataTable['output_type'] = 'display_data';\n",
              "        await google.colab.output.renderOutput(dataTable, element);\n",
              "        const docLink = document.createElement('div');\n",
              "        docLink.innerHTML = docLinkHtml;\n",
              "        element.appendChild(docLink);\n",
              "      }\n",
              "    </script>\n",
              "  </div>\n",
              "\n",
              "\n",
              "<div id=\"df-a0010309-315f-49df-a214-d6997de9ebf2\">\n",
              "  <button class=\"colab-df-quickchart\" onclick=\"quickchart('df-a0010309-315f-49df-a214-d6997de9ebf2')\"\n",
              "            title=\"Suggest charts.\"\n",
              "            style=\"display:none;\">\n",
              "\n",
              "<svg xmlns=\"http://www.w3.org/2000/svg\" height=\"24px\"viewBox=\"0 0 24 24\"\n",
              "     width=\"24px\">\n",
              "    <g>\n",
              "        <path d=\"M19 3H5c-1.1 0-2 .9-2 2v14c0 1.1.9 2 2 2h14c1.1 0 2-.9 2-2V5c0-1.1-.9-2-2-2zM9 17H7v-7h2v7zm4 0h-2V7h2v10zm4 0h-2v-4h2v4z\"/>\n",
              "    </g>\n",
              "</svg>\n",
              "  </button>\n",
              "\n",
              "<style>\n",
              "  .colab-df-quickchart {\n",
              "      --bg-color: #E8F0FE;\n",
              "      --fill-color: #1967D2;\n",
              "      --hover-bg-color: #E2EBFA;\n",
              "      --hover-fill-color: #174EA6;\n",
              "      --disabled-fill-color: #AAA;\n",
              "      --disabled-bg-color: #DDD;\n",
              "  }\n",
              "\n",
              "  [theme=dark] .colab-df-quickchart {\n",
              "      --bg-color: #3B4455;\n",
              "      --fill-color: #D2E3FC;\n",
              "      --hover-bg-color: #434B5C;\n",
              "      --hover-fill-color: #FFFFFF;\n",
              "      --disabled-bg-color: #3B4455;\n",
              "      --disabled-fill-color: #666;\n",
              "  }\n",
              "\n",
              "  .colab-df-quickchart {\n",
              "    background-color: var(--bg-color);\n",
              "    border: none;\n",
              "    border-radius: 50%;\n",
              "    cursor: pointer;\n",
              "    display: none;\n",
              "    fill: var(--fill-color);\n",
              "    height: 32px;\n",
              "    padding: 0;\n",
              "    width: 32px;\n",
              "  }\n",
              "\n",
              "  .colab-df-quickchart:hover {\n",
              "    background-color: var(--hover-bg-color);\n",
              "    box-shadow: 0 1px 2px rgba(60, 64, 67, 0.3), 0 1px 3px 1px rgba(60, 64, 67, 0.15);\n",
              "    fill: var(--button-hover-fill-color);\n",
              "  }\n",
              "\n",
              "  .colab-df-quickchart-complete:disabled,\n",
              "  .colab-df-quickchart-complete:disabled:hover {\n",
              "    background-color: var(--disabled-bg-color);\n",
              "    fill: var(--disabled-fill-color);\n",
              "    box-shadow: none;\n",
              "  }\n",
              "\n",
              "  .colab-df-spinner {\n",
              "    border: 2px solid var(--fill-color);\n",
              "    border-color: transparent;\n",
              "    border-bottom-color: var(--fill-color);\n",
              "    animation:\n",
              "      spin 1s steps(1) infinite;\n",
              "  }\n",
              "\n",
              "  @keyframes spin {\n",
              "    0% {\n",
              "      border-color: transparent;\n",
              "      border-bottom-color: var(--fill-color);\n",
              "      border-left-color: var(--fill-color);\n",
              "    }\n",
              "    20% {\n",
              "      border-color: transparent;\n",
              "      border-left-color: var(--fill-color);\n",
              "      border-top-color: var(--fill-color);\n",
              "    }\n",
              "    30% {\n",
              "      border-color: transparent;\n",
              "      border-left-color: var(--fill-color);\n",
              "      border-top-color: var(--fill-color);\n",
              "      border-right-color: var(--fill-color);\n",
              "    }\n",
              "    40% {\n",
              "      border-color: transparent;\n",
              "      border-right-color: var(--fill-color);\n",
              "      border-top-color: var(--fill-color);\n",
              "    }\n",
              "    60% {\n",
              "      border-color: transparent;\n",
              "      border-right-color: var(--fill-color);\n",
              "    }\n",
              "    80% {\n",
              "      border-color: transparent;\n",
              "      border-right-color: var(--fill-color);\n",
              "      border-bottom-color: var(--fill-color);\n",
              "    }\n",
              "    90% {\n",
              "      border-color: transparent;\n",
              "      border-bottom-color: var(--fill-color);\n",
              "    }\n",
              "  }\n",
              "</style>\n",
              "\n",
              "  <script>\n",
              "    async function quickchart(key) {\n",
              "      const quickchartButtonEl =\n",
              "        document.querySelector('#' + key + ' button');\n",
              "      quickchartButtonEl.disabled = true;  // To prevent multiple clicks.\n",
              "      quickchartButtonEl.classList.add('colab-df-spinner');\n",
              "      try {\n",
              "        const charts = await google.colab.kernel.invokeFunction(\n",
              "            'suggestCharts', [key], {});\n",
              "      } catch (error) {\n",
              "        console.error('Error during call to suggestCharts:', error);\n",
              "      }\n",
              "      quickchartButtonEl.classList.remove('colab-df-spinner');\n",
              "      quickchartButtonEl.classList.add('colab-df-quickchart-complete');\n",
              "    }\n",
              "    (() => {\n",
              "      let quickchartButtonEl =\n",
              "        document.querySelector('#df-a0010309-315f-49df-a214-d6997de9ebf2 button');\n",
              "      quickchartButtonEl.style.display =\n",
              "        google.colab.kernel.accessAllowed ? 'block' : 'none';\n",
              "    })();\n",
              "  </script>\n",
              "</div>\n",
              "    </div>\n",
              "  </div>\n"
            ],
            "text/plain": [
              "   POSTED_SPEED_LIMIT TRAFFIC_CONTROL_DEVICE DEVICE_CONDITION  \\\n",
              "0                  30            NO CONTROLS      NO CONTROLS   \n",
              "1                  30            NO CONTROLS      NO CONTROLS   \n",
              "2                  30            NO CONTROLS      NO CONTROLS   \n",
              "3                  30         TRAFFIC SIGNAL          UNKNOWN   \n",
              "4                  30            NO CONTROLS      NO CONTROLS   \n",
              "\n",
              "       WEATHER_CONDITION LIGHTING_CONDITION FIRST_CRASH_TYPE TRAFFICWAY_TYPE  \\\n",
              "0                  CLEAR           DAYLIGHT          TURNING     NOT DIVIDED   \n",
              "1                  CLEAR           DAYLIGHT         REAR END     NOT DIVIDED   \n",
              "2                  CLEAR           DAYLIGHT     OTHER OBJECT     NOT DIVIDED   \n",
              "3  FREEZING RAIN/DRIZZLE           DAYLIGHT         REAR END     NOT DIVIDED   \n",
              "4                  CLEAR           DAYLIGHT         REAR END     NOT DIVIDED   \n",
              "\n",
              "            ALIGNMENT ROADWAY_SURFACE_COND ROAD_DEFECT  \\\n",
              "0  STRAIGHT AND LEVEL              UNKNOWN  NO DEFECTS   \n",
              "1  STRAIGHT AND LEVEL                  DRY  NO DEFECTS   \n",
              "2  STRAIGHT AND LEVEL                  DRY  RUT, HOLES   \n",
              "3  STRAIGHT AND LEVEL              UNKNOWN     UNKNOWN   \n",
              "4  STRAIGHT AND LEVEL                  WET  NO DEFECTS   \n",
              "\n",
              "               CRASH_TYPE         DAMAGE     PRIM_CONTRIBUTORY_CAUSE  \\\n",
              "0  NO INJURY / DRIVE AWAY    OVER $1,500  IMPROPER TURNING/NO SIGNAL   \n",
              "1  NO INJURY / DRIVE AWAY  $501 - $1,500       FOLLOWING TOO CLOSELY   \n",
              "2  NO INJURY / DRIVE AWAY  $501 - $1,500              NOT APPLICABLE   \n",
              "3  NO INJURY / DRIVE AWAY  $501 - $1,500       FOLLOWING TOO CLOSELY   \n",
              "4  NO INJURY / DRIVE AWAY    OVER $1,500       FOLLOWING TOO CLOSELY   \n",
              "\n",
              "        STREET_NAME  NUM_UNITS       MOST_SEVERE_INJURY  CRASH_HOUR  \\\n",
              "0           63RD ST          2  NO INDICATION OF INJURY          15   \n",
              "1        PULASKI RD          2  NO INDICATION OF INJURY          17   \n",
              "2  STONY ISLAND AVE          1  NO INDICATION OF INJURY          14   \n",
              "3       ASHLAND AVE          2  NO INDICATION OF INJURY           7   \n",
              "4        ELSTON AVE          2  NO INDICATION OF INJURY          18   \n",
              "\n",
              "   CRASH_DAY_OF_WEEK  INJURED SPEED_LIMIT  \n",
              "0                  4        0       20-30  \n",
              "1                  4        0       20-30  \n",
              "2                  4        0       20-30  \n",
              "3                  4        0       20-30  \n",
              "4                  4        0       20-30  "
            ]
          },
          "execution_count": 32,
          "metadata": {},
          "output_type": "execute_result"
        }
      ],
      "source": [
        "fin_df.head()"
      ]
    },
    {
      "cell_type": "code",
      "execution_count": null,
      "metadata": {
        "id": "57N_iAj4Toau"
      },
      "outputs": [],
      "source": [
        "# Performing label encoding\n",
        "le = preprocessing.LabelEncoder()\n",
        "\n",
        "for cols in fin_df:\n",
        "  if fin_df[cols].dtypes == 'object' or fin_df[cols].dtypes == 'category':\n",
        "    fin_df[cols] = le.fit_transform(fin_df[cols])"
      ]
    },
    {
      "cell_type": "code",
      "execution_count": null,
      "metadata": {
        "colab": {
          "base_uri": "https://localhost:8080/",
          "height": 226
        },
        "id": "e_9g3avMT2Fr",
        "outputId": "691a5a1c-fb5d-4a7b-8e44-051b975a146d"
      },
      "outputs": [
        {
          "data": {
            "text/html": [
              "\n",
              "  <div id=\"df-9c91fd53-5f67-4d48-905e-17f1e0c3bb8f\" class=\"colab-df-container\">\n",
              "    <div>\n",
              "<style scoped>\n",
              "    .dataframe tbody tr th:only-of-type {\n",
              "        vertical-align: middle;\n",
              "    }\n",
              "\n",
              "    .dataframe tbody tr th {\n",
              "        vertical-align: top;\n",
              "    }\n",
              "\n",
              "    .dataframe thead th {\n",
              "        text-align: right;\n",
              "    }\n",
              "</style>\n",
              "<table border=\"1\" class=\"dataframe\">\n",
              "  <thead>\n",
              "    <tr style=\"text-align: right;\">\n",
              "      <th></th>\n",
              "      <th>POSTED_SPEED_LIMIT</th>\n",
              "      <th>TRAFFIC_CONTROL_DEVICE</th>\n",
              "      <th>DEVICE_CONDITION</th>\n",
              "      <th>WEATHER_CONDITION</th>\n",
              "      <th>LIGHTING_CONDITION</th>\n",
              "      <th>FIRST_CRASH_TYPE</th>\n",
              "      <th>TRAFFICWAY_TYPE</th>\n",
              "      <th>ALIGNMENT</th>\n",
              "      <th>ROADWAY_SURFACE_COND</th>\n",
              "      <th>ROAD_DEFECT</th>\n",
              "      <th>CRASH_TYPE</th>\n",
              "      <th>DAMAGE</th>\n",
              "      <th>PRIM_CONTRIBUTORY_CAUSE</th>\n",
              "      <th>STREET_NAME</th>\n",
              "      <th>NUM_UNITS</th>\n",
              "      <th>MOST_SEVERE_INJURY</th>\n",
              "      <th>CRASH_HOUR</th>\n",
              "      <th>CRASH_DAY_OF_WEEK</th>\n",
              "      <th>INJURED</th>\n",
              "      <th>SPEED_LIMIT</th>\n",
              "    </tr>\n",
              "  </thead>\n",
              "  <tbody>\n",
              "    <tr>\n",
              "      <th>0</th>\n",
              "      <td>30</td>\n",
              "      <td>4</td>\n",
              "      <td>3</td>\n",
              "      <td>2</td>\n",
              "      <td>3</td>\n",
              "      <td>17</td>\n",
              "      <td>8</td>\n",
              "      <td>3</td>\n",
              "      <td>5</td>\n",
              "      <td>1</td>\n",
              "      <td>1</td>\n",
              "      <td>2</td>\n",
              "      <td>24</td>\n",
              "      <td>190</td>\n",
              "      <td>2</td>\n",
              "      <td>2</td>\n",
              "      <td>15</td>\n",
              "      <td>4</td>\n",
              "      <td>0</td>\n",
              "      <td>2</td>\n",
              "    </tr>\n",
              "    <tr>\n",
              "      <th>1</th>\n",
              "      <td>30</td>\n",
              "      <td>4</td>\n",
              "      <td>3</td>\n",
              "      <td>2</td>\n",
              "      <td>3</td>\n",
              "      <td>10</td>\n",
              "      <td>8</td>\n",
              "      <td>3</td>\n",
              "      <td>0</td>\n",
              "      <td>1</td>\n",
              "      <td>1</td>\n",
              "      <td>1</td>\n",
              "      <td>19</td>\n",
              "      <td>1359</td>\n",
              "      <td>2</td>\n",
              "      <td>2</td>\n",
              "      <td>17</td>\n",
              "      <td>4</td>\n",
              "      <td>0</td>\n",
              "      <td>2</td>\n",
              "    </tr>\n",
              "    <tr>\n",
              "      <th>2</th>\n",
              "      <td>30</td>\n",
              "      <td>4</td>\n",
              "      <td>3</td>\n",
              "      <td>2</td>\n",
              "      <td>3</td>\n",
              "      <td>5</td>\n",
              "      <td>8</td>\n",
              "      <td>3</td>\n",
              "      <td>0</td>\n",
              "      <td>3</td>\n",
              "      <td>1</td>\n",
              "      <td>1</td>\n",
              "      <td>26</td>\n",
              "      <td>1488</td>\n",
              "      <td>1</td>\n",
              "      <td>2</td>\n",
              "      <td>14</td>\n",
              "      <td>4</td>\n",
              "      <td>0</td>\n",
              "      <td>2</td>\n",
              "    </tr>\n",
              "    <tr>\n",
              "      <th>3</th>\n",
              "      <td>30</td>\n",
              "      <td>16</td>\n",
              "      <td>6</td>\n",
              "      <td>5</td>\n",
              "      <td>3</td>\n",
              "      <td>10</td>\n",
              "      <td>8</td>\n",
              "      <td>3</td>\n",
              "      <td>5</td>\n",
              "      <td>5</td>\n",
              "      <td>1</td>\n",
              "      <td>1</td>\n",
              "      <td>19</td>\n",
              "      <td>306</td>\n",
              "      <td>2</td>\n",
              "      <td>2</td>\n",
              "      <td>7</td>\n",
              "      <td>4</td>\n",
              "      <td>0</td>\n",
              "      <td>2</td>\n",
              "    </tr>\n",
              "    <tr>\n",
              "      <th>4</th>\n",
              "      <td>30</td>\n",
              "      <td>4</td>\n",
              "      <td>3</td>\n",
              "      <td>2</td>\n",
              "      <td>3</td>\n",
              "      <td>10</td>\n",
              "      <td>8</td>\n",
              "      <td>3</td>\n",
              "      <td>6</td>\n",
              "      <td>1</td>\n",
              "      <td>1</td>\n",
              "      <td>2</td>\n",
              "      <td>19</td>\n",
              "      <td>626</td>\n",
              "      <td>2</td>\n",
              "      <td>2</td>\n",
              "      <td>18</td>\n",
              "      <td>4</td>\n",
              "      <td>0</td>\n",
              "      <td>2</td>\n",
              "    </tr>\n",
              "  </tbody>\n",
              "</table>\n",
              "</div>\n",
              "    <div class=\"colab-df-buttons\">\n",
              "\n",
              "  <div class=\"colab-df-container\">\n",
              "    <button class=\"colab-df-convert\" onclick=\"convertToInteractive('df-9c91fd53-5f67-4d48-905e-17f1e0c3bb8f')\"\n",
              "            title=\"Convert this dataframe to an interactive table.\"\n",
              "            style=\"display:none;\">\n",
              "\n",
              "  <svg xmlns=\"http://www.w3.org/2000/svg\" height=\"24px\" viewBox=\"0 -960 960 960\">\n",
              "    <path d=\"M120-120v-720h720v720H120Zm60-500h600v-160H180v160Zm220 220h160v-160H400v160Zm0 220h160v-160H400v160ZM180-400h160v-160H180v160Zm440 0h160v-160H620v160ZM180-180h160v-160H180v160Zm440 0h160v-160H620v160Z\"/>\n",
              "  </svg>\n",
              "    </button>\n",
              "\n",
              "  <style>\n",
              "    .colab-df-container {\n",
              "      display:flex;\n",
              "      gap: 12px;\n",
              "    }\n",
              "\n",
              "    .colab-df-convert {\n",
              "      background-color: #E8F0FE;\n",
              "      border: none;\n",
              "      border-radius: 50%;\n",
              "      cursor: pointer;\n",
              "      display: none;\n",
              "      fill: #1967D2;\n",
              "      height: 32px;\n",
              "      padding: 0 0 0 0;\n",
              "      width: 32px;\n",
              "    }\n",
              "\n",
              "    .colab-df-convert:hover {\n",
              "      background-color: #E2EBFA;\n",
              "      box-shadow: 0px 1px 2px rgba(60, 64, 67, 0.3), 0px 1px 3px 1px rgba(60, 64, 67, 0.15);\n",
              "      fill: #174EA6;\n",
              "    }\n",
              "\n",
              "    .colab-df-buttons div {\n",
              "      margin-bottom: 4px;\n",
              "    }\n",
              "\n",
              "    [theme=dark] .colab-df-convert {\n",
              "      background-color: #3B4455;\n",
              "      fill: #D2E3FC;\n",
              "    }\n",
              "\n",
              "    [theme=dark] .colab-df-convert:hover {\n",
              "      background-color: #434B5C;\n",
              "      box-shadow: 0px 1px 3px 1px rgba(0, 0, 0, 0.15);\n",
              "      filter: drop-shadow(0px 1px 2px rgba(0, 0, 0, 0.3));\n",
              "      fill: #FFFFFF;\n",
              "    }\n",
              "  </style>\n",
              "\n",
              "    <script>\n",
              "      const buttonEl =\n",
              "        document.querySelector('#df-9c91fd53-5f67-4d48-905e-17f1e0c3bb8f button.colab-df-convert');\n",
              "      buttonEl.style.display =\n",
              "        google.colab.kernel.accessAllowed ? 'block' : 'none';\n",
              "\n",
              "      async function convertToInteractive(key) {\n",
              "        const element = document.querySelector('#df-9c91fd53-5f67-4d48-905e-17f1e0c3bb8f');\n",
              "        const dataTable =\n",
              "          await google.colab.kernel.invokeFunction('convertToInteractive',\n",
              "                                                    [key], {});\n",
              "        if (!dataTable) return;\n",
              "\n",
              "        const docLinkHtml = 'Like what you see? Visit the ' +\n",
              "          '<a target=\"_blank\" href=https://colab.research.google.com/notebooks/data_table.ipynb>data table notebook</a>'\n",
              "          + ' to learn more about interactive tables.';\n",
              "        element.innerHTML = '';\n",
              "        dataTable['output_type'] = 'display_data';\n",
              "        await google.colab.output.renderOutput(dataTable, element);\n",
              "        const docLink = document.createElement('div');\n",
              "        docLink.innerHTML = docLinkHtml;\n",
              "        element.appendChild(docLink);\n",
              "      }\n",
              "    </script>\n",
              "  </div>\n",
              "\n",
              "\n",
              "<div id=\"df-327b6052-0c6c-4e57-93b0-d4deccdb1578\">\n",
              "  <button class=\"colab-df-quickchart\" onclick=\"quickchart('df-327b6052-0c6c-4e57-93b0-d4deccdb1578')\"\n",
              "            title=\"Suggest charts.\"\n",
              "            style=\"display:none;\">\n",
              "\n",
              "<svg xmlns=\"http://www.w3.org/2000/svg\" height=\"24px\"viewBox=\"0 0 24 24\"\n",
              "     width=\"24px\">\n",
              "    <g>\n",
              "        <path d=\"M19 3H5c-1.1 0-2 .9-2 2v14c0 1.1.9 2 2 2h14c1.1 0 2-.9 2-2V5c0-1.1-.9-2-2-2zM9 17H7v-7h2v7zm4 0h-2V7h2v10zm4 0h-2v-4h2v4z\"/>\n",
              "    </g>\n",
              "</svg>\n",
              "  </button>\n",
              "\n",
              "<style>\n",
              "  .colab-df-quickchart {\n",
              "      --bg-color: #E8F0FE;\n",
              "      --fill-color: #1967D2;\n",
              "      --hover-bg-color: #E2EBFA;\n",
              "      --hover-fill-color: #174EA6;\n",
              "      --disabled-fill-color: #AAA;\n",
              "      --disabled-bg-color: #DDD;\n",
              "  }\n",
              "\n",
              "  [theme=dark] .colab-df-quickchart {\n",
              "      --bg-color: #3B4455;\n",
              "      --fill-color: #D2E3FC;\n",
              "      --hover-bg-color: #434B5C;\n",
              "      --hover-fill-color: #FFFFFF;\n",
              "      --disabled-bg-color: #3B4455;\n",
              "      --disabled-fill-color: #666;\n",
              "  }\n",
              "\n",
              "  .colab-df-quickchart {\n",
              "    background-color: var(--bg-color);\n",
              "    border: none;\n",
              "    border-radius: 50%;\n",
              "    cursor: pointer;\n",
              "    display: none;\n",
              "    fill: var(--fill-color);\n",
              "    height: 32px;\n",
              "    padding: 0;\n",
              "    width: 32px;\n",
              "  }\n",
              "\n",
              "  .colab-df-quickchart:hover {\n",
              "    background-color: var(--hover-bg-color);\n",
              "    box-shadow: 0 1px 2px rgba(60, 64, 67, 0.3), 0 1px 3px 1px rgba(60, 64, 67, 0.15);\n",
              "    fill: var(--button-hover-fill-color);\n",
              "  }\n",
              "\n",
              "  .colab-df-quickchart-complete:disabled,\n",
              "  .colab-df-quickchart-complete:disabled:hover {\n",
              "    background-color: var(--disabled-bg-color);\n",
              "    fill: var(--disabled-fill-color);\n",
              "    box-shadow: none;\n",
              "  }\n",
              "\n",
              "  .colab-df-spinner {\n",
              "    border: 2px solid var(--fill-color);\n",
              "    border-color: transparent;\n",
              "    border-bottom-color: var(--fill-color);\n",
              "    animation:\n",
              "      spin 1s steps(1) infinite;\n",
              "  }\n",
              "\n",
              "  @keyframes spin {\n",
              "    0% {\n",
              "      border-color: transparent;\n",
              "      border-bottom-color: var(--fill-color);\n",
              "      border-left-color: var(--fill-color);\n",
              "    }\n",
              "    20% {\n",
              "      border-color: transparent;\n",
              "      border-left-color: var(--fill-color);\n",
              "      border-top-color: var(--fill-color);\n",
              "    }\n",
              "    30% {\n",
              "      border-color: transparent;\n",
              "      border-left-color: var(--fill-color);\n",
              "      border-top-color: var(--fill-color);\n",
              "      border-right-color: var(--fill-color);\n",
              "    }\n",
              "    40% {\n",
              "      border-color: transparent;\n",
              "      border-right-color: var(--fill-color);\n",
              "      border-top-color: var(--fill-color);\n",
              "    }\n",
              "    60% {\n",
              "      border-color: transparent;\n",
              "      border-right-color: var(--fill-color);\n",
              "    }\n",
              "    80% {\n",
              "      border-color: transparent;\n",
              "      border-right-color: var(--fill-color);\n",
              "      border-bottom-color: var(--fill-color);\n",
              "    }\n",
              "    90% {\n",
              "      border-color: transparent;\n",
              "      border-bottom-color: var(--fill-color);\n",
              "    }\n",
              "  }\n",
              "</style>\n",
              "\n",
              "  <script>\n",
              "    async function quickchart(key) {\n",
              "      const quickchartButtonEl =\n",
              "        document.querySelector('#' + key + ' button');\n",
              "      quickchartButtonEl.disabled = true;  // To prevent multiple clicks.\n",
              "      quickchartButtonEl.classList.add('colab-df-spinner');\n",
              "      try {\n",
              "        const charts = await google.colab.kernel.invokeFunction(\n",
              "            'suggestCharts', [key], {});\n",
              "      } catch (error) {\n",
              "        console.error('Error during call to suggestCharts:', error);\n",
              "      }\n",
              "      quickchartButtonEl.classList.remove('colab-df-spinner');\n",
              "      quickchartButtonEl.classList.add('colab-df-quickchart-complete');\n",
              "    }\n",
              "    (() => {\n",
              "      let quickchartButtonEl =\n",
              "        document.querySelector('#df-327b6052-0c6c-4e57-93b0-d4deccdb1578 button');\n",
              "      quickchartButtonEl.style.display =\n",
              "        google.colab.kernel.accessAllowed ? 'block' : 'none';\n",
              "    })();\n",
              "  </script>\n",
              "</div>\n",
              "    </div>\n",
              "  </div>\n"
            ],
            "text/plain": [
              "   POSTED_SPEED_LIMIT  TRAFFIC_CONTROL_DEVICE  DEVICE_CONDITION  \\\n",
              "0                  30                       4                 3   \n",
              "1                  30                       4                 3   \n",
              "2                  30                       4                 3   \n",
              "3                  30                      16                 6   \n",
              "4                  30                       4                 3   \n",
              "\n",
              "   WEATHER_CONDITION  LIGHTING_CONDITION  FIRST_CRASH_TYPE  TRAFFICWAY_TYPE  \\\n",
              "0                  2                   3                17                8   \n",
              "1                  2                   3                10                8   \n",
              "2                  2                   3                 5                8   \n",
              "3                  5                   3                10                8   \n",
              "4                  2                   3                10                8   \n",
              "\n",
              "   ALIGNMENT  ROADWAY_SURFACE_COND  ROAD_DEFECT  CRASH_TYPE  DAMAGE  \\\n",
              "0          3                     5            1           1       2   \n",
              "1          3                     0            1           1       1   \n",
              "2          3                     0            3           1       1   \n",
              "3          3                     5            5           1       1   \n",
              "4          3                     6            1           1       2   \n",
              "\n",
              "   PRIM_CONTRIBUTORY_CAUSE  STREET_NAME  NUM_UNITS  MOST_SEVERE_INJURY  \\\n",
              "0                       24          190          2                   2   \n",
              "1                       19         1359          2                   2   \n",
              "2                       26         1488          1                   2   \n",
              "3                       19          306          2                   2   \n",
              "4                       19          626          2                   2   \n",
              "\n",
              "   CRASH_HOUR  CRASH_DAY_OF_WEEK  INJURED  SPEED_LIMIT  \n",
              "0          15                  4        0            2  \n",
              "1          17                  4        0            2  \n",
              "2          14                  4        0            2  \n",
              "3           7                  4        0            2  \n",
              "4          18                  4        0            2  "
            ]
          },
          "execution_count": 34,
          "metadata": {},
          "output_type": "execute_result"
        }
      ],
      "source": [
        "fin_df.head()"
      ]
    },
    {
      "cell_type": "code",
      "execution_count": null,
      "metadata": {
        "colab": {
          "base_uri": "https://localhost:8080/"
        },
        "id": "W1UJxuJpT5rv",
        "outputId": "bbe1d26f-9118-48b7-efd0-a6dac8a7aa9e"
      },
      "outputs": [
        {
          "data": {
            "text/plain": [
              "POSTED_SPEED_LIMIT         int64\n",
              "TRAFFIC_CONTROL_DEVICE     int64\n",
              "DEVICE_CONDITION           int64\n",
              "WEATHER_CONDITION          int64\n",
              "LIGHTING_CONDITION         int64\n",
              "FIRST_CRASH_TYPE           int64\n",
              "TRAFFICWAY_TYPE            int64\n",
              "ALIGNMENT                  int64\n",
              "ROADWAY_SURFACE_COND       int64\n",
              "ROAD_DEFECT                int64\n",
              "CRASH_TYPE                 int64\n",
              "DAMAGE                     int64\n",
              "PRIM_CONTRIBUTORY_CAUSE    int64\n",
              "STREET_NAME                int64\n",
              "NUM_UNITS                  int64\n",
              "MOST_SEVERE_INJURY         int64\n",
              "CRASH_HOUR                 int64\n",
              "CRASH_DAY_OF_WEEK          int64\n",
              "INJURED                    int64\n",
              "SPEED_LIMIT                int64\n",
              "dtype: object"
            ]
          },
          "execution_count": 35,
          "metadata": {},
          "output_type": "execute_result"
        }
      ],
      "source": [
        "fin_df.dtypes"
      ]
    },
    {
      "cell_type": "markdown",
      "metadata": {
        "id": "nHuulH93hi0o"
      },
      "source": [
        "# **VISUALIZATIONS**"
      ]
    },
    {
      "cell_type": "code",
      "execution_count": null,
      "metadata": {
        "id": "Kk86Q1tWkHd1"
      },
      "outputs": [],
      "source": [
        "rel_labels = new_df['DAMAGE'].unique()\n",
        "rel_count = []\n",
        "\n",
        "for i in rel_labels:\n",
        "  rel_count.append(new_df['DAMAGE'].value_counts()[i])"
      ]
    },
    {
      "cell_type": "code",
      "execution_count": null,
      "metadata": {
        "colab": {
          "base_uri": "https://localhost:8080/"
        },
        "id": "9xM1KodSk6oT",
        "outputId": "472e1850-4c12-42b4-a143-df5e31672b3c"
      },
      "outputs": [
        {
          "data": {
            "text/plain": [
              "[457873, 202570, 86649]"
            ]
          },
          "execution_count": 37,
          "metadata": {},
          "output_type": "execute_result"
        }
      ],
      "source": [
        "rel_count"
      ]
    },
    {
      "cell_type": "code",
      "execution_count": null,
      "metadata": {
        "colab": {
          "base_uri": "https://localhost:8080/",
          "height": 457
        },
        "id": "gowj27WfqHE5",
        "outputId": "54511be9-39f6-49fe-cd57-9378291bae00"
      },
      "outputs": [
        {
          "data": {
            "image/png": "[encoded data removed]",
            "text/plain": [
              "<Figure size 600x400 with 1 Axes>"
            ]
          },
          "metadata": {},
          "output_type": "display_data"
        }
      ],
      "source": [
        "plt.figure(figsize=(6, 4))\n",
        "plots = sns.barplot(x = rel_labels, y = rel_count)\n",
        "\n",
        "plt.xticks(rotation=30)\n",
        "\n",
        "# Iterating over the bars one-by-one\n",
        "for bar in plots.patches:\n",
        "    # Using Matplotlib's annotate function and\n",
        "    # passing the coordinates where the annotation shall be done\n",
        "    plots.annotate(format(bar.get_height(), '.2f'),\n",
        "                   (bar.get_x() + bar.get_width() / 2,\n",
        "                    bar.get_height()), ha='center', va='center',\n",
        "                   size=12, xytext=(0, 5),\n",
        "                   textcoords='offset points')\n",
        "\n",
        "plt.xlabel('DAMAGE IN DOLLARS')\n",
        "plt.ylabel('NUMBER OF CRASHES')\n",
        "plt.title('DAMAGE SUFFERED')\n",
        "plt.show()"
      ]
    },
    {
      "cell_type": "code",
      "execution_count": null,
      "metadata": {
        "id": "qObOOFN5shJH"
      },
      "outputs": [],
      "source": [
        "rel_labels = new_df['CRASH_DAY_OF_WEEK'].unique()\n",
        "rel_count = []\n",
        "\n",
        "for i in rel_labels:\n",
        "  rel_count.append(new_df['CRASH_DAY_OF_WEEK'].value_counts()[i])"
      ]
    },
    {
      "cell_type": "code",
      "execution_count": null,
      "metadata": {
        "colab": {
          "base_uri": "https://localhost:8080/"
        },
        "id": "LNt0A7jZshJH",
        "outputId": "8102bf00-736e-4e42-9191-3131fcf34dcf"
      },
      "outputs": [
        {
          "data": {
            "text/plain": [
              "[105684, 121591, 107469, 106293, 110726, 92583, 102746]"
            ]
          },
          "execution_count": 40,
          "metadata": {},
          "output_type": "execute_result"
        }
      ],
      "source": [
        "rel_count"
      ]
    },
    {
      "cell_type": "code",
      "execution_count": null,
      "metadata": {
        "colab": {
          "base_uri": "https://localhost:8080/",
          "height": 410
        },
        "id": "rZFMBNODshJI",
        "outputId": "a410895c-826d-46e3-ff29-7bcca30493e0"
      },
      "outputs": [
        {
          "data": {
            "image/png": "[encoded data removed]",
            "text/plain": [
              "<Figure size 900x400 with 1 Axes>"
            ]
          },
          "metadata": {},
          "output_type": "display_data"
        }
      ],
      "source": [
        "plt.figure(figsize=(9, 4))\n",
        "plots = sns.barplot(x = rel_labels, y = rel_count)\n",
        "\n",
        "# plt.xticks(rotation=45)\n",
        "\n",
        "# Iterating over the bars one-by-one\n",
        "for bar in plots.patches:\n",
        "    # Using Matplotlib's annotate function and\n",
        "    # passing the coordinates where the annotation shall be done\n",
        "    plots.annotate(format(bar.get_height(), '.2f'),\n",
        "                   (bar.get_x() + bar.get_width() / 2,\n",
        "                    bar.get_height()), ha='center', va='center',\n",
        "                   size=12, xytext=(0, 5),\n",
        "                   textcoords='offset points')\n",
        "\n",
        "plt.xlabel('DAYS OF THE WEEK')\n",
        "plt.ylabel('NUMBER OF CRASHES')\n",
        "plt.title('DAYS OF THE WEEK')\n",
        "plt.show()"
      ]
    },
    {
      "cell_type": "code",
      "execution_count": null,
      "metadata": {
        "id": "_nqjlomOvlEj"
      },
      "outputs": [],
      "source": [
        "rel_labels = new_df['CRASH_HOUR'].unique()\n",
        "rel_count = []\n",
        "\n",
        "for i in rel_labels:\n",
        "  rel_count.append(new_df['CRASH_HOUR'].value_counts()[i])"
      ]
    },
    {
      "cell_type": "code",
      "execution_count": null,
      "metadata": {
        "colab": {
          "base_uri": "https://localhost:8080/"
        },
        "id": "cS1xxaWvvlEj",
        "outputId": "b55a0e47-33de-458e-ebb7-ee88864644a4"
      },
      "outputs": [
        {
          "data": {
            "text/plain": [
              "[57504,\n",
              " 55725,\n",
              " 50277,\n",
              " 31261,\n",
              " 46050,\n",
              " 34309,\n",
              " 11810,\n",
              " 38058,\n",
              " 39166,\n",
              " 44050,\n",
              " 24497,\n",
              " 45695,\n",
              " 57167,\n",
              " 34034,\n",
              " 33871,\n",
              " 13737,\n",
              " 22473,\n",
              " 16197,\n",
              " 10213,\n",
              " 19429,\n",
              " 16104,\n",
              " 27272,\n",
              " 8605,\n",
              " 9588]"
            ]
          },
          "execution_count": 43,
          "metadata": {},
          "output_type": "execute_result"
        }
      ],
      "source": [
        "rel_count"
      ]
    },
    {
      "cell_type": "code",
      "execution_count": null,
      "metadata": {
        "colab": {
          "base_uri": "https://localhost:8080/",
          "height": 410
        },
        "id": "_OISFjhmvlEj",
        "outputId": "0a34aa3b-c70a-49b7-95b9-6be90a6015d3"
      },
      "outputs": [
        {
          "data": {
            "image/png": "[encoded data removed]",
            "text/plain": [
              "<Figure size 1200x400 with 1 Axes>"
            ]
          },
          "metadata": {},
          "output_type": "display_data"
        }
      ],
      "source": [
        "plt.figure(figsize=(12, 4))\n",
        "plots = sns.barplot(x = rel_labels, y = rel_count)\n",
        "\n",
        "# plt.xticks(rotation=45)\n",
        "\n",
        "# Iterating over the bars one-by-one\n",
        "# for bar in plots.patches:\n",
        "#     # Using Matplotlib's annotate function and\n",
        "#     # passing the coordinates where the annotation shall be done\n",
        "#     plots.annotate(format(bar.get_height(), '.2f'),\n",
        "#                    (bar.get_x() + bar.get_width() / 2,\n",
        "#                     bar.get_height()), ha='center', va='center',\n",
        "#                    size=12, xytext=(0, 5),\n",
        "#                    textcoords='offset points')\n",
        "\n",
        "plt.xlabel('HOURS OF THE DAY')\n",
        "plt.ylabel('NUMBER OF CRASHES')\n",
        "plt.title('HOURS OF THE DAY')\n",
        "plt.show()"
      ]
    },
    {
      "cell_type": "code",
      "execution_count": null,
      "metadata": {
        "id": "LH28IJiEuq4o"
      },
      "outputs": [],
      "source": [
        "rel_labels = new_df['LIGHTING_CONDITION'].unique()\n",
        "rel_count = []\n",
        "\n",
        "for i in rel_labels:\n",
        "  rel_count.append(new_df['LIGHTING_CONDITION'].value_counts()[i])"
      ]
    },
    {
      "cell_type": "code",
      "execution_count": null,
      "metadata": {
        "colab": {
          "base_uri": "https://localhost:8080/"
        },
        "id": "HraQFqzuuq4p",
        "outputId": "5731dd53-f858-44d8-f547-8e8f78da22b5"
      },
      "outputs": [
        {
          "data": {
            "text/plain": [
              "[481941, 163325, 32645, 35228, 12416, 21537]"
            ]
          },
          "execution_count": 46,
          "metadata": {},
          "output_type": "execute_result"
        }
      ],
      "source": [
        "rel_count"
      ]
    },
    {
      "cell_type": "code",
      "execution_count": null,
      "metadata": {
        "colab": {
          "base_uri": "https://localhost:8080/",
          "height": 503
        },
        "id": "YPIDsUUZuq4p",
        "outputId": "aebb1fa9-448e-4eea-b886-11f56b185c3f"
      },
      "outputs": [
        {
          "data": {
            "image/png": "[encoded data removed]",
            "text/plain": [
              "<Figure size 900x400 with 1 Axes>"
            ]
          },
          "metadata": {},
          "output_type": "display_data"
        }
      ],
      "source": [
        "plt.figure(figsize=(9, 4))\n",
        "plots = sns.barplot(x = rel_labels, y = rel_count)\n",
        "\n",
        "plt.xticks(rotation=30)\n",
        "\n",
        "# Iterating over the bars one-by-one\n",
        "for bar in plots.patches:\n",
        "    # Using Matplotlib's annotate function and\n",
        "    # passing the coordinates where the annotation shall be done\n",
        "    plots.annotate(format(bar.get_height(), '.2f'),\n",
        "                   (bar.get_x() + bar.get_width() / 2,\n",
        "                    bar.get_height()), ha='center', va='center',\n",
        "                   size=12, xytext=(0, 5),\n",
        "                   textcoords='offset points')\n",
        "\n",
        "plt.xlabel('LIGHTING TYPES')\n",
        "plt.ylabel('NUMBER OF CRASHES')\n",
        "plt.title('ROAD LIGHTING CONDITION')\n",
        "plt.show()"
      ]
    },
    {
      "cell_type": "code",
      "execution_count": null,
      "metadata": {
        "id": "2WRqp_1DxY7g"
      },
      "outputs": [],
      "source": [
        "# Creating autocpt arguments\n",
        "def func(pct, allvalues):\n",
        "    absolute = int(pct / 100.*np.sum(allvalues))\n",
        "    return '{:.1f}%\\n({:d})'.format(pct, absolute)"
      ]
    },
    {
      "cell_type": "code",
      "execution_count": null,
      "metadata": {
        "id": "wEgj_0UIjKKE"
      },
      "outputs": [],
      "source": [
        "labels = ['INJURED','NOT INJURED']\n",
        "count = [new_df['INJURED'].value_counts()[1],new_df['INJURED'].value_counts()[0]]"
      ]
    },
    {
      "cell_type": "code",
      "execution_count": null,
      "metadata": {
        "colab": {
          "base_uri": "https://localhost:8080/",
          "height": 367
        },
        "id": "eXI1AJaxjIPE",
        "outputId": "28de9b16-574b-4e3d-dcd2-f1e3e257a6b4"
      },
      "outputs": [
        {
          "data": {
            "image/png": "[encoded data removed]",
            "text/plain": [
              "<Figure size 600x400 with 1 Axes>"
            ]
          },
          "metadata": {},
          "output_type": "display_data"
        }
      ],
      "source": [
        "# Creating plot\n",
        "fig, ax = plt.subplots(figsize =(6, 4))\n",
        "wedges, texts, autotexts = ax.pie(count,\n",
        "                                  autopct = lambda pct: func(pct, count),\n",
        "                                  labels = labels)\n",
        "\n",
        "ax.set_title('INJURIES IN CRASHES')\n",
        "plt.show()"
      ]
    },
    {
      "cell_type": "code",
      "execution_count": null,
      "metadata": {
        "id": "gcIHCmzTyOyc"
      },
      "outputs": [],
      "source": [
        "main_types = new_df['FIRST_CRASH_TYPE'].value_counts()['PARKED MOTOR VEHICLE'] + new_df['FIRST_CRASH_TYPE'].value_counts()['REAR END'] + new_df['FIRST_CRASH_TYPE'].value_counts()['SIDESWIPE SAME DIRECTION'] + new_df['FIRST_CRASH_TYPE'].value_counts()['TURNING']\n",
        "\n",
        "labels = ['PARKED MOTOR VEHICLE','REAR ENDED','SIDESWIPE SAME DIRECTION','TURNING','OTHER']\n",
        "count = [new_df['FIRST_CRASH_TYPE'].value_counts()['PARKED MOTOR VEHICLE'],\n",
        "         new_df['FIRST_CRASH_TYPE'].value_counts()['REAR END'],\n",
        "         new_df['FIRST_CRASH_TYPE'].value_counts()['SIDESWIPE SAME DIRECTION'],\n",
        "         new_df['FIRST_CRASH_TYPE'].value_counts()['TURNING'],\n",
        "         new_df['FIRST_CRASH_TYPE'].value_counts().sum() - main_types]"
      ]
    },
    {
      "cell_type": "code",
      "execution_count": null,
      "metadata": {
        "colab": {
          "base_uri": "https://localhost:8080/"
        },
        "id": "ESlIFkaL0Pwu",
        "outputId": "7d770900-4d45-4a88-ba26-24e729672db7"
      },
      "outputs": [
        {
          "data": {
            "text/plain": [
              "563175"
            ]
          },
          "execution_count": 52,
          "metadata": {},
          "output_type": "execute_result"
        }
      ],
      "source": [
        "main_types"
      ]
    },
    {
      "cell_type": "code",
      "execution_count": null,
      "metadata": {
        "colab": {
          "base_uri": "https://localhost:8080/",
          "height": 367
        },
        "id": "55VIxjQGyOyd",
        "outputId": "ab7d4327-c9d8-486c-973e-6f40f367d2d1"
      },
      "outputs": [
        {
          "data": {
            "image/png": "[encoded data removed]",
            "text/plain": [
              "<Figure size 600x400 with 1 Axes>"
            ]
          },
          "metadata": {},
          "output_type": "display_data"
        }
      ],
      "source": [
        "# Creating plot\n",
        "fig, ax = plt.subplots(figsize =(6, 4))\n",
        "wedges, texts, autotexts = ax.pie(count,\n",
        "                                  autopct = lambda pct: func(pct, count),\n",
        "                                  labels = labels)\n",
        "\n",
        "ax.set_title('CRASH TYPE')\n",
        "plt.show()"
      ]
    },
    {
      "cell_type": "markdown",
      "metadata": {
        "id": "3ZSjVWhkSht2"
      },
      "source": [
        "# **DECISION TREE**"
      ]
    },
    {
      "cell_type": "code",
      "execution_count": null,
      "metadata": {
        "id": "dQLxKAhw1sDx"
      },
      "outputs": [],
      "source": [
        "X = fin_df.drop(['INJURED', 'MOST_SEVERE_INJURY', 'POSTED_SPEED_LIMIT'],axis='columns')\n",
        "y = fin_df['INJURED']"
      ]
    },
    {
      "cell_type": "code",
      "execution_count": null,
      "metadata": {
        "id": "tah8VfeEQLB_"
      },
      "outputs": [],
      "source": [
        "X_train, X_test, y_train, y_test = train_test_split(X, y, test_size=0.30, random_state=42, stratify=y)"
      ]
    },
    {
      "cell_type": "code",
      "execution_count": null,
      "metadata": {
        "colab": {
          "base_uri": "https://localhost:8080/",
          "height": 133
        },
        "id": "Uz2CeRlnQPVs",
        "outputId": "377e4746-035c-417b-dbc9-ce9d807701eb"
      },
      "outputs": [
        {
          "name": "stdout",
          "output_type": "stream",
          "text": [
            "Fitting 5 folds for each of 162 candidates, totalling 810 fits\n"
          ]
        },
        {
          "data": {
            "text/html": [
              "<style>#sk-container-id-1 {color: black;background-color: white;}#sk-container-id-1 pre{padding: 0;}#sk-container-id-1 div.sk-toggleable {background-color: white;}#sk-container-id-1 label.sk-toggleable__label {cursor: pointer;display: block;width: 100%;margin-bottom: 0;padding: 0.3em;box-sizing: border-box;text-align: center;}#sk-container-id-1 label.sk-toggleable__label-arrow:before {content: \"▸\";float: left;margin-right: 0.25em;color: #696969;}#sk-container-id-1 label.sk-toggleable__label-arrow:hover:before {color: black;}#sk-container-id-1 div.sk-estimator:hover label.sk-toggleable__label-arrow:before {color: black;}#sk-container-id-1 div.sk-toggleable__content {max-height: 0;max-width: 0;overflow: hidden;text-align: left;background-color: #f0f8ff;}#sk-container-id-1 div.sk-toggleable__content pre {margin: 0.2em;color: black;border-radius: 0.25em;background-color: #f0f8ff;}#sk-container-id-1 input.sk-toggleable__control:checked~div.sk-toggleable__content {max-height: 200px;max-width: 100%;overflow: auto;}#sk-container-id-1 input.sk-toggleable__control:checked~label.sk-toggleable__label-arrow:before {content: \"▾\";}#sk-container-id-1 div.sk-estimator input.sk-toggleable__control:checked~label.sk-toggleable__label {background-color: #d4ebff;}#sk-container-id-1 div.sk-label input.sk-toggleable__control:checked~label.sk-toggleable__label {background-color: #d4ebff;}#sk-container-id-1 input.sk-hidden--visually {border: 0;clip: rect(1px 1px 1px 1px);clip: rect(1px, 1px, 1px, 1px);height: 1px;margin: -1px;overflow: hidden;padding: 0;position: absolute;width: 1px;}#sk-container-id-1 div.sk-estimator {font-family: monospace;background-color: #f0f8ff;border: 1px dotted black;border-radius: 0.25em;box-sizing: border-box;margin-bottom: 0.5em;}#sk-container-id-1 div.sk-estimator:hover {background-color: #d4ebff;}#sk-container-id-1 div.sk-parallel-item::after {content: \"\";width: 100%;border-bottom: 1px solid gray;flex-grow: 1;}#sk-container-id-1 div.sk-label:hover label.sk-toggleable__label {background-color: #d4ebff;}#sk-container-id-1 div.sk-serial::before {content: \"\";position: absolute;border-left: 1px solid gray;box-sizing: border-box;top: 0;bottom: 0;left: 50%;z-index: 0;}#sk-container-id-1 div.sk-serial {display: flex;flex-direction: column;align-items: center;background-color: white;padding-right: 0.2em;padding-left: 0.2em;position: relative;}#sk-container-id-1 div.sk-item {position: relative;z-index: 1;}#sk-container-id-1 div.sk-parallel {display: flex;align-items: stretch;justify-content: center;background-color: white;position: relative;}#sk-container-id-1 div.sk-item::before, #sk-container-id-1 div.sk-parallel-item::before {content: \"\";position: absolute;border-left: 1px solid gray;box-sizing: border-box;top: 0;bottom: 0;left: 50%;z-index: -1;}#sk-container-id-1 div.sk-parallel-item {display: flex;flex-direction: column;z-index: 1;position: relative;background-color: white;}#sk-container-id-1 div.sk-parallel-item:first-child::after {align-self: flex-end;width: 50%;}#sk-container-id-1 div.sk-parallel-item:last-child::after {align-self: flex-start;width: 50%;}#sk-container-id-1 div.sk-parallel-item:only-child::after {width: 0;}#sk-container-id-1 div.sk-dashed-wrapped {border: 1px dashed gray;margin: 0 0.4em 0.5em 0.4em;box-sizing: border-box;padding-bottom: 0.4em;background-color: white;}#sk-container-id-1 div.sk-label label {font-family: monospace;font-weight: bold;display: inline-block;line-height: 1.2em;}#sk-container-id-1 div.sk-label-container {text-align: center;}#sk-container-id-1 div.sk-container {/* jupyter's `normalize.less` sets `[hidden] { display: none; }` but bootstrap.min.css set `[hidden] { display: none !important; }` so we also need the `!important` here to be able to override the default hidden behavior on the sphinx rendered scikit-learn.org. See: https://github.com/scikit-learn/scikit-learn/issues/21755 */display: inline-block !important;position: relative;}#sk-container-id-1 div.sk-text-repr-fallback {display: none;}</style><div id=\"sk-container-id-1\" class=\"sk-top-container\"><div class=\"sk-text-repr-fallback\"><pre>GridSearchCV(cv=5, estimator=DecisionTreeClassifier(random_state=1024),\n",
              "             param_grid={&#x27;criterion&#x27;: [&#x27;gini&#x27;, &#x27;entropy&#x27;],\n",
              "                         &#x27;max_depth&#x27;: range(1, 10),\n",
              "                         &#x27;max_features&#x27;: range(1, 10)},\n",
              "             verbose=True)</pre><b>In a Jupyter environment, please rerun this cell to show the HTML representation or trust the notebook. <br />On GitHub, the HTML representation is unable to render, please try loading this page with nbviewer.org.</b></div><div class=\"sk-container\" hidden><div class=\"sk-item sk-dashed-wrapped\"><div class=\"sk-label-container\"><div class=\"sk-label sk-toggleable\"><input class=\"sk-toggleable__control sk-hidden--visually\" id=\"sk-estimator-id-1\" type=\"checkbox\" ><label for=\"sk-estimator-id-1\" class=\"sk-toggleable__label sk-toggleable__label-arrow\">GridSearchCV</label><div class=\"sk-toggleable__content\"><pre>GridSearchCV(cv=5, estimator=DecisionTreeClassifier(random_state=1024),\n",
              "             param_grid={&#x27;criterion&#x27;: [&#x27;gini&#x27;, &#x27;entropy&#x27;],\n",
              "                         &#x27;max_depth&#x27;: range(1, 10),\n",
              "                         &#x27;max_features&#x27;: range(1, 10)},\n",
              "             verbose=True)</pre></div></div></div><div class=\"sk-parallel\"><div class=\"sk-parallel-item\"><div class=\"sk-item\"><div class=\"sk-label-container\"><div class=\"sk-label sk-toggleable\"><input class=\"sk-toggleable__control sk-hidden--visually\" id=\"sk-estimator-id-2\" type=\"checkbox\" ><label for=\"sk-estimator-id-2\" class=\"sk-toggleable__label sk-toggleable__label-arrow\">estimator: DecisionTreeClassifier</label><div class=\"sk-toggleable__content\"><pre>DecisionTreeClassifier(random_state=1024)</pre></div></div></div><div class=\"sk-serial\"><div class=\"sk-item\"><div class=\"sk-estimator sk-toggleable\"><input class=\"sk-toggleable__control sk-hidden--visually\" id=\"sk-estimator-id-3\" type=\"checkbox\" ><label for=\"sk-estimator-id-3\" class=\"sk-toggleable__label sk-toggleable__label-arrow\">DecisionTreeClassifier</label><div class=\"sk-toggleable__content\"><pre>DecisionTreeClassifier(random_state=1024)</pre></div></div></div></div></div></div></div></div></div></div>"
            ],
            "text/plain": [
              "GridSearchCV(cv=5, estimator=DecisionTreeClassifier(random_state=1024),\n",
              "             param_grid={'criterion': ['gini', 'entropy'],\n",
              "                         'max_depth': range(1, 10),\n",
              "                         'max_features': range(1, 10)},\n",
              "             verbose=True)"
            ]
          },
          "execution_count": 56,
          "metadata": {},
          "output_type": "execute_result"
        }
      ],
      "source": [
        "param_dict = {'max_depth': range(1,10),\n",
        "              'max_features': range(1,10),\n",
        "              'criterion': ['gini', 'entropy']}\n",
        "\n",
        "tree_clas = DecisionTreeClassifier(random_state=1024)\n",
        "grid_search = GridSearchCV(estimator=tree_clas, param_grid=param_dict, cv=5, verbose=True)\n",
        "grid_search.fit(X_train, y_train)"
      ]
    },
    {
      "cell_type": "code",
      "execution_count": null,
      "metadata": {
        "colab": {
          "base_uri": "https://localhost:8080/",
          "height": 91
        },
        "id": "W80hrnT9R00l",
        "outputId": "61458ab3-b9bd-46a4-8ac4-33de4a9dd31d"
      },
      "outputs": [
        {
          "data": {
            "text/html": [
              "<style>#sk-container-id-2 {color: black;background-color: white;}#sk-container-id-2 pre{padding: 0;}#sk-container-id-2 div.sk-toggleable {background-color: white;}#sk-container-id-2 label.sk-toggleable__label {cursor: pointer;display: block;width: 100%;margin-bottom: 0;padding: 0.3em;box-sizing: border-box;text-align: center;}#sk-container-id-2 label.sk-toggleable__label-arrow:before {content: \"▸\";float: left;margin-right: 0.25em;color: #696969;}#sk-container-id-2 label.sk-toggleable__label-arrow:hover:before {color: black;}#sk-container-id-2 div.sk-estimator:hover label.sk-toggleable__label-arrow:before {color: black;}#sk-container-id-2 div.sk-toggleable__content {max-height: 0;max-width: 0;overflow: hidden;text-align: left;background-color: #f0f8ff;}#sk-container-id-2 div.sk-toggleable__content pre {margin: 0.2em;color: black;border-radius: 0.25em;background-color: #f0f8ff;}#sk-container-id-2 input.sk-toggleable__control:checked~div.sk-toggleable__content {max-height: 200px;max-width: 100%;overflow: auto;}#sk-container-id-2 input.sk-toggleable__control:checked~label.sk-toggleable__label-arrow:before {content: \"▾\";}#sk-container-id-2 div.sk-estimator input.sk-toggleable__control:checked~label.sk-toggleable__label {background-color: #d4ebff;}#sk-container-id-2 div.sk-label input.sk-toggleable__control:checked~label.sk-toggleable__label {background-color: #d4ebff;}#sk-container-id-2 input.sk-hidden--visually {border: 0;clip: rect(1px 1px 1px 1px);clip: rect(1px, 1px, 1px, 1px);height: 1px;margin: -1px;overflow: hidden;padding: 0;position: absolute;width: 1px;}#sk-container-id-2 div.sk-estimator {font-family: monospace;background-color: #f0f8ff;border: 1px dotted black;border-radius: 0.25em;box-sizing: border-box;margin-bottom: 0.5em;}#sk-container-id-2 div.sk-estimator:hover {background-color: #d4ebff;}#sk-container-id-2 div.sk-parallel-item::after {content: \"\";width: 100%;border-bottom: 1px solid gray;flex-grow: 1;}#sk-container-id-2 div.sk-label:hover label.sk-toggleable__label {background-color: #d4ebff;}#sk-container-id-2 div.sk-serial::before {content: \"\";position: absolute;border-left: 1px solid gray;box-sizing: border-box;top: 0;bottom: 0;left: 50%;z-index: 0;}#sk-container-id-2 div.sk-serial {display: flex;flex-direction: column;align-items: center;background-color: white;padding-right: 0.2em;padding-left: 0.2em;position: relative;}#sk-container-id-2 div.sk-item {position: relative;z-index: 1;}#sk-container-id-2 div.sk-parallel {display: flex;align-items: stretch;justify-content: center;background-color: white;position: relative;}#sk-container-id-2 div.sk-item::before, #sk-container-id-2 div.sk-parallel-item::before {content: \"\";position: absolute;border-left: 1px solid gray;box-sizing: border-box;top: 0;bottom: 0;left: 50%;z-index: -1;}#sk-container-id-2 div.sk-parallel-item {display: flex;flex-direction: column;z-index: 1;position: relative;background-color: white;}#sk-container-id-2 div.sk-parallel-item:first-child::after {align-self: flex-end;width: 50%;}#sk-container-id-2 div.sk-parallel-item:last-child::after {align-self: flex-start;width: 50%;}#sk-container-id-2 div.sk-parallel-item:only-child::after {width: 0;}#sk-container-id-2 div.sk-dashed-wrapped {border: 1px dashed gray;margin: 0 0.4em 0.5em 0.4em;box-sizing: border-box;padding-bottom: 0.4em;background-color: white;}#sk-container-id-2 div.sk-label label {font-family: monospace;font-weight: bold;display: inline-block;line-height: 1.2em;}#sk-container-id-2 div.sk-label-container {text-align: center;}#sk-container-id-2 div.sk-container {/* jupyter's `normalize.less` sets `[hidden] { display: none; }` but bootstrap.min.css set `[hidden] { display: none !important; }` so we also need the `!important` here to be able to override the default hidden behavior on the sphinx rendered scikit-learn.org. See: https://github.com/scikit-learn/scikit-learn/issues/21755 */display: inline-block !important;position: relative;}#sk-container-id-2 div.sk-text-repr-fallback {display: none;}</style><div id=\"sk-container-id-2\" class=\"sk-top-container\"><div class=\"sk-text-repr-fallback\"><pre>DecisionTreeClassifier(criterion=&#x27;entropy&#x27;, max_depth=9, max_features=9,\n",
              "                       random_state=1024)</pre><b>In a Jupyter environment, please rerun this cell to show the HTML representation or trust the notebook. <br />On GitHub, the HTML representation is unable to render, please try loading this page with nbviewer.org.</b></div><div class=\"sk-container\" hidden><div class=\"sk-item\"><div class=\"sk-estimator sk-toggleable\"><input class=\"sk-toggleable__control sk-hidden--visually\" id=\"sk-estimator-id-4\" type=\"checkbox\" checked><label for=\"sk-estimator-id-4\" class=\"sk-toggleable__label sk-toggleable__label-arrow\">DecisionTreeClassifier</label><div class=\"sk-toggleable__content\"><pre>DecisionTreeClassifier(criterion=&#x27;entropy&#x27;, max_depth=9, max_features=9,\n",
              "                       random_state=1024)</pre></div></div></div></div></div>"
            ],
            "text/plain": [
              "DecisionTreeClassifier(criterion='entropy', max_depth=9, max_features=9,\n",
              "                       random_state=1024)"
            ]
          },
          "execution_count": 57,
          "metadata": {},
          "output_type": "execute_result"
        }
      ],
      "source": [
        "clf_2 = grid_search.best_estimator_\n",
        "clf_2"
      ]
    },
    {
      "cell_type": "code",
      "execution_count": null,
      "metadata": {
        "id": "HwHD7dw-qJfD"
      },
      "outputs": [],
      "source": [
        "y_pred_grid_test = clf_2.predict(X_test)"
      ]
    },
    {
      "cell_type": "code",
      "execution_count": null,
      "metadata": {
        "colab": {
          "base_uri": "https://localhost:8080/"
        },
        "id": "0V0If9zrqUSD",
        "outputId": "19bbdebb-de64-44f4-dec8-e08cdf1e87e2"
      },
      "outputs": [
        {
          "name": "stdout",
          "output_type": "stream",
          "text": [
            "Model Testing Accuracy after pruning using GridSearchCV:  0.9116888563677898\n"
          ]
        }
      ],
      "source": [
        "print('Model Testing Accuracy after pruning using GridSearchCV: ', format(accuracy_score(y_test, y_pred_grid_test)))"
      ]
    },
    {
      "cell_type": "code",
      "execution_count": null,
      "metadata": {
        "colab": {
          "base_uri": "https://localhost:8080/"
        },
        "id": "Jos6dlrDTSyJ",
        "outputId": "ecb160da-d3ea-4dcd-9b57-a22aa9f17528"
      },
      "outputs": [
        {
          "name": "stdout",
          "output_type": "stream",
          "text": [
            "              precision    recall  f1-score   support\n",
            "\n",
            "           0       0.94      0.96      0.95    193597\n",
            "           1       0.71      0.59      0.64     30531\n",
            "\n",
            "    accuracy                           0.91    224128\n",
            "   macro avg       0.83      0.77      0.80    224128\n",
            "weighted avg       0.91      0.91      0.91    224128\n",
            "\n"
          ]
        }
      ],
      "source": [
        "from sklearn.metrics import classification_report\n",
        "\n",
        "print(classification_report(y_test, y_pred_grid_test))"
      ]
    },
    {
      "cell_type": "code",
      "execution_count": null,
      "metadata": {
        "colab": {
          "base_uri": "https://localhost:8080/"
        },
        "id": "mPIzI2zZhS7u",
        "outputId": "69869e30-0ad9-445d-9ef0-299a849eff3f"
      },
      "outputs": [
        {
          "data": {
            "text/plain": [
              "array([[186465,   7132],\n",
              "       [ 12661,  17870]])"
            ]
          },
          "execution_count": 78,
          "metadata": {},
          "output_type": "execute_result"
        }
      ],
      "source": [
        "cnf_matrix = confusion_matrix(y_test, y_pred_grid_test)\n",
        "cnf_matrix"
      ]
    },
    {
      "cell_type": "code",
      "execution_count": null,
      "metadata": {
        "colab": {
          "base_uri": "https://localhost:8080/",
          "height": 472
        },
        "id": "7WuRqBohgr3e",
        "outputId": "07264cd3-b92f-48d3-8953-9cb912f88675"
      },
      "outputs": [
        {
          "data": {
            "image/png": "[encoded data removed]",
            "text/plain": [
              "<Figure size 640x480 with 2 Axes>"
            ]
          },
          "metadata": {},
          "output_type": "display_data"
        }
      ],
      "source": [
        "disp = ConfusionMatrixDisplay(confusion_matrix=cnf_matrix, display_labels=clf_2.classes_)\n",
        "\n",
        "disp.plot()\n",
        "plt.title('DECISION TREE')\n",
        "plt.show()"
      ]
    },
    {
      "cell_type": "code",
      "execution_count": null,
      "metadata": {
        "colab": {
          "base_uri": "https://localhost:8080/",
          "height": 572
        },
        "id": "NncYz-TJ2Z7m",
        "outputId": "db551231-3496-4b18-920c-6a1aaf64c101"
      },
      "outputs": [
        {
          "data": {
            "image/png": "[encoded data removed]",
            "text/plain": [
              "<Figure size 2000x800 with 1 Axes>"
            ]
          },
          "metadata": {},
          "output_type": "display_data"
        }
      ],
      "source": [
        "plt.figure(figsize=(20,8))\n",
        "\n",
        "tree.plot_tree(clf_2);"
      ]
    },
    {
      "cell_type": "markdown",
      "metadata": {
        "id": "iYRoZjCWTBE3"
      },
      "source": [
        "# **LOGISTIC REGRESSION**"
      ]
    },
    {
      "cell_type": "code",
      "execution_count": null,
      "metadata": {
        "colab": {
          "base_uri": "https://localhost:8080/"
        },
        "id": "QgzoO9lYrMpk",
        "outputId": "6a439b4d-89e8-49a1-d010-c11d3e3a17b8"
      },
      "outputs": [
        {
          "name": "stderr",
          "output_type": "stream",
          "text": [
            "/usr/local/lib/python3.10/dist-packages/sklearn/linear_model/_logistic.py:458: ConvergenceWarning: lbfgs failed to converge (status=1):\n",
            "STOP: TOTAL NO. of ITERATIONS REACHED LIMIT.\n",
            "\n",
            "Increase the number of iterations (max_iter) or scale the data as shown in:\n",
            "    https://scikit-learn.org/stable/modules/preprocessing.html\n",
            "Please also refer to the documentation for alternative solver options:\n",
            "    https://scikit-learn.org/stable/modules/linear_model.html#logistic-regression\n",
            "  n_iter_i = _check_optimize_result(\n"
          ]
        }
      ],
      "source": [
        "from sklearn.linear_model import LogisticRegression\n",
        "\n",
        "logreg = LogisticRegression(random_state=16)\n",
        "\n",
        "logreg.fit(X_train, y_train)\n",
        "\n",
        "y_pred = logreg.predict(X_test)"
      ]
    },
    {
      "cell_type": "code",
      "execution_count": null,
      "metadata": {
        "colab": {
          "base_uri": "https://localhost:8080/"
        },
        "id": "BqjYkZs01fAf",
        "outputId": "f540771e-ff5a-4153-c9f1-9b485686e9ae"
      },
      "outputs": [
        {
          "data": {
            "text/plain": [
              "array([[185403,   8194],\n",
              "       [ 21470,   9061]])"
            ]
          },
          "execution_count": 70,
          "metadata": {},
          "output_type": "execute_result"
        }
      ],
      "source": [
        "cnf_matrix = confusion_matrix(y_test, y_pred)\n",
        "cnf_matrix"
      ]
    },
    {
      "cell_type": "code",
      "execution_count": null,
      "metadata": {
        "colab": {
          "base_uri": "https://localhost:8080/",
          "height": 472
        },
        "id": "aUEVEUH_iNvQ",
        "outputId": "c70a23d8-dc7d-4bbf-a9a8-fc85b76f9020"
      },
      "outputs": [
        {
          "data": {
            "image/png": "[encoded data removed]",
            "text/plain": [
              "<Figure size 640x480 with 2 Axes>"
            ]
          },
          "metadata": {},
          "output_type": "display_data"
        }
      ],
      "source": [
        "disp = ConfusionMatrixDisplay(confusion_matrix=cnf_matrix, display_labels=logreg.classes_)\n",
        "disp.plot()\n",
        "plt.title('LOGISTIC REGRESSION')\n",
        "plt.show()"
      ]
    },
    {
      "cell_type": "code",
      "execution_count": null,
      "metadata": {
        "colab": {
          "base_uri": "https://localhost:8080/"
        },
        "id": "tGEz4-Xt1mu7",
        "outputId": "ab5b2e1b-3e41-4856-84e5-48004f4a8a4a"
      },
      "outputs": [
        {
          "name": "stdout",
          "output_type": "stream",
          "text": [
            "              precision    recall  f1-score   support\n",
            "\n",
            "           0       0.90      0.96      0.93    193597\n",
            "           1       0.53      0.30      0.38     30531\n",
            "\n",
            "    accuracy                           0.87    224128\n",
            "   macro avg       0.71      0.63      0.65    224128\n",
            "weighted avg       0.85      0.87      0.85    224128\n",
            "\n"
          ]
        }
      ],
      "source": [
        "from sklearn.metrics import classification_report\n",
        "\n",
        "print(classification_report(y_test, y_pred))"
      ]
    },
    {
      "cell_type": "code",
      "execution_count": null,
      "metadata": {
        "colab": {
          "base_uri": "https://localhost:8080/"
        },
        "id": "0KyqdkTm1sds",
        "outputId": "b61239a2-1e58-4448-bbff-e1a9a1b2593f"
      },
      "outputs": [
        {
          "name": "stdout",
          "output_type": "stream",
          "text": [
            "Model Testing Accuracy:  0.8676470588235294\n"
          ]
        }
      ],
      "source": [
        "print('Model Testing Accuracy: ', format(accuracy_score(y_test, y_pred)))"
      ]
    },
    {
      "cell_type": "markdown",
      "metadata": {
        "id": "lfVHfCymTUJc"
      },
      "source": [
        "# **RANDOM FOREST**"
      ]
    },
    {
      "cell_type": "code",
      "execution_count": null,
      "metadata": {
        "id": "aacGsunr8wpc"
      },
      "outputs": [],
      "source": [
        "from sklearn.ensemble import RandomForestClassifier\n",
        "from sklearn.model_selection import RandomizedSearchCV\n",
        "from scipy.stats import randint\n",
        "\n",
        "from sklearn.tree import export_graphviz\n",
        "from IPython.display import Image\n",
        "import graphviz"
      ]
    },
    {
      "cell_type": "code",
      "execution_count": null,
      "metadata": {
        "colab": {
          "base_uri": "https://localhost:8080/",
          "height": 116
        },
        "id": "30WEXh6pTs-n",
        "outputId": "1803b515-a7ea-415e-a029-6a15dd7d86a7"
      },
      "outputs": [
        {
          "data": {
            "text/html": [
              "<style>#sk-container-id-7 {color: black;background-color: white;}#sk-container-id-7 pre{padding: 0;}#sk-container-id-7 div.sk-toggleable {background-color: white;}#sk-container-id-7 label.sk-toggleable__label {cursor: pointer;display: block;width: 100%;margin-bottom: 0;padding: 0.3em;box-sizing: border-box;text-align: center;}#sk-container-id-7 label.sk-toggleable__label-arrow:before {content: \"▸\";float: left;margin-right: 0.25em;color: #696969;}#sk-container-id-7 label.sk-toggleable__label-arrow:hover:before {color: black;}#sk-container-id-7 div.sk-estimator:hover label.sk-toggleable__label-arrow:before {color: black;}#sk-container-id-7 div.sk-toggleable__content {max-height: 0;max-width: 0;overflow: hidden;text-align: left;background-color: #f0f8ff;}#sk-container-id-7 div.sk-toggleable__content pre {margin: 0.2em;color: black;border-radius: 0.25em;background-color: #f0f8ff;}#sk-container-id-7 input.sk-toggleable__control:checked~div.sk-toggleable__content {max-height: 200px;max-width: 100%;overflow: auto;}#sk-container-id-7 input.sk-toggleable__control:checked~label.sk-toggleable__label-arrow:before {content: \"▾\";}#sk-container-id-7 div.sk-estimator input.sk-toggleable__control:checked~label.sk-toggleable__label {background-color: #d4ebff;}#sk-container-id-7 div.sk-label input.sk-toggleable__control:checked~label.sk-toggleable__label {background-color: #d4ebff;}#sk-container-id-7 input.sk-hidden--visually {border: 0;clip: rect(1px 1px 1px 1px);clip: rect(1px, 1px, 1px, 1px);height: 1px;margin: -1px;overflow: hidden;padding: 0;position: absolute;width: 1px;}#sk-container-id-7 div.sk-estimator {font-family: monospace;background-color: #f0f8ff;border: 1px dotted black;border-radius: 0.25em;box-sizing: border-box;margin-bottom: 0.5em;}#sk-container-id-7 div.sk-estimator:hover {background-color: #d4ebff;}#sk-container-id-7 div.sk-parallel-item::after {content: \"\";width: 100%;border-bottom: 1px solid gray;flex-grow: 1;}#sk-container-id-7 div.sk-label:hover label.sk-toggleable__label {background-color: #d4ebff;}#sk-container-id-7 div.sk-serial::before {content: \"\";position: absolute;border-left: 1px solid gray;box-sizing: border-box;top: 0;bottom: 0;left: 50%;z-index: 0;}#sk-container-id-7 div.sk-serial {display: flex;flex-direction: column;align-items: center;background-color: white;padding-right: 0.2em;padding-left: 0.2em;position: relative;}#sk-container-id-7 div.sk-item {position: relative;z-index: 1;}#sk-container-id-7 div.sk-parallel {display: flex;align-items: stretch;justify-content: center;background-color: white;position: relative;}#sk-container-id-7 div.sk-item::before, #sk-container-id-7 div.sk-parallel-item::before {content: \"\";position: absolute;border-left: 1px solid gray;box-sizing: border-box;top: 0;bottom: 0;left: 50%;z-index: -1;}#sk-container-id-7 div.sk-parallel-item {display: flex;flex-direction: column;z-index: 1;position: relative;background-color: white;}#sk-container-id-7 div.sk-parallel-item:first-child::after {align-self: flex-end;width: 50%;}#sk-container-id-7 div.sk-parallel-item:last-child::after {align-self: flex-start;width: 50%;}#sk-container-id-7 div.sk-parallel-item:only-child::after {width: 0;}#sk-container-id-7 div.sk-dashed-wrapped {border: 1px dashed gray;margin: 0 0.4em 0.5em 0.4em;box-sizing: border-box;padding-bottom: 0.4em;background-color: white;}#sk-container-id-7 div.sk-label label {font-family: monospace;font-weight: bold;display: inline-block;line-height: 1.2em;}#sk-container-id-7 div.sk-label-container {text-align: center;}#sk-container-id-7 div.sk-container {/* jupyter's `normalize.less` sets `[hidden] { display: none; }` but bootstrap.min.css set `[hidden] { display: none !important; }` so we also need the `!important` here to be able to override the default hidden behavior on the sphinx rendered scikit-learn.org. See: https://github.com/scikit-learn/scikit-learn/issues/21755 */display: inline-block !important;position: relative;}#sk-container-id-7 div.sk-text-repr-fallback {display: none;}</style><div id=\"sk-container-id-7\" class=\"sk-top-container\"><div class=\"sk-text-repr-fallback\"><pre>RandomizedSearchCV(cv=5, estimator=RandomForestClassifier(), n_iter=5,\n",
              "                   param_distributions={&#x27;max_depth&#x27;: &lt;scipy.stats._distn_infrastructure.rv_discrete_frozen object at 0x79d19d726f50&gt;,\n",
              "                                        &#x27;n_estimators&#x27;: &lt;scipy.stats._distn_infrastructure.rv_discrete_frozen object at 0x79d142085450&gt;})</pre><b>In a Jupyter environment, please rerun this cell to show the HTML representation or trust the notebook. <br />On GitHub, the HTML representation is unable to render, please try loading this page with nbviewer.org.</b></div><div class=\"sk-container\" hidden><div class=\"sk-item sk-dashed-wrapped\"><div class=\"sk-label-container\"><div class=\"sk-label sk-toggleable\"><input class=\"sk-toggleable__control sk-hidden--visually\" id=\"sk-estimator-id-13\" type=\"checkbox\" ><label for=\"sk-estimator-id-13\" class=\"sk-toggleable__label sk-toggleable__label-arrow\">RandomizedSearchCV</label><div class=\"sk-toggleable__content\"><pre>RandomizedSearchCV(cv=5, estimator=RandomForestClassifier(), n_iter=5,\n",
              "                   param_distributions={&#x27;max_depth&#x27;: &lt;scipy.stats._distn_infrastructure.rv_discrete_frozen object at 0x79d19d726f50&gt;,\n",
              "                                        &#x27;n_estimators&#x27;: &lt;scipy.stats._distn_infrastructure.rv_discrete_frozen object at 0x79d142085450&gt;})</pre></div></div></div><div class=\"sk-parallel\"><div class=\"sk-parallel-item\"><div class=\"sk-item\"><div class=\"sk-label-container\"><div class=\"sk-label sk-toggleable\"><input class=\"sk-toggleable__control sk-hidden--visually\" id=\"sk-estimator-id-14\" type=\"checkbox\" ><label for=\"sk-estimator-id-14\" class=\"sk-toggleable__label sk-toggleable__label-arrow\">estimator: RandomForestClassifier</label><div class=\"sk-toggleable__content\"><pre>RandomForestClassifier()</pre></div></div></div><div class=\"sk-serial\"><div class=\"sk-item\"><div class=\"sk-estimator sk-toggleable\"><input class=\"sk-toggleable__control sk-hidden--visually\" id=\"sk-estimator-id-15\" type=\"checkbox\" ><label for=\"sk-estimator-id-15\" class=\"sk-toggleable__label sk-toggleable__label-arrow\">RandomForestClassifier</label><div class=\"sk-toggleable__content\"><pre>RandomForestClassifier()</pre></div></div></div></div></div></div></div></div></div></div>"
            ],
            "text/plain": [
              "RandomizedSearchCV(cv=5, estimator=RandomForestClassifier(), n_iter=5,\n",
              "                   param_distributions={'max_depth': <scipy.stats._distn_infrastructure.rv_discrete_frozen object at 0x79d19d726f50>,\n",
              "                                        'n_estimators': <scipy.stats._distn_infrastructure.rv_discrete_frozen object at 0x79d142085450>})"
            ]
          },
          "execution_count": 82,
          "metadata": {},
          "output_type": "execute_result"
        }
      ],
      "source": [
        "param_dist = {'n_estimators': randint(50,500),\n",
        "              'max_depth': randint(1,20)}\n",
        "\n",
        "rf = RandomForestClassifier()\n",
        "\n",
        "# Use random search to find the best hyperparameters\n",
        "rand_search = RandomizedSearchCV(rf, param_distributions = param_dist, n_iter=5, cv=5)\n",
        "rand_search.fit(X_train, y_train)"
      ]
    },
    {
      "cell_type": "code",
      "execution_count": null,
      "metadata": {
        "colab": {
          "base_uri": "https://localhost:8080/",
          "height": 74
        },
        "id": "xP1Lear3VOJw",
        "outputId": "91adafb1-c41c-433a-a5b0-b57d97344608"
      },
      "outputs": [
        {
          "data": {
            "text/html": [
              "<style>#sk-container-id-8 {color: black;background-color: white;}#sk-container-id-8 pre{padding: 0;}#sk-container-id-8 div.sk-toggleable {background-color: white;}#sk-container-id-8 label.sk-toggleable__label {cursor: pointer;display: block;width: 100%;margin-bottom: 0;padding: 0.3em;box-sizing: border-box;text-align: center;}#sk-container-id-8 label.sk-toggleable__label-arrow:before {content: \"▸\";float: left;margin-right: 0.25em;color: #696969;}#sk-container-id-8 label.sk-toggleable__label-arrow:hover:before {color: black;}#sk-container-id-8 div.sk-estimator:hover label.sk-toggleable__label-arrow:before {color: black;}#sk-container-id-8 div.sk-toggleable__content {max-height: 0;max-width: 0;overflow: hidden;text-align: left;background-color: #f0f8ff;}#sk-container-id-8 div.sk-toggleable__content pre {margin: 0.2em;color: black;border-radius: 0.25em;background-color: #f0f8ff;}#sk-container-id-8 input.sk-toggleable__control:checked~div.sk-toggleable__content {max-height: 200px;max-width: 100%;overflow: auto;}#sk-container-id-8 input.sk-toggleable__control:checked~label.sk-toggleable__label-arrow:before {content: \"▾\";}#sk-container-id-8 div.sk-estimator input.sk-toggleable__control:checked~label.sk-toggleable__label {background-color: #d4ebff;}#sk-container-id-8 div.sk-label input.sk-toggleable__control:checked~label.sk-toggleable__label {background-color: #d4ebff;}#sk-container-id-8 input.sk-hidden--visually {border: 0;clip: rect(1px 1px 1px 1px);clip: rect(1px, 1px, 1px, 1px);height: 1px;margin: -1px;overflow: hidden;padding: 0;position: absolute;width: 1px;}#sk-container-id-8 div.sk-estimator {font-family: monospace;background-color: #f0f8ff;border: 1px dotted black;border-radius: 0.25em;box-sizing: border-box;margin-bottom: 0.5em;}#sk-container-id-8 div.sk-estimator:hover {background-color: #d4ebff;}#sk-container-id-8 div.sk-parallel-item::after {content: \"\";width: 100%;border-bottom: 1px solid gray;flex-grow: 1;}#sk-container-id-8 div.sk-label:hover label.sk-toggleable__label {background-color: #d4ebff;}#sk-container-id-8 div.sk-serial::before {content: \"\";position: absolute;border-left: 1px solid gray;box-sizing: border-box;top: 0;bottom: 0;left: 50%;z-index: 0;}#sk-container-id-8 div.sk-serial {display: flex;flex-direction: column;align-items: center;background-color: white;padding-right: 0.2em;padding-left: 0.2em;position: relative;}#sk-container-id-8 div.sk-item {position: relative;z-index: 1;}#sk-container-id-8 div.sk-parallel {display: flex;align-items: stretch;justify-content: center;background-color: white;position: relative;}#sk-container-id-8 div.sk-item::before, #sk-container-id-8 div.sk-parallel-item::before {content: \"\";position: absolute;border-left: 1px solid gray;box-sizing: border-box;top: 0;bottom: 0;left: 50%;z-index: -1;}#sk-container-id-8 div.sk-parallel-item {display: flex;flex-direction: column;z-index: 1;position: relative;background-color: white;}#sk-container-id-8 div.sk-parallel-item:first-child::after {align-self: flex-end;width: 50%;}#sk-container-id-8 div.sk-parallel-item:last-child::after {align-self: flex-start;width: 50%;}#sk-container-id-8 div.sk-parallel-item:only-child::after {width: 0;}#sk-container-id-8 div.sk-dashed-wrapped {border: 1px dashed gray;margin: 0 0.4em 0.5em 0.4em;box-sizing: border-box;padding-bottom: 0.4em;background-color: white;}#sk-container-id-8 div.sk-label label {font-family: monospace;font-weight: bold;display: inline-block;line-height: 1.2em;}#sk-container-id-8 div.sk-label-container {text-align: center;}#sk-container-id-8 div.sk-container {/* jupyter's `normalize.less` sets `[hidden] { display: none; }` but bootstrap.min.css set `[hidden] { display: none !important; }` so we also need the `!important` here to be able to override the default hidden behavior on the sphinx rendered scikit-learn.org. See: https://github.com/scikit-learn/scikit-learn/issues/21755 */display: inline-block !important;position: relative;}#sk-container-id-8 div.sk-text-repr-fallback {display: none;}</style><div id=\"sk-container-id-8\" class=\"sk-top-container\"><div class=\"sk-text-repr-fallback\"><pre>RandomForestClassifier(max_depth=16, n_estimators=179)</pre><b>In a Jupyter environment, please rerun this cell to show the HTML representation or trust the notebook. <br />On GitHub, the HTML representation is unable to render, please try loading this page with nbviewer.org.</b></div><div class=\"sk-container\" hidden><div class=\"sk-item\"><div class=\"sk-estimator sk-toggleable\"><input class=\"sk-toggleable__control sk-hidden--visually\" id=\"sk-estimator-id-16\" type=\"checkbox\" checked><label for=\"sk-estimator-id-16\" class=\"sk-toggleable__label sk-toggleable__label-arrow\">RandomForestClassifier</label><div class=\"sk-toggleable__content\"><pre>RandomForestClassifier(max_depth=16, n_estimators=179)</pre></div></div></div></div></div>"
            ],
            "text/plain": [
              "RandomForestClassifier(max_depth=16, n_estimators=179)"
            ]
          },
          "execution_count": 83,
          "metadata": {},
          "output_type": "execute_result"
        }
      ],
      "source": [
        "fin_clf = rand_search.best_estimator_\n",
        "fin_clf"
      ]
    },
    {
      "cell_type": "code",
      "execution_count": null,
      "metadata": {
        "id": "V0-tM23BV1YD"
      },
      "outputs": [],
      "source": [
        "y_forest_pred = fin_clf.predict(X_test)"
      ]
    },
    {
      "cell_type": "code",
      "execution_count": null,
      "metadata": {
        "colab": {
          "base_uri": "https://localhost:8080/"
        },
        "id": "onVqa6wsWCIO",
        "outputId": "62c26ad4-f63e-4e51-e198-4f1598e29204"
      },
      "outputs": [
        {
          "name": "stdout",
          "output_type": "stream",
          "text": [
            "Model Testing Accuracy using RandomizedSearchCV:  0.9127998286693318\n"
          ]
        }
      ],
      "source": [
        "print('Model Testing Accuracy using RandomizedSearchCV: ', format(accuracy_score(y_test, y_forest_pred)))"
      ]
    },
    {
      "cell_type": "code",
      "execution_count": null,
      "metadata": {
        "colab": {
          "base_uri": "https://localhost:8080/"
        },
        "id": "AAV74tRWWSkl",
        "outputId": "ffdb7f05-348e-41f1-8ed1-070ddf65bfd3"
      },
      "outputs": [
        {
          "name": "stdout",
          "output_type": "stream",
          "text": [
            "              precision    recall  f1-score   support\n",
            "\n",
            "           0       0.94      0.96      0.95    193597\n",
            "           1       0.70      0.63      0.66     30531\n",
            "\n",
            "    accuracy                           0.91    224128\n",
            "   macro avg       0.82      0.79      0.81    224128\n",
            "weighted avg       0.91      0.91      0.91    224128\n",
            "\n"
          ]
        }
      ],
      "source": [
        "class_report = classification_report(y_test, y_forest_pred)\n",
        "print(class_report)"
      ]
    },
    {
      "cell_type": "code",
      "execution_count": null,
      "metadata": {
        "colab": {
          "base_uri": "https://localhost:8080/"
        },
        "id": "fki_1i0_WmiE",
        "outputId": "4da418cb-e783-40b2-ff3b-5e0f4e8f6f20"
      },
      "outputs": [
        {
          "data": {
            "text/plain": [
              "array([[185450,   8147],\n",
              "       [ 11397,  19134]])"
            ]
          },
          "execution_count": 87,
          "metadata": {},
          "output_type": "execute_result"
        }
      ],
      "source": [
        "cnf_matrix = confusion_matrix(y_test, y_forest_pred)\n",
        "cnf_matrix"
      ]
    },
    {
      "cell_type": "code",
      "execution_count": null,
      "metadata": {
        "colab": {
          "base_uri": "https://localhost:8080/",
          "height": 472
        },
        "id": "W3WJiqeN3Nvu",
        "outputId": "7ece8506-030e-4228-ad49-244fbe9b19b7"
      },
      "outputs": [
        {
          "data": {
            "image/png": "[encoded data removed]",
            "text/plain": [
              "<Figure size 640x480 with 2 Axes>"
            ]
          },
          "metadata": {},
          "output_type": "display_data"
        }
      ],
      "source": [
        "disp = ConfusionMatrixDisplay(confusion_matrix=cnf_matrix, display_labels=fin_clf.classes_)\n",
        "disp.plot()\n",
        "plt.title('RANDOM FOREST')\n",
        "plt.show()"
      ]
    },
    {
      "cell_type": "code",
      "execution_count": null,
      "metadata": {
        "colab": {
          "base_uri": "https://localhost:8080/",
          "height": 1000
        },
        "id": "kJ7wT1sPZz7z",
        "outputId": "7c9ebb22-1ec0-4449-f9c0-133876c67315"
      },
      "outputs": [
        {
          "data": {
            "image/svg+xml": [
              "<?xml version=\"1.0\" encoding=\"UTF-8\" standalone=\"no\"?>\n",
              "<!DOCTYPE svg PUBLIC \"-//W3C//DTD SVG 1.1//EN\"\n",
              " \"http://www.w3.org/Graphics/SVG/1.1/DTD/svg11.dtd\">\n",
              "<!-- Generated by graphviz version 2.43.0 (0)\n",
              " -->\n",
              "<!-- Title: Tree Pages: 1 -->\n",
              "<svg width=\"746pt\" height=\"311pt\"\n",
              " viewBox=\"0.00 0.00 745.50 311.00\" xmlns=\"http://www.w3.org/2000/svg\" xmlns:xlink=\"http://www.w3.org/1999/xlink\">\n",
              "<g id=\"graph0\" class=\"graph\" transform=\"scale(1 1) rotate(0) translate(4 307)\">\n",
              "<title>Tree</title>\n",
              "<polygon fill=\"white\" stroke=\"transparent\" points=\"-4,4 -4,-307 741.5,-307 741.5,4 -4,4\"/>\n",
              "<!-- 0 -->\n",
              "<g id=\"node1\" class=\"node\">\n",
              "<title>0</title>\n",
              "<polygon fill=\"#e99558\" stroke=\"black\" points=\"538,-303 266,-303 266,-250 538,-250 538,-303\"/>\n",
              "<text text-anchor=\"middle\" x=\"402\" y=\"-287.8\" font-family=\"Helvetica,sans-Serif\" font-size=\"14.00\">PRIM_CONTRIBUTORY_CAUSE &lt;= 18.5</text>\n",
              "<text text-anchor=\"middle\" x=\"402\" y=\"-272.8\" font-family=\"Helvetica,sans-Serif\" font-size=\"14.00\">samples = 100.0%</text>\n",
              "<text text-anchor=\"middle\" x=\"402\" y=\"-257.8\" font-family=\"Helvetica,sans-Serif\" font-size=\"14.00\">value = [0.864, 0.136]</text>\n",
              "</g>\n",
              "<!-- 1 -->\n",
              "<g id=\"node2\" class=\"node\">\n",
              "<title>1</title>\n",
              "<polygon fill=\"#eda673\" stroke=\"black\" points=\"382.5,-214 235.5,-214 235.5,-161 382.5,-161 382.5,-214\"/>\n",
              "<text text-anchor=\"middle\" x=\"309\" y=\"-198.8\" font-family=\"Helvetica,sans-Serif\" font-size=\"14.00\">DAMAGE &lt;= 1.5</text>\n",
              "<text text-anchor=\"middle\" x=\"309\" y=\"-183.8\" font-family=\"Helvetica,sans-Serif\" font-size=\"14.00\">samples = 25.2%</text>\n",
              "<text text-anchor=\"middle\" x=\"309\" y=\"-168.8\" font-family=\"Helvetica,sans-Serif\" font-size=\"14.00\">value = [0.774, 0.226]</text>\n",
              "</g>\n",
              "<!-- 0&#45;&gt;1 -->\n",
              "<g id=\"edge1\" class=\"edge\">\n",
              "<title>0&#45;&gt;1</title>\n",
              "<path fill=\"none\" stroke=\"black\" d=\"M374.6,-249.87C365.04,-240.92 354.17,-230.75 344.07,-221.3\"/>\n",
              "<polygon fill=\"black\" stroke=\"black\" points=\"346.22,-218.53 336.53,-214.25 341.44,-223.64 346.22,-218.53\"/>\n",
              "<text text-anchor=\"middle\" x=\"337.36\" y=\"-235.54\" font-family=\"Helvetica,sans-Serif\" font-size=\"14.00\">True</text>\n",
              "</g>\n",
              "<!-- 4650 -->\n",
              "<g id=\"node9\" class=\"node\">\n",
              "<title>4650</title>\n",
              "<polygon fill=\"#e89050\" stroke=\"black\" points=\"569.5,-214 422.5,-214 422.5,-161 569.5,-161 569.5,-214\"/>\n",
              "<text text-anchor=\"middle\" x=\"496\" y=\"-198.8\" font-family=\"Helvetica,sans-Serif\" font-size=\"14.00\">DAMAGE &lt;= 1.5</text>\n",
              "<text text-anchor=\"middle\" x=\"496\" y=\"-183.8\" font-family=\"Helvetica,sans-Serif\" font-size=\"14.00\">samples = 74.8%</text>\n",
              "<text text-anchor=\"middle\" x=\"496\" y=\"-168.8\" font-family=\"Helvetica,sans-Serif\" font-size=\"14.00\">value = [0.895, 0.105]</text>\n",
              "</g>\n",
              "<!-- 0&#45;&gt;4650 -->\n",
              "<g id=\"edge8\" class=\"edge\">\n",
              "<title>0&#45;&gt;4650</title>\n",
              "<path fill=\"none\" stroke=\"black\" d=\"M429.69,-249.87C439.36,-240.92 450.35,-230.75 460.56,-221.3\"/>\n",
              "<polygon fill=\"black\" stroke=\"black\" points=\"463.22,-223.61 468.18,-214.25 458.46,-218.47 463.22,-223.61\"/>\n",
              "<text text-anchor=\"middle\" x=\"467.21\" y=\"-235.53\" font-family=\"Helvetica,sans-Serif\" font-size=\"14.00\">False</text>\n",
              "</g>\n",
              "<!-- 2 -->\n",
              "<g id=\"node3\" class=\"node\">\n",
              "<title>2</title>\n",
              "<polygon fill=\"#eb9c64\" stroke=\"black\" points=\"196,-125 0,-125 0,-72 196,-72 196,-125\"/>\n",
              "<text text-anchor=\"middle\" x=\"98\" y=\"-109.8\" font-family=\"Helvetica,sans-Serif\" font-size=\"14.00\">FIRST_CRASH_TYPE &lt;= 9.5</text>\n",
              "<text text-anchor=\"middle\" x=\"98\" y=\"-94.8\" font-family=\"Helvetica,sans-Serif\" font-size=\"14.00\">samples = 7.6%</text>\n",
              "<text text-anchor=\"middle\" x=\"98\" y=\"-79.8\" font-family=\"Helvetica,sans-Serif\" font-size=\"14.00\">value = [0.823, 0.177]</text>\n",
              "</g>\n",
              "<!-- 1&#45;&gt;2 -->\n",
              "<g id=\"edge2\" class=\"edge\">\n",
              "<title>1&#45;&gt;2</title>\n",
              "<path fill=\"none\" stroke=\"black\" d=\"M247.12,-160.98C222.75,-150.94 194.61,-139.34 169.39,-128.94\"/>\n",
              "<polygon fill=\"black\" stroke=\"black\" points=\"170.46,-125.59 159.88,-125.01 167.79,-132.06 170.46,-125.59\"/>\n",
              "</g>\n",
              "<!-- 1171 -->\n",
              "<g id=\"node6\" class=\"node\">\n",
              "<title>1171</title>\n",
              "<polygon fill=\"#eeaa7a\" stroke=\"black\" points=\"403.5,-125 214.5,-125 214.5,-72 403.5,-72 403.5,-125\"/>\n",
              "<text text-anchor=\"middle\" x=\"309\" y=\"-109.8\" font-family=\"Helvetica,sans-Serif\" font-size=\"14.00\">TRAFFICWAY_TYPE &lt;= 7.5</text>\n",
              "<text text-anchor=\"middle\" x=\"309\" y=\"-94.8\" font-family=\"Helvetica,sans-Serif\" font-size=\"14.00\">samples = 17.5%</text>\n",
              "<text text-anchor=\"middle\" x=\"309\" y=\"-79.8\" font-family=\"Helvetica,sans-Serif\" font-size=\"14.00\">value = [0.752, 0.248]</text>\n",
              "</g>\n",
              "<!-- 1&#45;&gt;1171 -->\n",
              "<g id=\"edge5\" class=\"edge\">\n",
              "<title>1&#45;&gt;1171</title>\n",
              "<path fill=\"none\" stroke=\"black\" d=\"M309,-160.87C309,-152.89 309,-143.93 309,-135.38\"/>\n",
              "<polygon fill=\"black\" stroke=\"black\" points=\"312.5,-135.25 309,-125.25 305.5,-135.25 312.5,-135.25\"/>\n",
              "</g>\n",
              "<!-- 3 -->\n",
              "<g id=\"node4\" class=\"node\">\n",
              "<title>3</title>\n",
              "<polygon fill=\"#c0c0c0\" stroke=\"black\" points=\"89,-36 35,-36 35,0 89,0 89,-36\"/>\n",
              "<text text-anchor=\"middle\" x=\"62\" y=\"-14.3\" font-family=\"Helvetica,sans-Serif\" font-size=\"14.00\">(...)</text>\n",
              "</g>\n",
              "<!-- 2&#45;&gt;3 -->\n",
              "<g id=\"edge3\" class=\"edge\">\n",
              "<title>2&#45;&gt;3</title>\n",
              "<path fill=\"none\" stroke=\"black\" d=\"M86.21,-71.8C82.34,-63.35 78.03,-53.95 74.13,-45.45\"/>\n",
              "<polygon fill=\"black\" stroke=\"black\" points=\"77.3,-43.96 69.95,-36.33 70.93,-46.88 77.3,-43.96\"/>\n",
              "</g>\n",
              "<!-- 518 -->\n",
              "<g id=\"node5\" class=\"node\">\n",
              "<title>518</title>\n",
              "<polygon fill=\"#c0c0c0\" stroke=\"black\" points=\"161,-36 107,-36 107,0 161,0 161,-36\"/>\n",
              "<text text-anchor=\"middle\" x=\"134\" y=\"-14.3\" font-family=\"Helvetica,sans-Serif\" font-size=\"14.00\">(...)</text>\n",
              "</g>\n",
              "<!-- 2&#45;&gt;518 -->\n",
              "<g id=\"edge4\" class=\"edge\">\n",
              "<title>2&#45;&gt;518</title>\n",
              "<path fill=\"none\" stroke=\"black\" d=\"M109.79,-71.8C113.66,-63.35 117.97,-53.95 121.87,-45.45\"/>\n",
              "<polygon fill=\"black\" stroke=\"black\" points=\"125.07,-46.88 126.05,-36.33 118.7,-43.96 125.07,-46.88\"/>\n",
              "</g>\n",
              "<!-- 1172 -->\n",
              "<g id=\"node7\" class=\"node\">\n",
              "<title>1172</title>\n",
              "<polygon fill=\"#c0c0c0\" stroke=\"black\" points=\"311,-36 257,-36 257,0 311,0 311,-36\"/>\n",
              "<text text-anchor=\"middle\" x=\"284\" y=\"-14.3\" font-family=\"Helvetica,sans-Serif\" font-size=\"14.00\">(...)</text>\n",
              "</g>\n",
              "<!-- 1171&#45;&gt;1172 -->\n",
              "<g id=\"edge6\" class=\"edge\">\n",
              "<title>1171&#45;&gt;1172</title>\n",
              "<path fill=\"none\" stroke=\"black\" d=\"M300.81,-71.8C298.18,-63.53 295.26,-54.35 292.6,-46\"/>\n",
              "<polygon fill=\"black\" stroke=\"black\" points=\"295.89,-44.8 289.52,-36.33 289.22,-46.92 295.89,-44.8\"/>\n",
              "</g>\n",
              "<!-- 2771 -->\n",
              "<g id=\"node8\" class=\"node\">\n",
              "<title>2771</title>\n",
              "<polygon fill=\"#c0c0c0\" stroke=\"black\" points=\"383,-36 329,-36 329,0 383,0 383,-36\"/>\n",
              "<text text-anchor=\"middle\" x=\"356\" y=\"-14.3\" font-family=\"Helvetica,sans-Serif\" font-size=\"14.00\">(...)</text>\n",
              "</g>\n",
              "<!-- 1171&#45;&gt;2771 -->\n",
              "<g id=\"edge7\" class=\"edge\">\n",
              "<title>1171&#45;&gt;2771</title>\n",
              "<path fill=\"none\" stroke=\"black\" d=\"M324.39,-71.8C329.5,-63.26 335.2,-53.75 340.33,-45.17\"/>\n",
              "<polygon fill=\"black\" stroke=\"black\" points=\"343.49,-46.71 345.62,-36.33 337.48,-43.11 343.49,-46.71\"/>\n",
              "</g>\n",
              "<!-- 4651 -->\n",
              "<g id=\"node10\" class=\"node\">\n",
              "<title>4651</title>\n",
              "<polygon fill=\"#e78c4a\" stroke=\"black\" points=\"570.5,-125 421.5,-125 421.5,-72 570.5,-72 570.5,-125\"/>\n",
              "<text text-anchor=\"middle\" x=\"496\" y=\"-109.8\" font-family=\"Helvetica,sans-Serif\" font-size=\"14.00\">CRASH_TYPE &lt;= 0.5</text>\n",
              "<text text-anchor=\"middle\" x=\"496\" y=\"-94.8\" font-family=\"Helvetica,sans-Serif\" font-size=\"14.00\">samples = 30.9%</text>\n",
              "<text text-anchor=\"middle\" x=\"496\" y=\"-79.8\" font-family=\"Helvetica,sans-Serif\" font-size=\"14.00\">value = [0.922, 0.078]</text>\n",
              "</g>\n",
              "<!-- 4650&#45;&gt;4651 -->\n",
              "<g id=\"edge9\" class=\"edge\">\n",
              "<title>4650&#45;&gt;4651</title>\n",
              "<path fill=\"none\" stroke=\"black\" d=\"M496,-160.87C496,-152.89 496,-143.93 496,-135.38\"/>\n",
              "<polygon fill=\"black\" stroke=\"black\" points=\"499.5,-135.25 496,-125.25 492.5,-135.25 499.5,-135.25\"/>\n",
              "</g>\n",
              "<!-- 6290 -->\n",
              "<g id=\"node13\" class=\"node\">\n",
              "<title>6290</title>\n",
              "<polygon fill=\"#e99355\" stroke=\"black\" points=\"737.5,-125 588.5,-125 588.5,-72 737.5,-72 737.5,-125\"/>\n",
              "<text text-anchor=\"middle\" x=\"663\" y=\"-109.8\" font-family=\"Helvetica,sans-Serif\" font-size=\"14.00\">CRASH_TYPE &lt;= 0.5</text>\n",
              "<text text-anchor=\"middle\" x=\"663\" y=\"-94.8\" font-family=\"Helvetica,sans-Serif\" font-size=\"14.00\">samples = 43.9%</text>\n",
              "<text text-anchor=\"middle\" x=\"663\" y=\"-79.8\" font-family=\"Helvetica,sans-Serif\" font-size=\"14.00\">value = [0.876, 0.124]</text>\n",
              "</g>\n",
              "<!-- 4650&#45;&gt;6290 -->\n",
              "<g id=\"edge12\" class=\"edge\">\n",
              "<title>4650&#45;&gt;6290</title>\n",
              "<path fill=\"none\" stroke=\"black\" d=\"M545.2,-160.87C563.89,-151.13 585.35,-139.95 604.79,-129.82\"/>\n",
              "<polygon fill=\"black\" stroke=\"black\" points=\"606.61,-132.82 613.86,-125.1 603.38,-126.62 606.61,-132.82\"/>\n",
              "</g>\n",
              "<!-- 4652 -->\n",
              "<g id=\"node11\" class=\"node\">\n",
              "<title>4652</title>\n",
              "<polygon fill=\"#c0c0c0\" stroke=\"black\" points=\"476,-36 422,-36 422,0 476,0 476,-36\"/>\n",
              "<text text-anchor=\"middle\" x=\"449\" y=\"-14.3\" font-family=\"Helvetica,sans-Serif\" font-size=\"14.00\">(...)</text>\n",
              "</g>\n",
              "<!-- 4651&#45;&gt;4652 -->\n",
              "<g id=\"edge10\" class=\"edge\">\n",
              "<title>4651&#45;&gt;4652</title>\n",
              "<path fill=\"none\" stroke=\"black\" d=\"M480.61,-71.8C475.5,-63.26 469.8,-53.75 464.67,-45.17\"/>\n",
              "<polygon fill=\"black\" stroke=\"black\" points=\"467.52,-43.11 459.38,-36.33 461.51,-46.71 467.52,-43.11\"/>\n",
              "</g>\n",
              "<!-- 6271 -->\n",
              "<g id=\"node12\" class=\"node\">\n",
              "<title>6271</title>\n",
              "<polygon fill=\"#c0c0c0\" stroke=\"black\" points=\"548,-36 494,-36 494,0 548,0 548,-36\"/>\n",
              "<text text-anchor=\"middle\" x=\"521\" y=\"-14.3\" font-family=\"Helvetica,sans-Serif\" font-size=\"14.00\">(...)</text>\n",
              "</g>\n",
              "<!-- 4651&#45;&gt;6271 -->\n",
              "<g id=\"edge11\" class=\"edge\">\n",
              "<title>4651&#45;&gt;6271</title>\n",
              "<path fill=\"none\" stroke=\"black\" d=\"M504.19,-71.8C506.82,-63.53 509.74,-54.35 512.4,-46\"/>\n",
              "<polygon fill=\"black\" stroke=\"black\" points=\"515.78,-46.92 515.48,-36.33 509.11,-44.8 515.78,-46.92\"/>\n",
              "</g>\n",
              "<!-- 6291 -->\n",
              "<g id=\"node14\" class=\"node\">\n",
              "<title>6291</title>\n",
              "<polygon fill=\"#c0c0c0\" stroke=\"black\" points=\"654,-36 600,-36 600,0 654,0 654,-36\"/>\n",
              "<text text-anchor=\"middle\" x=\"627\" y=\"-14.3\" font-family=\"Helvetica,sans-Serif\" font-size=\"14.00\">(...)</text>\n",
              "</g>\n",
              "<!-- 6290&#45;&gt;6291 -->\n",
              "<g id=\"edge13\" class=\"edge\">\n",
              "<title>6290&#45;&gt;6291</title>\n",
              "<path fill=\"none\" stroke=\"black\" d=\"M651.21,-71.8C647.34,-63.35 643.03,-53.95 639.13,-45.45\"/>\n",
              "<polygon fill=\"black\" stroke=\"black\" points=\"642.3,-43.96 634.95,-36.33 635.93,-46.88 642.3,-43.96\"/>\n",
              "</g>\n",
              "<!-- 9984 -->\n",
              "<g id=\"node15\" class=\"node\">\n",
              "<title>9984</title>\n",
              "<polygon fill=\"#c0c0c0\" stroke=\"black\" points=\"726,-36 672,-36 672,0 726,0 726,-36\"/>\n",
              "<text text-anchor=\"middle\" x=\"699\" y=\"-14.3\" font-family=\"Helvetica,sans-Serif\" font-size=\"14.00\">(...)</text>\n",
              "</g>\n",
              "<!-- 6290&#45;&gt;9984 -->\n",
              "<g id=\"edge14\" class=\"edge\">\n",
              "<title>6290&#45;&gt;9984</title>\n",
              "<path fill=\"none\" stroke=\"black\" d=\"M674.79,-71.8C678.66,-63.35 682.97,-53.95 686.87,-45.45\"/>\n",
              "<polygon fill=\"black\" stroke=\"black\" points=\"690.07,-46.88 691.05,-36.33 683.7,-43.96 690.07,-46.88\"/>\n",
              "</g>\n",
              "</g>\n",
              "</svg>\n"
            ],
            "text/plain": [
              "<graphviz.sources.Source at 0x79d15bf36830>"
            ]
          },
          "metadata": {},
          "output_type": "display_data"
        },
        {
          "data": {
            "image/svg+xml": [
              "<?xml version=\"1.0\" encoding=\"UTF-8\" standalone=\"no\"?>\n",
              "<!DOCTYPE svg PUBLIC \"-//W3C//DTD SVG 1.1//EN\"\n",
              " \"http://www.w3.org/Graphics/SVG/1.1/DTD/svg11.dtd\">\n",
              "<!-- Generated by graphviz version 2.43.0 (0)\n",
              " -->\n",
              "<!-- Title: Tree Pages: 1 -->\n",
              "<svg width=\"797pt\" height=\"311pt\"\n",
              " viewBox=\"0.00 0.00 796.50 311.00\" xmlns=\"http://www.w3.org/2000/svg\" xmlns:xlink=\"http://www.w3.org/1999/xlink\">\n",
              "<g id=\"graph0\" class=\"graph\" transform=\"scale(1 1) rotate(0) translate(4 307)\">\n",
              "<title>Tree</title>\n",
              "<polygon fill=\"white\" stroke=\"transparent\" points=\"-4,4 -4,-307 792.5,-307 792.5,4 -4,4\"/>\n",
              "<!-- 0 -->\n",
              "<g id=\"node1\" class=\"node\">\n",
              "<title>0</title>\n",
              "<polygon fill=\"#e99558\" stroke=\"black\" points=\"467.5,-303 271.5,-303 271.5,-250 467.5,-250 467.5,-303\"/>\n",
              "<text text-anchor=\"middle\" x=\"369.5\" y=\"-287.8\" font-family=\"Helvetica,sans-Serif\" font-size=\"14.00\">FIRST_CRASH_TYPE &lt;= 3.5</text>\n",
              "<text text-anchor=\"middle\" x=\"369.5\" y=\"-272.8\" font-family=\"Helvetica,sans-Serif\" font-size=\"14.00\">samples = 100.0%</text>\n",
              "<text text-anchor=\"middle\" x=\"369.5\" y=\"-257.8\" font-family=\"Helvetica,sans-Serif\" font-size=\"14.00\">value = [0.864, 0.136]</text>\n",
              "</g>\n",
              "<!-- 1 -->\n",
              "<g id=\"node2\" class=\"node\">\n",
              "<title>1</title>\n",
              "<polygon fill=\"#eca16c\" stroke=\"black\" points=\"337,-214 190,-214 190,-161 337,-161 337,-214\"/>\n",
              "<text text-anchor=\"middle\" x=\"263.5\" y=\"-198.8\" font-family=\"Helvetica,sans-Serif\" font-size=\"14.00\">DAMAGE &lt;= 1.5</text>\n",
              "<text text-anchor=\"middle\" x=\"263.5\" y=\"-183.8\" font-family=\"Helvetica,sans-Serif\" font-size=\"14.00\">samples = 16.4%</text>\n",
              "<text text-anchor=\"middle\" x=\"263.5\" y=\"-168.8\" font-family=\"Helvetica,sans-Serif\" font-size=\"14.00\">value = [0.795, 0.205]</text>\n",
              "</g>\n",
              "<!-- 0&#45;&gt;1 -->\n",
              "<g id=\"edge1\" class=\"edge\">\n",
              "<title>0&#45;&gt;1</title>\n",
              "<path fill=\"none\" stroke=\"black\" d=\"M338.27,-249.87C327.16,-240.75 314.49,-230.35 302.79,-220.75\"/>\n",
              "<polygon fill=\"black\" stroke=\"black\" points=\"304.82,-217.89 294.87,-214.25 300.38,-223.3 304.82,-217.89\"/>\n",
              "<text text-anchor=\"middle\" x=\"297.32\" y=\"-235.43\" font-family=\"Helvetica,sans-Serif\" font-size=\"14.00\">True</text>\n",
              "</g>\n",
              "<!-- 3684 -->\n",
              "<g id=\"node9\" class=\"node\">\n",
              "<title>3684</title>\n",
              "<polygon fill=\"#e99355\" stroke=\"black\" points=\"581,-214 372,-214 372,-161 581,-161 581,-214\"/>\n",
              "<text text-anchor=\"middle\" x=\"476.5\" y=\"-198.8\" font-family=\"Helvetica,sans-Serif\" font-size=\"14.00\">LIGHTING_CONDITION &lt;= 4.5</text>\n",
              "<text text-anchor=\"middle\" x=\"476.5\" y=\"-183.8\" font-family=\"Helvetica,sans-Serif\" font-size=\"14.00\">samples = 83.6%</text>\n",
              "<text text-anchor=\"middle\" x=\"476.5\" y=\"-168.8\" font-family=\"Helvetica,sans-Serif\" font-size=\"14.00\">value = [0.877, 0.123]</text>\n",
              "</g>\n",
              "<!-- 0&#45;&gt;3684 -->\n",
              "<g id=\"edge8\" class=\"edge\">\n",
              "<title>0&#45;&gt;3684</title>\n",
              "<path fill=\"none\" stroke=\"black\" d=\"M401.02,-249.87C412.24,-240.75 425.02,-230.35 436.84,-220.75\"/>\n",
              "<polygon fill=\"black\" stroke=\"black\" points=\"439.28,-223.27 444.83,-214.25 434.86,-217.84 439.28,-223.27\"/>\n",
              "<text text-anchor=\"middle\" x=\"442.27\" y=\"-235.42\" font-family=\"Helvetica,sans-Serif\" font-size=\"14.00\">False</text>\n",
              "</g>\n",
              "<!-- 2 -->\n",
              "<g id=\"node3\" class=\"node\">\n",
              "<title>2</title>\n",
              "<polygon fill=\"#e78946\" stroke=\"black\" points=\"149,-125 0,-125 0,-72 149,-72 149,-125\"/>\n",
              "<text text-anchor=\"middle\" x=\"74.5\" y=\"-109.8\" font-family=\"Helvetica,sans-Serif\" font-size=\"14.00\">CRASH_TYPE &lt;= 0.5</text>\n",
              "<text text-anchor=\"middle\" x=\"74.5\" y=\"-94.8\" font-family=\"Helvetica,sans-Serif\" font-size=\"14.00\">samples = 4.1%</text>\n",
              "<text text-anchor=\"middle\" x=\"74.5\" y=\"-79.8\" font-family=\"Helvetica,sans-Serif\" font-size=\"14.00\">value = [0.937, 0.063]</text>\n",
              "</g>\n",
              "<!-- 1&#45;&gt;2 -->\n",
              "<g id=\"edge2\" class=\"edge\">\n",
              "<title>1&#45;&gt;2</title>\n",
              "<path fill=\"none\" stroke=\"black\" d=\"M208.07,-160.98C186.44,-151.03 161.48,-139.54 139.04,-129.21\"/>\n",
              "<polygon fill=\"black\" stroke=\"black\" points=\"140.48,-126.02 129.93,-125.01 137.55,-132.38 140.48,-126.02\"/>\n",
              "</g>\n",
              "<!-- 853 -->\n",
              "<g id=\"node6\" class=\"node\">\n",
              "<title>853</title>\n",
              "<polygon fill=\"#eeac7c\" stroke=\"black\" points=\"360.5,-125 166.5,-125 166.5,-72 360.5,-72 360.5,-125\"/>\n",
              "<text text-anchor=\"middle\" x=\"263.5\" y=\"-109.8\" font-family=\"Helvetica,sans-Serif\" font-size=\"14.00\">DEVICE_CONDITION &lt;= 2.5</text>\n",
              "<text text-anchor=\"middle\" x=\"263.5\" y=\"-94.8\" font-family=\"Helvetica,sans-Serif\" font-size=\"14.00\">samples = 12.3%</text>\n",
              "<text text-anchor=\"middle\" x=\"263.5\" y=\"-79.8\" font-family=\"Helvetica,sans-Serif\" font-size=\"14.00\">value = [0.748, 0.252]</text>\n",
              "</g>\n",
              "<!-- 1&#45;&gt;853 -->\n",
              "<g id=\"edge5\" class=\"edge\">\n",
              "<title>1&#45;&gt;853</title>\n",
              "<path fill=\"none\" stroke=\"black\" d=\"M263.5,-160.87C263.5,-152.89 263.5,-143.93 263.5,-135.38\"/>\n",
              "<polygon fill=\"black\" stroke=\"black\" points=\"267,-135.25 263.5,-125.25 260,-135.25 267,-135.25\"/>\n",
              "</g>\n",
              "<!-- 3 -->\n",
              "<g id=\"node4\" class=\"node\">\n",
              "<title>3</title>\n",
              "<polygon fill=\"#c0c0c0\" stroke=\"black\" points=\"77.5,-36 23.5,-36 23.5,0 77.5,0 77.5,-36\"/>\n",
              "<text text-anchor=\"middle\" x=\"50.5\" y=\"-14.3\" font-family=\"Helvetica,sans-Serif\" font-size=\"14.00\">(...)</text>\n",
              "</g>\n",
              "<!-- 2&#45;&gt;3 -->\n",
              "<g id=\"edge3\" class=\"edge\">\n",
              "<title>2&#45;&gt;3</title>\n",
              "<path fill=\"none\" stroke=\"black\" d=\"M66.64,-71.8C64.11,-63.53 61.31,-54.35 58.75,-46\"/>\n",
              "<polygon fill=\"black\" stroke=\"black\" points=\"62.07,-44.87 55.8,-36.33 55.38,-46.92 62.07,-44.87\"/>\n",
              "</g>\n",
              "<!-- 842 -->\n",
              "<g id=\"node5\" class=\"node\">\n",
              "<title>842</title>\n",
              "<polygon fill=\"#c0c0c0\" stroke=\"black\" points=\"149.5,-36 95.5,-36 95.5,0 149.5,0 149.5,-36\"/>\n",
              "<text text-anchor=\"middle\" x=\"122.5\" y=\"-14.3\" font-family=\"Helvetica,sans-Serif\" font-size=\"14.00\">(...)</text>\n",
              "</g>\n",
              "<!-- 2&#45;&gt;842 -->\n",
              "<g id=\"edge4\" class=\"edge\">\n",
              "<title>2&#45;&gt;842</title>\n",
              "<path fill=\"none\" stroke=\"black\" d=\"M90.22,-71.8C95.49,-63.17 101.38,-53.54 106.66,-44.9\"/>\n",
              "<polygon fill=\"black\" stroke=\"black\" points=\"109.67,-46.69 111.9,-36.33 103.7,-43.04 109.67,-46.69\"/>\n",
              "</g>\n",
              "<!-- 854 -->\n",
              "<g id=\"node7\" class=\"node\">\n",
              "<title>854</title>\n",
              "<polygon fill=\"#c0c0c0\" stroke=\"black\" points=\"242.5,-36 188.5,-36 188.5,0 242.5,0 242.5,-36\"/>\n",
              "<text text-anchor=\"middle\" x=\"215.5\" y=\"-14.3\" font-family=\"Helvetica,sans-Serif\" font-size=\"14.00\">(...)</text>\n",
              "</g>\n",
              "<!-- 853&#45;&gt;854 -->\n",
              "<g id=\"edge6\" class=\"edge\">\n",
              "<title>853&#45;&gt;854</title>\n",
              "<path fill=\"none\" stroke=\"black\" d=\"M247.78,-71.8C242.51,-63.17 236.62,-53.54 231.34,-44.9\"/>\n",
              "<polygon fill=\"black\" stroke=\"black\" points=\"234.3,-43.04 226.1,-36.33 228.33,-46.69 234.3,-43.04\"/>\n",
              "</g>\n",
              "<!-- 2159 -->\n",
              "<g id=\"node8\" class=\"node\">\n",
              "<title>2159</title>\n",
              "<polygon fill=\"#c0c0c0\" stroke=\"black\" points=\"314.5,-36 260.5,-36 260.5,0 314.5,0 314.5,-36\"/>\n",
              "<text text-anchor=\"middle\" x=\"287.5\" y=\"-14.3\" font-family=\"Helvetica,sans-Serif\" font-size=\"14.00\">(...)</text>\n",
              "</g>\n",
              "<!-- 853&#45;&gt;2159 -->\n",
              "<g id=\"edge7\" class=\"edge\">\n",
              "<title>853&#45;&gt;2159</title>\n",
              "<path fill=\"none\" stroke=\"black\" d=\"M271.36,-71.8C273.89,-63.53 276.69,-54.35 279.25,-46\"/>\n",
              "<polygon fill=\"black\" stroke=\"black\" points=\"282.62,-46.92 282.2,-36.33 275.93,-44.87 282.62,-46.92\"/>\n",
              "</g>\n",
              "<!-- 3685 -->\n",
              "<g id=\"node10\" class=\"node\">\n",
              "<title>3685</title>\n",
              "<polygon fill=\"#e99356\" stroke=\"black\" points=\"574.5,-125 378.5,-125 378.5,-72 574.5,-72 574.5,-125\"/>\n",
              "<text text-anchor=\"middle\" x=\"476.5\" y=\"-109.8\" font-family=\"Helvetica,sans-Serif\" font-size=\"14.00\">FIRST_CRASH_TYPE &lt;= 7.5</text>\n",
              "<text text-anchor=\"middle\" x=\"476.5\" y=\"-94.8\" font-family=\"Helvetica,sans-Serif\" font-size=\"14.00\">samples = 79.6%</text>\n",
              "<text text-anchor=\"middle\" x=\"476.5\" y=\"-79.8\" font-family=\"Helvetica,sans-Serif\" font-size=\"14.00\">value = [0.873, 0.127]</text>\n",
              "</g>\n",
              "<!-- 3684&#45;&gt;3685 -->\n",
              "<g id=\"edge9\" class=\"edge\">\n",
              "<title>3684&#45;&gt;3685</title>\n",
              "<path fill=\"none\" stroke=\"black\" d=\"M476.5,-160.87C476.5,-152.89 476.5,-143.93 476.5,-135.38\"/>\n",
              "<polygon fill=\"black\" stroke=\"black\" points=\"480,-135.25 476.5,-125.25 473,-135.25 480,-135.25\"/>\n",
              "</g>\n",
              "<!-- 7750 -->\n",
              "<g id=\"node13\" class=\"node\">\n",
              "<title>7750</title>\n",
              "<polygon fill=\"#e6853f\" stroke=\"black\" points=\"788.5,-125 592.5,-125 592.5,-72 788.5,-72 788.5,-125\"/>\n",
              "<text text-anchor=\"middle\" x=\"690.5\" y=\"-109.8\" font-family=\"Helvetica,sans-Serif\" font-size=\"14.00\">FIRST_CRASH_TYPE &lt;= 7.5</text>\n",
              "<text text-anchor=\"middle\" x=\"690.5\" y=\"-94.8\" font-family=\"Helvetica,sans-Serif\" font-size=\"14.00\">samples = 3.9%</text>\n",
              "<text text-anchor=\"middle\" x=\"690.5\" y=\"-79.8\" font-family=\"Helvetica,sans-Serif\" font-size=\"14.00\">value = [0.969, 0.031]</text>\n",
              "</g>\n",
              "<!-- 3684&#45;&gt;7750 -->\n",
              "<g id=\"edge12\" class=\"edge\">\n",
              "<title>3684&#45;&gt;7750</title>\n",
              "<path fill=\"none\" stroke=\"black\" d=\"M539.26,-160.98C564.09,-150.89 592.77,-139.23 618.43,-128.8\"/>\n",
              "<polygon fill=\"black\" stroke=\"black\" points=\"619.79,-132.02 627.74,-125.01 617.16,-125.54 619.79,-132.02\"/>\n",
              "</g>\n",
              "<!-- 3686 -->\n",
              "<g id=\"node11\" class=\"node\">\n",
              "<title>3686</title>\n",
              "<polygon fill=\"#c0c0c0\" stroke=\"black\" points=\"467.5,-36 413.5,-36 413.5,0 467.5,0 467.5,-36\"/>\n",
              "<text text-anchor=\"middle\" x=\"440.5\" y=\"-14.3\" font-family=\"Helvetica,sans-Serif\" font-size=\"14.00\">(...)</text>\n",
              "</g>\n",
              "<!-- 3685&#45;&gt;3686 -->\n",
              "<g id=\"edge10\" class=\"edge\">\n",
              "<title>3685&#45;&gt;3686</title>\n",
              "<path fill=\"none\" stroke=\"black\" d=\"M464.71,-71.8C460.84,-63.35 456.53,-53.95 452.63,-45.45\"/>\n",
              "<polygon fill=\"black\" stroke=\"black\" points=\"455.8,-43.96 448.45,-36.33 449.43,-46.88 455.8,-43.96\"/>\n",
              "</g>\n",
              "<!-- 5537 -->\n",
              "<g id=\"node12\" class=\"node\">\n",
              "<title>5537</title>\n",
              "<polygon fill=\"#c0c0c0\" stroke=\"black\" points=\"539.5,-36 485.5,-36 485.5,0 539.5,0 539.5,-36\"/>\n",
              "<text text-anchor=\"middle\" x=\"512.5\" y=\"-14.3\" font-family=\"Helvetica,sans-Serif\" font-size=\"14.00\">(...)</text>\n",
              "</g>\n",
              "<!-- 3685&#45;&gt;5537 -->\n",
              "<g id=\"edge11\" class=\"edge\">\n",
              "<title>3685&#45;&gt;5537</title>\n",
              "<path fill=\"none\" stroke=\"black\" d=\"M488.29,-71.8C492.16,-63.35 496.47,-53.95 500.37,-45.45\"/>\n",
              "<polygon fill=\"black\" stroke=\"black\" points=\"503.57,-46.88 504.55,-36.33 497.2,-43.96 503.57,-46.88\"/>\n",
              "</g>\n",
              "<!-- 7751 -->\n",
              "<g id=\"node14\" class=\"node\">\n",
              "<title>7751</title>\n",
              "<polygon fill=\"#c0c0c0\" stroke=\"black\" points=\"681.5,-36 627.5,-36 627.5,0 681.5,0 681.5,-36\"/>\n",
              "<text text-anchor=\"middle\" x=\"654.5\" y=\"-14.3\" font-family=\"Helvetica,sans-Serif\" font-size=\"14.00\">(...)</text>\n",
              "</g>\n",
              "<!-- 7750&#45;&gt;7751 -->\n",
              "<g id=\"edge13\" class=\"edge\">\n",
              "<title>7750&#45;&gt;7751</title>\n",
              "<path fill=\"none\" stroke=\"black\" d=\"M678.71,-71.8C674.84,-63.35 670.53,-53.95 666.63,-45.45\"/>\n",
              "<polygon fill=\"black\" stroke=\"black\" points=\"669.8,-43.96 662.45,-36.33 663.43,-46.88 669.8,-43.96\"/>\n",
              "</g>\n",
              "<!-- 7910 -->\n",
              "<g id=\"node15\" class=\"node\">\n",
              "<title>7910</title>\n",
              "<polygon fill=\"#c0c0c0\" stroke=\"black\" points=\"753.5,-36 699.5,-36 699.5,0 753.5,0 753.5,-36\"/>\n",
              "<text text-anchor=\"middle\" x=\"726.5\" y=\"-14.3\" font-family=\"Helvetica,sans-Serif\" font-size=\"14.00\">(...)</text>\n",
              "</g>\n",
              "<!-- 7750&#45;&gt;7910 -->\n",
              "<g id=\"edge14\" class=\"edge\">\n",
              "<title>7750&#45;&gt;7910</title>\n",
              "<path fill=\"none\" stroke=\"black\" d=\"M702.29,-71.8C706.16,-63.35 710.47,-53.95 714.37,-45.45\"/>\n",
              "<polygon fill=\"black\" stroke=\"black\" points=\"717.57,-46.88 718.55,-36.33 711.2,-43.96 717.57,-46.88\"/>\n",
              "</g>\n",
              "</g>\n",
              "</svg>\n"
            ],
            "text/plain": [
              "<graphviz.sources.Source at 0x79d15bf35570>"
            ]
          },
          "metadata": {},
          "output_type": "display_data"
        },
        {
          "data": {
            "image/svg+xml": [
              "<?xml version=\"1.0\" encoding=\"UTF-8\" standalone=\"no\"?>\n",
              "<!DOCTYPE svg PUBLIC \"-//W3C//DTD SVG 1.1//EN\"\n",
              " \"http://www.w3.org/Graphics/SVG/1.1/DTD/svg11.dtd\">\n",
              "<!-- Generated by graphviz version 2.43.0 (0)\n",
              " -->\n",
              "<!-- Title: Tree Pages: 1 -->\n",
              "<svg width=\"676pt\" height=\"311pt\"\n",
              " viewBox=\"0.00 0.00 675.50 311.00\" xmlns=\"http://www.w3.org/2000/svg\" xmlns:xlink=\"http://www.w3.org/1999/xlink\">\n",
              "<g id=\"graph0\" class=\"graph\" transform=\"scale(1 1) rotate(0) translate(4 307)\">\n",
              "<title>Tree</title>\n",
              "<polygon fill=\"white\" stroke=\"transparent\" points=\"-4,4 -4,-307 671.5,-307 671.5,4 -4,4\"/>\n",
              "<!-- 0 -->\n",
              "<g id=\"node1\" class=\"node\">\n",
              "<title>0</title>\n",
              "<polygon fill=\"#e99558\" stroke=\"black\" points=\"456,-303 207,-303 207,-250 456,-250 456,-303\"/>\n",
              "<text text-anchor=\"middle\" x=\"331.5\" y=\"-287.8\" font-family=\"Helvetica,sans-Serif\" font-size=\"14.00\">TRAFFIC_CONTROL_DEVICE &lt;= 6.5</text>\n",
              "<text text-anchor=\"middle\" x=\"331.5\" y=\"-272.8\" font-family=\"Helvetica,sans-Serif\" font-size=\"14.00\">samples = 100.0%</text>\n",
              "<text text-anchor=\"middle\" x=\"331.5\" y=\"-257.8\" font-family=\"Helvetica,sans-Serif\" font-size=\"14.00\">value = [0.864, 0.136]</text>\n",
              "</g>\n",
              "<!-- 1 -->\n",
              "<g id=\"node2\" class=\"node\">\n",
              "<title>1</title>\n",
              "<polygon fill=\"#e88f50\" stroke=\"black\" points=\"338,-214 129,-214 129,-161 338,-161 338,-214\"/>\n",
              "<text text-anchor=\"middle\" x=\"233.5\" y=\"-198.8\" font-family=\"Helvetica,sans-Serif\" font-size=\"14.00\">LIGHTING_CONDITION &lt;= 4.5</text>\n",
              "<text text-anchor=\"middle\" x=\"233.5\" y=\"-183.8\" font-family=\"Helvetica,sans-Serif\" font-size=\"14.00\">samples = 58.0%</text>\n",
              "<text text-anchor=\"middle\" x=\"233.5\" y=\"-168.8\" font-family=\"Helvetica,sans-Serif\" font-size=\"14.00\">value = [0.898, 0.102]</text>\n",
              "</g>\n",
              "<!-- 0&#45;&gt;1 -->\n",
              "<g id=\"edge1\" class=\"edge\">\n",
              "<title>0&#45;&gt;1</title>\n",
              "<path fill=\"none\" stroke=\"black\" d=\"M302.63,-249.87C292.45,-240.83 280.87,-230.55 270.14,-221.03\"/>\n",
              "<polygon fill=\"black\" stroke=\"black\" points=\"272.31,-218.27 262.51,-214.25 267.66,-223.51 272.31,-218.27\"/>\n",
              "<text text-anchor=\"middle\" x=\"263.99\" y=\"-235.51\" font-family=\"Helvetica,sans-Serif\" font-size=\"14.00\">True</text>\n",
              "</g>\n",
              "<!-- 4080 -->\n",
              "<g id=\"node9\" class=\"node\">\n",
              "<title>4080</title>\n",
              "<polygon fill=\"#eb9d66\" stroke=\"black\" points=\"505,-214 356,-214 356,-161 505,-161 505,-214\"/>\n",
              "<text text-anchor=\"middle\" x=\"430.5\" y=\"-198.8\" font-family=\"Helvetica,sans-Serif\" font-size=\"14.00\">CRASH_TYPE &lt;= 0.5</text>\n",
              "<text text-anchor=\"middle\" x=\"430.5\" y=\"-183.8\" font-family=\"Helvetica,sans-Serif\" font-size=\"14.00\">samples = 42.0%</text>\n",
              "<text text-anchor=\"middle\" x=\"430.5\" y=\"-168.8\" font-family=\"Helvetica,sans-Serif\" font-size=\"14.00\">value = [0.816, 0.184]</text>\n",
              "</g>\n",
              "<!-- 0&#45;&gt;4080 -->\n",
              "<g id=\"edge8\" class=\"edge\">\n",
              "<title>0&#45;&gt;4080</title>\n",
              "<path fill=\"none\" stroke=\"black\" d=\"M360.67,-249.87C370.95,-240.83 382.65,-230.55 393.49,-221.03\"/>\n",
              "<polygon fill=\"black\" stroke=\"black\" points=\"396,-223.48 401.2,-214.25 391.38,-218.22 396,-223.48\"/>\n",
              "<text text-anchor=\"middle\" x=\"399.59\" y=\"-235.5\" font-family=\"Helvetica,sans-Serif\" font-size=\"14.00\">False</text>\n",
              "</g>\n",
              "<!-- 2 -->\n",
              "<g id=\"node3\" class=\"node\">\n",
              "<title>2</title>\n",
              "<polygon fill=\"#e89050\" stroke=\"black\" points=\"149,-125 0,-125 0,-72 149,-72 149,-125\"/>\n",
              "<text text-anchor=\"middle\" x=\"74.5\" y=\"-109.8\" font-family=\"Helvetica,sans-Serif\" font-size=\"14.00\">CRASH_TYPE &lt;= 0.5</text>\n",
              "<text text-anchor=\"middle\" x=\"74.5\" y=\"-94.8\" font-family=\"Helvetica,sans-Serif\" font-size=\"14.00\">samples = 55.5%</text>\n",
              "<text text-anchor=\"middle\" x=\"74.5\" y=\"-79.8\" font-family=\"Helvetica,sans-Serif\" font-size=\"14.00\">value = [0.894, 0.106]</text>\n",
              "</g>\n",
              "<!-- 1&#45;&gt;2 -->\n",
              "<g id=\"edge2\" class=\"edge\">\n",
              "<title>1&#45;&gt;2</title>\n",
              "<path fill=\"none\" stroke=\"black\" d=\"M186.65,-160.87C168.94,-151.18 148.61,-140.05 130.17,-129.96\"/>\n",
              "<polygon fill=\"black\" stroke=\"black\" points=\"131.74,-126.83 121.28,-125.1 128.38,-132.97 131.74,-126.83\"/>\n",
              "</g>\n",
              "<!-- 3715 -->\n",
              "<g id=\"node6\" class=\"node\">\n",
              "<title>3715</title>\n",
              "<polygon fill=\"#e5833d\" stroke=\"black\" points=\"314,-125 167,-125 167,-72 314,-72 314,-125\"/>\n",
              "<text text-anchor=\"middle\" x=\"240.5\" y=\"-109.8\" font-family=\"Helvetica,sans-Serif\" font-size=\"14.00\">DAMAGE &lt;= 0.5</text>\n",
              "<text text-anchor=\"middle\" x=\"240.5\" y=\"-94.8\" font-family=\"Helvetica,sans-Serif\" font-size=\"14.00\">samples = 2.5%</text>\n",
              "<text text-anchor=\"middle\" x=\"240.5\" y=\"-79.8\" font-family=\"Helvetica,sans-Serif\" font-size=\"14.00\">value = [0.982, 0.018]</text>\n",
              "</g>\n",
              "<!-- 1&#45;&gt;3715 -->\n",
              "<g id=\"edge5\" class=\"edge\">\n",
              "<title>1&#45;&gt;3715</title>\n",
              "<path fill=\"none\" stroke=\"black\" d=\"M235.56,-160.87C236.2,-152.89 236.93,-143.93 237.61,-135.38\"/>\n",
              "<polygon fill=\"black\" stroke=\"black\" points=\"241.11,-135.5 238.43,-125.25 234.14,-134.94 241.11,-135.5\"/>\n",
              "</g>\n",
              "<!-- 3 -->\n",
              "<g id=\"node4\" class=\"node\">\n",
              "<title>3</title>\n",
              "<polygon fill=\"#c0c0c0\" stroke=\"black\" points=\"65.5,-36 11.5,-36 11.5,0 65.5,0 65.5,-36\"/>\n",
              "<text text-anchor=\"middle\" x=\"38.5\" y=\"-14.3\" font-family=\"Helvetica,sans-Serif\" font-size=\"14.00\">(...)</text>\n",
              "</g>\n",
              "<!-- 2&#45;&gt;3 -->\n",
              "<g id=\"edge3\" class=\"edge\">\n",
              "<title>2&#45;&gt;3</title>\n",
              "<path fill=\"none\" stroke=\"black\" d=\"M62.71,-71.8C58.84,-63.35 54.53,-53.95 50.63,-45.45\"/>\n",
              "<polygon fill=\"black\" stroke=\"black\" points=\"53.8,-43.96 46.45,-36.33 47.43,-46.88 53.8,-43.96\"/>\n",
              "</g>\n",
              "<!-- 3714 -->\n",
              "<g id=\"node5\" class=\"node\">\n",
              "<title>3714</title>\n",
              "<polygon fill=\"#c0c0c0\" stroke=\"black\" points=\"137.5,-36 83.5,-36 83.5,0 137.5,0 137.5,-36\"/>\n",
              "<text text-anchor=\"middle\" x=\"110.5\" y=\"-14.3\" font-family=\"Helvetica,sans-Serif\" font-size=\"14.00\">(...)</text>\n",
              "</g>\n",
              "<!-- 2&#45;&gt;3714 -->\n",
              "<g id=\"edge4\" class=\"edge\">\n",
              "<title>2&#45;&gt;3714</title>\n",
              "<path fill=\"none\" stroke=\"black\" d=\"M86.29,-71.8C90.16,-63.35 94.47,-53.95 98.37,-45.45\"/>\n",
              "<polygon fill=\"black\" stroke=\"black\" points=\"101.57,-46.88 102.55,-36.33 95.2,-43.96 101.57,-46.88\"/>\n",
              "</g>\n",
              "<!-- 3716 -->\n",
              "<g id=\"node7\" class=\"node\">\n",
              "<title>3716</title>\n",
              "<polygon fill=\"#c0c0c0\" stroke=\"black\" points=\"250.5,-36 196.5,-36 196.5,0 250.5,0 250.5,-36\"/>\n",
              "<text text-anchor=\"middle\" x=\"223.5\" y=\"-14.3\" font-family=\"Helvetica,sans-Serif\" font-size=\"14.00\">(...)</text>\n",
              "</g>\n",
              "<!-- 3715&#45;&gt;3716 -->\n",
              "<g id=\"edge6\" class=\"edge\">\n",
              "<title>3715&#45;&gt;3716</title>\n",
              "<path fill=\"none\" stroke=\"black\" d=\"M234.93,-71.8C233.16,-63.62 231.2,-54.55 229.41,-46.27\"/>\n",
              "<polygon fill=\"black\" stroke=\"black\" points=\"232.79,-45.36 227.25,-36.33 225.95,-46.84 232.79,-45.36\"/>\n",
              "</g>\n",
              "<!-- 3775 -->\n",
              "<g id=\"node8\" class=\"node\">\n",
              "<title>3775</title>\n",
              "<polygon fill=\"#c0c0c0\" stroke=\"black\" points=\"322.5,-36 268.5,-36 268.5,0 322.5,0 322.5,-36\"/>\n",
              "<text text-anchor=\"middle\" x=\"295.5\" y=\"-14.3\" font-family=\"Helvetica,sans-Serif\" font-size=\"14.00\">(...)</text>\n",
              "</g>\n",
              "<!-- 3715&#45;&gt;3775 -->\n",
              "<g id=\"edge7\" class=\"edge\">\n",
              "<title>3715&#45;&gt;3775</title>\n",
              "<path fill=\"none\" stroke=\"black\" d=\"M258.51,-71.8C264.62,-63.08 271.44,-53.34 277.54,-44.63\"/>\n",
              "<polygon fill=\"black\" stroke=\"black\" points=\"280.49,-46.53 283.36,-36.33 274.75,-42.51 280.49,-46.53\"/>\n",
              "</g>\n",
              "<!-- 4081 -->\n",
              "<g id=\"node10\" class=\"node\">\n",
              "<title>4081</title>\n",
              "<polygon fill=\"#c5e2f7\" stroke=\"black\" points=\"501,-125 346,-125 346,-72 501,-72 501,-125\"/>\n",
              "<text text-anchor=\"middle\" x=\"423.5\" y=\"-109.8\" font-family=\"Helvetica,sans-Serif\" font-size=\"14.00\">CRASH_HOUR &lt;= 5.5</text>\n",
              "<text text-anchor=\"middle\" x=\"423.5\" y=\"-94.8\" font-family=\"Helvetica,sans-Serif\" font-size=\"14.00\">samples = 13.1%</text>\n",
              "<text text-anchor=\"middle\" x=\"423.5\" y=\"-79.8\" font-family=\"Helvetica,sans-Serif\" font-size=\"14.00\">value = [0.414, 0.586]</text>\n",
              "</g>\n",
              "<!-- 4080&#45;&gt;4081 -->\n",
              "<g id=\"edge9\" class=\"edge\">\n",
              "<title>4080&#45;&gt;4081</title>\n",
              "<path fill=\"none\" stroke=\"black\" d=\"M428.44,-160.87C427.8,-152.89 427.07,-143.93 426.39,-135.38\"/>\n",
              "<polygon fill=\"black\" stroke=\"black\" points=\"429.86,-134.94 425.57,-125.25 422.89,-135.5 429.86,-134.94\"/>\n",
              "</g>\n",
              "<!-- 7658 -->\n",
              "<g id=\"node13\" class=\"node\">\n",
              "<title>7658</title>\n",
              "<polygon fill=\"#e58139\" stroke=\"black\" points=\"667.5,-125 519.5,-125 519.5,-72 667.5,-72 667.5,-125\"/>\n",
              "<text text-anchor=\"middle\" x=\"593.5\" y=\"-109.8\" font-family=\"Helvetica,sans-Serif\" font-size=\"14.00\">SPEED_LIMIT &lt;= 1.5</text>\n",
              "<text text-anchor=\"middle\" x=\"593.5\" y=\"-94.8\" font-family=\"Helvetica,sans-Serif\" font-size=\"14.00\">samples = 28.8%</text>\n",
              "<text text-anchor=\"middle\" x=\"593.5\" y=\"-79.8\" font-family=\"Helvetica,sans-Serif\" font-size=\"14.00\">value = [1.0, 0.0]</text>\n",
              "</g>\n",
              "<!-- 4080&#45;&gt;7658 -->\n",
              "<g id=\"edge12\" class=\"edge\">\n",
              "<title>4080&#45;&gt;7658</title>\n",
              "<path fill=\"none\" stroke=\"black\" d=\"M478.52,-160.87C496.76,-151.13 517.71,-139.95 536.69,-129.82\"/>\n",
              "<polygon fill=\"black\" stroke=\"black\" points=\"538.36,-132.9 545.54,-125.1 535.07,-126.72 538.36,-132.9\"/>\n",
              "</g>\n",
              "<!-- 4082 -->\n",
              "<g id=\"node11\" class=\"node\">\n",
              "<title>4082</title>\n",
              "<polygon fill=\"#c0c0c0\" stroke=\"black\" points=\"412.5,-36 358.5,-36 358.5,0 412.5,0 412.5,-36\"/>\n",
              "<text text-anchor=\"middle\" x=\"385.5\" y=\"-14.3\" font-family=\"Helvetica,sans-Serif\" font-size=\"14.00\">(...)</text>\n",
              "</g>\n",
              "<!-- 4081&#45;&gt;4082 -->\n",
              "<g id=\"edge10\" class=\"edge\">\n",
              "<title>4081&#45;&gt;4082</title>\n",
              "<path fill=\"none\" stroke=\"black\" d=\"M411.06,-71.8C406.97,-63.35 402.42,-53.95 398.3,-45.45\"/>\n",
              "<polygon fill=\"black\" stroke=\"black\" points=\"401.4,-43.81 393.89,-36.33 395.1,-46.86 401.4,-43.81\"/>\n",
              "</g>\n",
              "<!-- 5331 -->\n",
              "<g id=\"node12\" class=\"node\">\n",
              "<title>5331</title>\n",
              "<polygon fill=\"#c0c0c0\" stroke=\"black\" points=\"484.5,-36 430.5,-36 430.5,0 484.5,0 484.5,-36\"/>\n",
              "<text text-anchor=\"middle\" x=\"457.5\" y=\"-14.3\" font-family=\"Helvetica,sans-Serif\" font-size=\"14.00\">(...)</text>\n",
              "</g>\n",
              "<!-- 4081&#45;&gt;5331 -->\n",
              "<g id=\"edge11\" class=\"edge\">\n",
              "<title>4081&#45;&gt;5331</title>\n",
              "<path fill=\"none\" stroke=\"black\" d=\"M434.63,-71.8C438.25,-63.44 442.28,-54.15 445.93,-45.72\"/>\n",
              "<polygon fill=\"black\" stroke=\"black\" points=\"449.23,-46.9 449.99,-36.33 442.81,-44.12 449.23,-46.9\"/>\n",
              "</g>\n",
              "<!-- 7659 -->\n",
              "<g id=\"node14\" class=\"node\">\n",
              "<title>7659</title>\n",
              "<polygon fill=\"#c0c0c0\" stroke=\"black\" points=\"565.5,-36 511.5,-36 511.5,0 565.5,0 565.5,-36\"/>\n",
              "<text text-anchor=\"middle\" x=\"538.5\" y=\"-14.3\" font-family=\"Helvetica,sans-Serif\" font-size=\"14.00\">(...)</text>\n",
              "</g>\n",
              "<!-- 7658&#45;&gt;7659 -->\n",
              "<g id=\"edge13\" class=\"edge\">\n",
              "<title>7658&#45;&gt;7659</title>\n",
              "<path fill=\"none\" stroke=\"black\" d=\"M575.49,-71.8C569.38,-63.08 562.56,-53.34 556.46,-44.63\"/>\n",
              "<polygon fill=\"black\" stroke=\"black\" points=\"559.25,-42.51 550.64,-36.33 553.51,-46.53 559.25,-42.51\"/>\n",
              "</g>\n",
              "<!-- 7668 -->\n",
              "<g id=\"node15\" class=\"node\">\n",
              "<title>7668</title>\n",
              "<polygon fill=\"#c0c0c0\" stroke=\"black\" points=\"637.5,-36 583.5,-36 583.5,0 637.5,0 637.5,-36\"/>\n",
              "<text text-anchor=\"middle\" x=\"610.5\" y=\"-14.3\" font-family=\"Helvetica,sans-Serif\" font-size=\"14.00\">(...)</text>\n",
              "</g>\n",
              "<!-- 7658&#45;&gt;7668 -->\n",
              "<g id=\"edge14\" class=\"edge\">\n",
              "<title>7658&#45;&gt;7668</title>\n",
              "<path fill=\"none\" stroke=\"black\" d=\"M599.07,-71.8C600.84,-63.62 602.8,-54.55 604.59,-46.27\"/>\n",
              "<polygon fill=\"black\" stroke=\"black\" points=\"608.05,-46.84 606.75,-36.33 601.21,-45.36 608.05,-46.84\"/>\n",
              "</g>\n",
              "</g>\n",
              "</svg>\n"
            ],
            "text/plain": [
              "<graphviz.sources.Source at 0x79d15bf36830>"
            ]
          },
          "metadata": {},
          "output_type": "display_data"
        }
      ],
      "source": [
        "# Visualizing first 3 trees upto depth 2\n",
        "for i in range(3):\n",
        "    tree = fin_clf.estimators_[i]\n",
        "    dot_data = export_graphviz(tree,\n",
        "                               feature_names=X_train.columns,\n",
        "                               filled=True,\n",
        "                               max_depth=2,\n",
        "                               impurity=False,\n",
        "                               proportion=True)\n",
        "    graph = graphviz.Source(dot_data)\n",
        "    display(graph)"
      ]
    },
    {
      "cell_type": "code",
      "execution_count": null,
      "metadata": {
        "id": "hFNsOYcno-6U"
      },
      "outputs": [],
      "source": []
    }
  ],
  "metadata": {
    "colab": {
      "provenance": []
    },
    "kernelspec": {
      "display_name": "Python 3",
      "name": "python3"
    },
    "language_info": {
      "name": "python"
    }
  },
  "nbformat": 4,
  "nbformat_minor": 0
}
